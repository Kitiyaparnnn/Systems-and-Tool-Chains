{
 "cells": [
  {
   "cell_type": "markdown",
   "metadata": {},
   "source": [
    "## Q1"
   ]
  },
  {
   "cell_type": "code",
   "execution_count": 2,
   "metadata": {},
   "outputs": [
    {
     "name": "stderr",
     "output_type": "stream",
     "text": [
      "24/10/03 19:06:14 WARN Utils: Your hostname, Kitiyas-MacBook-Air-5.local resolves to a loopback address: 127.0.0.1; using 10.0.0.134 instead (on interface en0)\n",
      "24/10/03 19:06:14 WARN Utils: Set SPARK_LOCAL_IP if you need to bind to another address\n",
      "Setting default log level to \"WARN\".\n",
      "To adjust logging level use sc.setLogLevel(newLevel). For SparkR, use setLogLevel(newLevel).\n",
      "24/10/03 19:06:15 WARN NativeCodeLoader: Unable to load native-hadoop library for your platform... using builtin-java classes where applicable\n",
      "/opt/anaconda3/envs/mlp/lib/python3.8/site-packages/pyspark/sql/context.py:113: FutureWarning: Deprecated in 3.0.0. Use SparkSession.builder.getOrCreate() instead.\n",
      "  warnings.warn(\n",
      "24/10/03 19:06:16 WARN SQLConf: The SQL config 'spark.sql.execution.arrow.enabled' has been deprecated in Spark v3.0 and may be removed in the future. Use 'spark.sql.execution.arrow.pyspark.enabled' instead of it.\n",
      "24/10/03 19:06:16 WARN SparkSession: Using an existing Spark session; only runtime SQL configurations will take effect.\n"
     ]
    }
   ],
   "source": [
    "import pyspark\n",
    "from pyspark.sql import SparkSession\n",
    "from pyspark import SparkContext, SQLContext\n",
    "\n",
    "\n",
    "appName = \"Big Data Analytics\"\n",
    "master = \"local\"\n",
    "\n",
    "# Create Configuration object for Spark.\n",
    "conf = pyspark.SparkConf()\\\n",
    ".set('spark.driver.host','127.0.0.1')\\\n",
    ".setAppName(appName)\\\n",
    ".setMaster(master)\n",
    "\n",
    "# Create Spark Context \n",
    "sc = SparkContext.getOrCreate(conf=conf)\n",
    "\n",
    "# Create SQL Context to conduct some database operations\n",
    "sqlContext = SQLContext(sc)\n",
    "\n",
    "# If you have SQL context, you create the session from the Spark Context\n",
    "spark = sqlContext.sparkSession.builder\\\n",
    ".config(\"spark.jars.packages\", \"org.postgresql:postgresql:42.2.29\") \\\n",
    ".config(\"spark.sql.execution.arrow.enabled\",\"true\")\\\n",
    ".getOrCreate() "
   ]
  },
  {
   "cell_type": "code",
   "execution_count": 3,
   "metadata": {},
   "outputs": [
    {
     "name": "stdout",
     "output_type": "stream",
     "text": [
      "43\n"
     ]
    }
   ],
   "source": [
    "# Column names\n",
    "col_names = [\n",
    "    \"duration\",\n",
    "    \"protocol_type\",\n",
    "    \"service\",\n",
    "    \"flag\",\n",
    "    \"src_bytes\",\n",
    "    \"dst_bytes\",\n",
    "    \"land\",\n",
    "    \"wrong_fragment\",\n",
    "    \"urgent\",\n",
    "    \"hot\",\n",
    "    \"num_failed_logins\",\n",
    "    \"logged_in\",\n",
    "    \"num_compromised\",\n",
    "    \"root_shell\",\n",
    "    \"su_attempted\",\n",
    "    \"num_root\",\n",
    "    \"num_file_creations\",\n",
    "    \"num_shells\",\n",
    "    \"num_access_files\",\n",
    "    \"num_outbound_cmds\",\n",
    "    \"is_host_login\",\n",
    "    \"is_guest_login\",\n",
    "    \"count\",\n",
    "    \"srv_count\",\n",
    "    \"serror_rate\",\n",
    "    \"srv_serror_rate\",\n",
    "    \"rerror_rate\",\n",
    "    \"srv_rerror_rate\",\n",
    "    \"same_srv_rate\",\n",
    "    \"diff_srv_rate\",\n",
    "    \"srv_diff_host_rate\",\n",
    "    \"dst_host_count\",\n",
    "    \"dst_host_srv_count\",\n",
    "    \"dst_host_same_srv_rate\",\n",
    "    \"dst_host_diff_srv_rate\",\n",
    "    \"dst_host_same_src_port_rate\",\n",
    "    \"dst_host_srv_diff_host_rate\",\n",
    "    \"dst_host_serror_rate\",\n",
    "    \"dst_host_srv_serror_rate\",\n",
    "    \"dst_host_rerror_rate\",\n",
    "    \"dst_host_srv_rerror_rate\",\n",
    "    \"classes\",\n",
    "    \"difficulty_level\"]\n",
    "print(len(col_names))"
   ]
  },
  {
   "cell_type": "code",
   "execution_count": 4,
   "metadata": {},
   "outputs": [
    {
     "name": "stderr",
     "output_type": "stream",
     "text": [
      "24/09/30 21:30:27 WARN SQLConf: The SQL config 'spark.sql.execution.arrow.enabled' has been deprecated in Spark v3.0 and may be removed in the future. Use 'spark.sql.execution.arrow.pyspark.enabled' instead of it.\n"
     ]
    }
   ],
   "source": [
    "# Read the train dataset\n",
    "sparkDF = spark.read.csv(\"./NSL-KDD/KDDTrain+.txt\",header=False, inferSchema= True).toDF(*col_names)"
   ]
  },
  {
   "cell_type": "code",
   "execution_count": 5,
   "metadata": {},
   "outputs": [
    {
     "name": "stdout",
     "output_type": "stream",
     "text": [
      "+--------+-------------+----------+----+---------+---------+----+--------------+------+---+-----------------+---------+---------------+----------+------------+--------+------------------+----------+----------------+-----------------+-------------+--------------+-----+---------+-----------+---------------+-----------+---------------+-------------+-------------+------------------+--------------+------------------+----------------------+----------------------+---------------------------+---------------------------+--------------------+------------------------+--------------------+------------------------+-----------+----------------+\n",
      "|duration|protocol_type|   service|flag|src_bytes|dst_bytes|land|wrong_fragment|urgent|hot|num_failed_logins|logged_in|num_compromised|root_shell|su_attempted|num_root|num_file_creations|num_shells|num_access_files|num_outbound_cmds|is_host_login|is_guest_login|count|srv_count|serror_rate|srv_serror_rate|rerror_rate|srv_rerror_rate|same_srv_rate|diff_srv_rate|srv_diff_host_rate|dst_host_count|dst_host_srv_count|dst_host_same_srv_rate|dst_host_diff_srv_rate|dst_host_same_src_port_rate|dst_host_srv_diff_host_rate|dst_host_serror_rate|dst_host_srv_serror_rate|dst_host_rerror_rate|dst_host_srv_rerror_rate|    classes|difficulty_level|\n",
      "+--------+-------------+----------+----+---------+---------+----+--------------+------+---+-----------------+---------+---------------+----------+------------+--------+------------------+----------+----------------+-----------------+-------------+--------------+-----+---------+-----------+---------------+-----------+---------------+-------------+-------------+------------------+--------------+------------------+----------------------+----------------------+---------------------------+---------------------------+--------------------+------------------------+--------------------+------------------------+-----------+----------------+\n",
      "|       0|          tcp|  ftp_data|  SF|      491|        0|   0|             0|     0|  0|                0|        0|              0|         0|           0|       0|                 0|         0|               0|                0|            0|             0|    2|        2|        0.0|            0.0|        0.0|            0.0|          1.0|          0.0|               0.0|           150|                25|                  0.17|                  0.03|                       0.17|                        0.0|                 0.0|                     0.0|                0.05|                     0.0|     normal|              20|\n",
      "|       0|          udp|     other|  SF|      146|        0|   0|             0|     0|  0|                0|        0|              0|         0|           0|       0|                 0|         0|               0|                0|            0|             0|   13|        1|        0.0|            0.0|        0.0|            0.0|         0.08|         0.15|               0.0|           255|                 1|                   0.0|                   0.6|                       0.88|                        0.0|                 0.0|                     0.0|                 0.0|                     0.0|     normal|              15|\n",
      "|       0|          tcp|   private|  S0|        0|        0|   0|             0|     0|  0|                0|        0|              0|         0|           0|       0|                 0|         0|               0|                0|            0|             0|  123|        6|        1.0|            1.0|        0.0|            0.0|         0.05|         0.07|               0.0|           255|                26|                   0.1|                  0.05|                        0.0|                        0.0|                 1.0|                     1.0|                 0.0|                     0.0|    neptune|              19|\n",
      "|       0|          tcp|      http|  SF|      232|     8153|   0|             0|     0|  0|                0|        1|              0|         0|           0|       0|                 0|         0|               0|                0|            0|             0|    5|        5|        0.2|            0.2|        0.0|            0.0|          1.0|          0.0|               0.0|            30|               255|                   1.0|                   0.0|                       0.03|                       0.04|                0.03|                    0.01|                 0.0|                    0.01|     normal|              21|\n",
      "|       0|          tcp|      http|  SF|      199|      420|   0|             0|     0|  0|                0|        1|              0|         0|           0|       0|                 0|         0|               0|                0|            0|             0|   30|       32|        0.0|            0.0|        0.0|            0.0|          1.0|          0.0|              0.09|           255|               255|                   1.0|                   0.0|                        0.0|                        0.0|                 0.0|                     0.0|                 0.0|                     0.0|     normal|              21|\n",
      "|       0|          tcp|   private| REJ|        0|        0|   0|             0|     0|  0|                0|        0|              0|         0|           0|       0|                 0|         0|               0|                0|            0|             0|  121|       19|        0.0|            0.0|        1.0|            1.0|         0.16|         0.06|               0.0|           255|                19|                  0.07|                  0.07|                        0.0|                        0.0|                 0.0|                     0.0|                 1.0|                     1.0|    neptune|              21|\n",
      "|       0|          tcp|   private|  S0|        0|        0|   0|             0|     0|  0|                0|        0|              0|         0|           0|       0|                 0|         0|               0|                0|            0|             0|  166|        9|        1.0|            1.0|        0.0|            0.0|         0.05|         0.06|               0.0|           255|                 9|                  0.04|                  0.05|                        0.0|                        0.0|                 1.0|                     1.0|                 0.0|                     0.0|    neptune|              21|\n",
      "|       0|          tcp|   private|  S0|        0|        0|   0|             0|     0|  0|                0|        0|              0|         0|           0|       0|                 0|         0|               0|                0|            0|             0|  117|       16|        1.0|            1.0|        0.0|            0.0|         0.14|         0.06|               0.0|           255|                15|                  0.06|                  0.07|                        0.0|                        0.0|                 1.0|                     1.0|                 0.0|                     0.0|    neptune|              21|\n",
      "|       0|          tcp|remote_job|  S0|        0|        0|   0|             0|     0|  0|                0|        0|              0|         0|           0|       0|                 0|         0|               0|                0|            0|             0|  270|       23|        1.0|            1.0|        0.0|            0.0|         0.09|         0.05|               0.0|           255|                23|                  0.09|                  0.05|                        0.0|                        0.0|                 1.0|                     1.0|                 0.0|                     0.0|    neptune|              21|\n",
      "|       0|          tcp|   private|  S0|        0|        0|   0|             0|     0|  0|                0|        0|              0|         0|           0|       0|                 0|         0|               0|                0|            0|             0|  133|        8|        1.0|            1.0|        0.0|            0.0|         0.06|         0.06|               0.0|           255|                13|                  0.05|                  0.06|                        0.0|                        0.0|                 1.0|                     1.0|                 0.0|                     0.0|    neptune|              21|\n",
      "|       0|          tcp|   private| REJ|        0|        0|   0|             0|     0|  0|                0|        0|              0|         0|           0|       0|                 0|         0|               0|                0|            0|             0|  205|       12|        0.0|            0.0|        1.0|            1.0|         0.06|         0.06|               0.0|           255|                12|                  0.05|                  0.07|                        0.0|                        0.0|                 0.0|                     0.0|                 1.0|                     1.0|    neptune|              21|\n",
      "|       0|          tcp|   private|  S0|        0|        0|   0|             0|     0|  0|                0|        0|              0|         0|           0|       0|                 0|         0|               0|                0|            0|             0|  199|        3|        1.0|            1.0|        0.0|            0.0|         0.02|         0.06|               0.0|           255|                13|                  0.05|                  0.07|                        0.0|                        0.0|                 1.0|                     1.0|                 0.0|                     0.0|    neptune|              21|\n",
      "|       0|          tcp|      http|  SF|      287|     2251|   0|             0|     0|  0|                0|        1|              0|         0|           0|       0|                 0|         0|               0|                0|            0|             0|    3|        7|        0.0|            0.0|        0.0|            0.0|          1.0|          0.0|              0.43|             8|               219|                   1.0|                   0.0|                       0.12|                       0.03|                 0.0|                     0.0|                 0.0|                     0.0|     normal|              21|\n",
      "|       0|          tcp|  ftp_data|  SF|      334|        0|   0|             0|     0|  0|                0|        1|              0|         0|           0|       0|                 0|         0|               0|                0|            0|             0|    2|        2|        0.0|            0.0|        0.0|            0.0|          1.0|          0.0|               0.0|             2|                20|                   1.0|                   0.0|                        1.0|                        0.2|                 0.0|                     0.0|                 0.0|                     0.0|warezclient|              15|\n",
      "|       0|          tcp|      name|  S0|        0|        0|   0|             0|     0|  0|                0|        0|              0|         0|           0|       0|                 0|         0|               0|                0|            0|             0|  233|        1|        1.0|            1.0|        0.0|            0.0|          0.0|         0.06|               0.0|           255|                 1|                   0.0|                  0.07|                        0.0|                        0.0|                 1.0|                     1.0|                 0.0|                     0.0|    neptune|              19|\n",
      "|       0|          tcp|netbios_ns|  S0|        0|        0|   0|             0|     0|  0|                0|        0|              0|         0|           0|       0|                 0|         0|               0|                0|            0|             0|   96|       16|        1.0|            1.0|        0.0|            0.0|         0.17|         0.05|               0.0|           255|                 2|                  0.01|                  0.06|                        0.0|                        0.0|                 1.0|                     1.0|                 0.0|                     0.0|    neptune|              18|\n",
      "|       0|          tcp|      http|  SF|      300|    13788|   0|             0|     0|  0|                0|        1|              0|         0|           0|       0|                 0|         0|               0|                0|            0|             0|    8|        9|        0.0|           0.11|        0.0|            0.0|          1.0|          0.0|              0.22|            91|               255|                   1.0|                   0.0|                       0.01|                       0.02|                 0.0|                     0.0|                 0.0|                     0.0|     normal|              21|\n",
      "|       0|         icmp|     eco_i|  SF|       18|        0|   0|             0|     0|  0|                0|        0|              0|         0|           0|       0|                 0|         0|               0|                0|            0|             0|    1|        1|        0.0|            0.0|        0.0|            0.0|          1.0|          0.0|               0.0|             1|                16|                   1.0|                   0.0|                        1.0|                        1.0|                 0.0|                     0.0|                 0.0|                     0.0|    ipsweep|              18|\n",
      "|       0|          tcp|      http|  SF|      233|      616|   0|             0|     0|  0|                0|        1|              0|         0|           0|       0|                 0|         0|               0|                0|            0|             0|    3|        3|        0.0|            0.0|        0.0|            0.0|          1.0|          0.0|               0.0|            66|               255|                   1.0|                   0.0|                       0.02|                       0.03|                 0.0|                     0.0|                0.02|                     0.0|     normal|              21|\n",
      "|       0|          tcp|      http|  SF|      343|     1178|   0|             0|     0|  0|                0|        1|              0|         0|           0|       0|                 0|         0|               0|                0|            0|             0|    9|       10|        0.0|            0.0|        0.0|            0.0|          1.0|          0.0|               0.2|           157|               255|                   1.0|                   0.0|                       0.01|                       0.04|                 0.0|                     0.0|                 0.0|                     0.0|     normal|              21|\n",
      "+--------+-------------+----------+----+---------+---------+----+--------------+------+---+-----------------+---------+---------------+----------+------------+--------+------------------+----------+----------------+-----------------+-------------+--------------+-----+---------+-----------+---------------+-----------+---------------+-------------+-------------+------------------+--------------+------------------+----------------------+----------------------+---------------------------+---------------------------+--------------------+------------------------+--------------------+------------------------+-----------+----------------+\n",
      "only showing top 20 rows\n",
      "\n"
     ]
    },
    {
     "name": "stderr",
     "output_type": "stream",
     "text": [
      "24/09/30 21:30:27 WARN SparkStringUtils: Truncated the string representation of a plan since it was too large. This behavior can be adjusted by setting 'spark.sql.debug.maxToStringFields'.\n"
     ]
    }
   ],
   "source": [
    "sparkDF.show()"
   ]
  },
  {
   "cell_type": "code",
   "execution_count": 6,
   "metadata": {},
   "outputs": [
    {
     "name": "stdout",
     "output_type": "stream",
     "text": [
      "Non-logged in users: \n",
      "+-------------+-----+\n",
      "|protocol_type|count|\n",
      "+-------------+-----+\n",
      "|          tcp|52837|\n",
      "|          udp|14993|\n",
      "|         icmp| 8291|\n",
      "+-------------+-----+\n",
      "\n"
     ]
    }
   ],
   "source": [
    "# Query the count of each protocol_type for non-logged in users\n",
    "print(\"Non-logged in users: \")\n",
    "sparkDF.filter(sparkDF.logged_in == 0).groupBy(\"protocol_type\").count().show()"
   ]
  },
  {
   "cell_type": "code",
   "execution_count": 7,
   "metadata": {},
   "outputs": [
    {
     "name": "stdout",
     "output_type": "stream",
     "text": [
      "Logged in users: \n",
      "+-------------+-----+\n",
      "|protocol_type|count|\n",
      "+-------------+-----+\n",
      "|          tcp|49852|\n",
      "+-------------+-----+\n",
      "\n"
     ]
    }
   ],
   "source": [
    "# Query the count of each protocol_type for logged in users\n",
    "print(\"Logged in users: \")\n",
    "sparkDF.filter(sparkDF.logged_in > 0).groupBy(\"protocol_type\").count().show()"
   ]
  },
  {
   "cell_type": "markdown",
   "metadata": {},
   "source": [
    "## Q2"
   ]
  },
  {
   "cell_type": "code",
   "execution_count": 8,
   "metadata": {},
   "outputs": [
    {
     "name": "stdout",
     "output_type": "stream",
     "text": [
      "+--------+-------------+--------+----+---------+---------+----+--------------+------+---+-----------------+---------+---------------+----------+------------+--------+------------------+----------+----------------+-----------------+-------------+--------------+-----+---------+-----------+---------------+-----------+---------------+-------------+-------------+------------------+--------------+------------------+----------------------+----------------------+---------------------------+---------------------------+--------------------+------------------------+--------------------+------------------------+-------+----------------+\n",
      "|duration|protocol_type| service|flag|src_bytes|dst_bytes|land|wrong_fragment|urgent|hot|num_failed_logins|logged_in|num_compromised|root_shell|su_attempted|num_root|num_file_creations|num_shells|num_access_files|num_outbound_cmds|is_host_login|is_guest_login|count|srv_count|serror_rate|srv_serror_rate|rerror_rate|srv_rerror_rate|same_srv_rate|diff_srv_rate|srv_diff_host_rate|dst_host_count|dst_host_srv_count|dst_host_same_srv_rate|dst_host_diff_srv_rate|dst_host_same_src_port_rate|dst_host_srv_diff_host_rate|dst_host_serror_rate|dst_host_srv_serror_rate|dst_host_rerror_rate|dst_host_srv_rerror_rate|classes|difficulty_level|\n",
      "+--------+-------------+--------+----+---------+---------+----+--------------+------+---+-----------------+---------+---------------+----------+------------+--------+------------------+----------+----------------+-----------------+-------------+--------------+-----+---------+-----------+---------------+-----------+---------------+-------------+-------------+------------------+--------------+------------------+----------------------+----------------------+---------------------------+---------------------------+--------------------+------------------------+--------------------+------------------------+-------+----------------+\n",
      "|       0|          tcp|ftp_data|  SF|      491|        0|   0|             0|     0|  0|                0|        0|              0|         0|           0|       0|                 0|         0|               0|                0|            0|             0|    2|        2|        0.0|            0.0|        0.0|            0.0|          1.0|          0.0|               0.0|           150|                25|                  0.17|                  0.03|                       0.17|                        0.0|                 0.0|                     0.0|                0.05|                     0.0| normal|              20|\n",
      "|       0|          udp|   other|  SF|      146|        0|   0|             0|     0|  0|                0|        0|              0|         0|           0|       0|                 0|         0|               0|                0|            0|             0|   13|        1|        0.0|            0.0|        0.0|            0.0|         0.08|         0.15|               0.0|           255|                 1|                   0.0|                   0.6|                       0.88|                        0.0|                 0.0|                     0.0|                 0.0|                     0.0| normal|              15|\n",
      "|       0|          tcp|    http|  SF|      232|     8153|   0|             0|     0|  0|                0|        1|              0|         0|           0|       0|                 0|         0|               0|                0|            0|             0|    5|        5|        0.2|            0.2|        0.0|            0.0|          1.0|          0.0|               0.0|            30|               255|                   1.0|                   0.0|                       0.03|                       0.04|                0.03|                    0.01|                 0.0|                    0.01| normal|              21|\n",
      "|       0|          tcp|    http|  SF|      199|      420|   0|             0|     0|  0|                0|        1|              0|         0|           0|       0|                 0|         0|               0|                0|            0|             0|   30|       32|        0.0|            0.0|        0.0|            0.0|          1.0|          0.0|              0.09|           255|               255|                   1.0|                   0.0|                        0.0|                        0.0|                 0.0|                     0.0|                 0.0|                     0.0| normal|              21|\n",
      "|       0|          tcp|    http|  SF|      287|     2251|   0|             0|     0|  0|                0|        1|              0|         0|           0|       0|                 0|         0|               0|                0|            0|             0|    3|        7|        0.0|            0.0|        0.0|            0.0|          1.0|          0.0|              0.43|             8|               219|                   1.0|                   0.0|                       0.12|                       0.03|                 0.0|                     0.0|                 0.0|                     0.0| normal|              21|\n",
      "|       0|          tcp|    http|  SF|      300|    13788|   0|             0|     0|  0|                0|        1|              0|         0|           0|       0|                 0|         0|               0|                0|            0|             0|    8|        9|        0.0|           0.11|        0.0|            0.0|          1.0|          0.0|              0.22|            91|               255|                   1.0|                   0.0|                       0.01|                       0.02|                 0.0|                     0.0|                 0.0|                     0.0| normal|              21|\n",
      "|       0|          tcp|    http|  SF|      233|      616|   0|             0|     0|  0|                0|        1|              0|         0|           0|       0|                 0|         0|               0|                0|            0|             0|    3|        3|        0.0|            0.0|        0.0|            0.0|          1.0|          0.0|               0.0|            66|               255|                   1.0|                   0.0|                       0.02|                       0.03|                 0.0|                     0.0|                0.02|                     0.0| normal|              21|\n",
      "|       0|          tcp|    http|  SF|      343|     1178|   0|             0|     0|  0|                0|        1|              0|         0|           0|       0|                 0|         0|               0|                0|            0|             0|    9|       10|        0.0|            0.0|        0.0|            0.0|          1.0|          0.0|               0.2|           157|               255|                   1.0|                   0.0|                       0.01|                       0.04|                 0.0|                     0.0|                 0.0|                     0.0| normal|              21|\n",
      "|       0|          tcp|    http|  SF|      253|    11905|   0|             0|     0|  0|                0|        1|              0|         0|           0|       0|                 0|         0|               0|                0|            0|             0|    8|       10|        0.0|            0.0|        0.0|            0.0|          1.0|          0.0|               0.2|            87|               255|                   1.0|                   0.0|                       0.01|                       0.02|                 0.0|                     0.0|                 0.0|                     0.0| normal|              21|\n",
      "|    5607|          udp|   other|  SF|      147|      105|   0|             0|     0|  0|                0|        0|              0|         0|           0|       0|                 0|         0|               0|                0|            0|             0|    1|        1|        0.0|            0.0|        0.0|            0.0|          1.0|          0.0|               0.0|           255|                 1|                   0.0|                  0.85|                        1.0|                        0.0|                 0.0|                     0.0|                 0.0|                     0.0| normal|              21|\n",
      "|     507|          tcp|  telnet|  SF|      437|    14421|   0|             0|     0|  0|                0|        1|              3|         0|           0|       0|                 0|         0|               1|                0|            0|             0|    1|        1|        0.0|            0.0|        0.0|            0.0|          1.0|          0.0|               0.0|           255|                25|                   0.1|                  0.05|                        0.0|                        0.0|                0.53|                     0.0|                0.02|                    0.16| normal|              20|\n",
      "|       0|          tcp|    http|  SF|      227|     6588|   0|             0|     0|  0|                0|        1|              0|         0|           0|       0|                 0|         0|               0|                0|            0|             0|    5|       22|        0.0|            0.0|        0.0|            0.0|          1.0|          0.0|              0.18|            43|               255|                   1.0|                   0.0|                       0.02|                       0.14|                 0.0|                     0.0|                0.56|                    0.57| normal|              21|\n",
      "|       0|          tcp|    http|  SF|      215|    10499|   0|             0|     0|  0|                0|        1|              0|         0|           0|       0|                 0|         0|               0|                0|            0|             0|   14|       14|        0.0|            0.0|        0.0|            0.0|          1.0|          0.0|               0.0|           255|               255|                   1.0|                   0.0|                        0.0|                        0.0|                 0.0|                     0.0|                 0.0|                     0.0| normal|              21|\n",
      "|       0|          tcp|    http|  SF|      241|     1400|   0|             0|     0|  0|                0|        1|              0|         0|           0|       0|                 0|         0|               0|                0|            0|             0|   33|       33|        0.0|            0.0|       0.03|           0.03|          1.0|          0.0|               0.0|           255|               255|                   1.0|                   0.0|                        0.0|                        0.0|                 0.0|                     0.0|                 0.0|                     0.0| normal|              21|\n",
      "|       0|          tcp|    http|  SF|      303|      555|   0|             0|     0|  0|                0|        1|              0|         0|           0|       0|                 0|         0|               0|                0|            0|             0|    9|        9|        0.0|            0.0|        0.0|            0.0|          1.0|          0.0|               0.0|             9|               255|                   1.0|                   0.0|                       0.11|                       0.01|                 0.0|                     0.0|                 0.0|                     0.0| normal|              21|\n",
      "|       0|          udp|domain_u|  SF|       45|       45|   0|             0|     0|  0|                0|        0|              0|         0|           0|       0|                 0|         0|               0|                0|            0|             0|  181|      181|        0.0|            0.0|        0.0|            0.0|          1.0|          0.0|               0.0|           255|               250|                  0.98|                  0.01|                        0.0|                        0.0|                 0.0|                     0.0|                 0.0|                     0.0| normal|              18|\n",
      "|       1|          udp| private|  SF|      105|      147|   0|             0|     0|  0|                0|        0|              0|         0|           0|       0|                 0|         0|               0|                0|            0|             0|    2|        2|        0.0|            0.0|        0.0|            0.0|          1.0|          0.0|               0.0|            41|                 5|                  0.12|                  0.05|                       0.05|                        0.0|                 0.0|                     0.0|                 0.0|                     0.0| normal|              19|\n",
      "|       0|          udp|domain_u|  SF|       43|       43|   0|             0|     0|  0|                0|        0|              0|         0|           0|       0|                 0|         0|               0|                0|            0|             0|  122|      202|        0.0|            0.0|        0.0|            0.0|          1.0|          0.0|              0.01|           255|               255|                   1.0|                   0.0|                       0.01|                        0.0|                 0.0|                     0.0|                 0.0|                     0.0| normal|              18|\n",
      "|       0|          tcp|    http|  SF|      324|     2302|   0|             0|     0|  0|                0|        1|              0|         0|           0|       0|                 0|         0|               0|                0|            0|             0|   22|       28|        0.0|            0.0|        0.0|            0.0|          1.0|          0.0|              0.14|           255|               255|                   1.0|                   0.0|                        0.0|                        0.0|                 0.0|                     0.0|                 0.0|                     0.0| normal|              21|\n",
      "|       2|          tcp|    smtp|  SF|     1591|      372|   0|             0|     0|  0|                0|        1|              0|         0|           0|       0|                 0|         0|               0|                0|            0|             0|    1|        2|        0.0|            0.0|        0.0|            0.0|          1.0|          0.0|               1.0|           181|               147|                  0.81|                  0.02|                       0.01|                        0.0|                 0.0|                     0.0|                 0.0|                     0.0| normal|              21|\n",
      "+--------+-------------+--------+----+---------+---------+----+--------------+------+---+-----------------+---------+---------------+----------+------------+--------+------------------+----------+----------------+-----------------+-------------+--------------+-----+---------+-----------+---------------+-----------+---------------+-------------+-------------+------------------+--------------+------------------+----------------------+----------------------+---------------------------+---------------------------+--------------------+------------------------+--------------------+------------------------+-------+----------------+\n",
      "only showing top 20 rows\n",
      "\n"
     ]
    }
   ],
   "source": [
    "# Create a new data frame that includes all network traffic with normal traffic\n",
    "sparkDF_normal_traffic = sparkDF.filter(sparkDF.classes == 'normal')\n",
    "sparkDF_normal_traffic.show()"
   ]
  },
  {
   "cell_type": "code",
   "execution_count": 9,
   "metadata": {},
   "outputs": [
    {
     "name": "stdout",
     "output_type": "stream",
     "text": [
      "+--------+-------------+--------+----+---------+---------+----+--------------+------+---+-----------------+---------+---------------+----------+------------+--------+------------------+----------+----------------+-----------------+-------------+--------------+-----+---------+-----------+---------------+-----------+---------------+-------------+-------------+------------------+--------------+------------------+----------------------+----------------------+---------------------------+---------------------------+--------------------+------------------------+--------------------+------------------------+-------+----------------+\n",
      "|duration|protocol_type| service|flag|src_bytes|dst_bytes|land|wrong_fragment|urgent|hot|num_failed_logins|logged_in|num_compromised|root_shell|su_attempted|num_root|num_file_creations|num_shells|num_access_files|num_outbound_cmds|is_host_login|is_guest_login|count|srv_count|serror_rate|srv_serror_rate|rerror_rate|srv_rerror_rate|same_srv_rate|diff_srv_rate|srv_diff_host_rate|dst_host_count|dst_host_srv_count|dst_host_same_srv_rate|dst_host_diff_srv_rate|dst_host_same_src_port_rate|dst_host_srv_diff_host_rate|dst_host_serror_rate|dst_host_srv_serror_rate|dst_host_rerror_rate|dst_host_srv_rerror_rate|classes|difficulty_level|\n",
      "+--------+-------------+--------+----+---------+---------+----+--------------+------+---+-----------------+---------+---------------+----------+------------+--------+------------------+----------+----------------+-----------------+-------------+--------------+-----+---------+-----------+---------------+-----------+---------------+-------------+-------------+------------------+--------------+------------------+----------------------+----------------------+---------------------------+---------------------------+--------------------+------------------------+--------------------+------------------------+-------+----------------+\n",
      "|       0|          tcp|ftp_data|  SF|      491|        0|   0|             0|     0|  0|                0|        0|              0|         0|           0|       0|                 0|         0|               0|                0|            0|             0|    2|        2|        0.0|            0.0|        0.0|            0.0|          1.0|          0.0|               0.0|           150|                25|                  0.17|                  0.03|                       0.17|                        0.0|                 0.0|                     0.0|                0.05|                     0.0| normal|              20|\n",
      "|       0|          tcp|   other|  SF|      146|        0|   0|             0|     0|  0|                0|        0|              0|         0|           0|       0|                 0|         0|               0|                0|            0|             0|   13|        1|        0.0|            0.0|        0.0|            0.0|         0.08|         0.15|               0.0|           255|                 1|                   0.0|                   0.6|                       0.88|                        0.0|                 0.0|                     0.0|                 0.0|                     0.0| normal|              15|\n",
      "|       0|          tcp|    http|  SF|      232|     8153|   0|             0|     0|  0|                0|        1|              0|         0|           0|       0|                 0|         0|               0|                0|            0|             0|    5|        5|        0.2|            0.2|        0.0|            0.0|          1.0|          0.0|               0.0|            30|               255|                   1.0|                   0.0|                       0.03|                       0.04|                0.03|                    0.01|                 0.0|                    0.01| normal|              21|\n",
      "|       0|          tcp|    http|  SF|      199|      420|   0|             0|     0|  0|                0|        1|              0|         0|           0|       0|                 0|         0|               0|                0|            0|             0|   30|       32|        0.0|            0.0|        0.0|            0.0|          1.0|          0.0|              0.09|           255|               255|                   1.0|                   0.0|                        0.0|                        0.0|                 0.0|                     0.0|                 0.0|                     0.0| normal|              21|\n",
      "|       0|          tcp|    http|  SF|      287|     2251|   0|             0|     0|  0|                0|        1|              0|         0|           0|       0|                 0|         0|               0|                0|            0|             0|    3|        7|        0.0|            0.0|        0.0|            0.0|          1.0|          0.0|              0.43|             8|               219|                   1.0|                   0.0|                       0.12|                       0.03|                 0.0|                     0.0|                 0.0|                     0.0| normal|              21|\n",
      "|       0|          tcp|    http|  SF|      300|    13788|   0|             0|     0|  0|                0|        1|              0|         0|           0|       0|                 0|         0|               0|                0|            0|             0|    8|        9|        0.0|           0.11|        0.0|            0.0|          1.0|          0.0|              0.22|            91|               255|                   1.0|                   0.0|                       0.01|                       0.02|                 0.0|                     0.0|                 0.0|                     0.0| normal|              21|\n",
      "|       0|          tcp|    http|  SF|      233|      616|   0|             0|     0|  0|                0|        1|              0|         0|           0|       0|                 0|         0|               0|                0|            0|             0|    3|        3|        0.0|            0.0|        0.0|            0.0|          1.0|          0.0|               0.0|            66|               255|                   1.0|                   0.0|                       0.02|                       0.03|                 0.0|                     0.0|                0.02|                     0.0| normal|              21|\n",
      "|       0|          tcp|    http|  SF|      343|     1178|   0|             0|     0|  0|                0|        1|              0|         0|           0|       0|                 0|         0|               0|                0|            0|             0|    9|       10|        0.0|            0.0|        0.0|            0.0|          1.0|          0.0|               0.2|           157|               255|                   1.0|                   0.0|                       0.01|                       0.04|                 0.0|                     0.0|                 0.0|                     0.0| normal|              21|\n",
      "|       0|          tcp|    http|  SF|      253|    11905|   0|             0|     0|  0|                0|        1|              0|         0|           0|       0|                 0|         0|               0|                0|            0|             0|    8|       10|        0.0|            0.0|        0.0|            0.0|          1.0|          0.0|               0.2|            87|               255|                   1.0|                   0.0|                       0.01|                       0.02|                 0.0|                     0.0|                 0.0|                     0.0| normal|              21|\n",
      "|    5607|          tcp|   other|  SF|      147|      105|   0|             0|     0|  0|                0|        0|              0|         0|           0|       0|                 0|         0|               0|                0|            0|             0|    1|        1|        0.0|            0.0|        0.0|            0.0|          1.0|          0.0|               0.0|           255|                 1|                   0.0|                  0.85|                        1.0|                        0.0|                 0.0|                     0.0|                 0.0|                     0.0| normal|              21|\n",
      "|     507|          tcp|  telnet|  SF|      437|    14421|   0|             0|     0|  0|                0|        1|              3|         0|           0|       0|                 0|         0|               1|                0|            0|             0|    1|        1|        0.0|            0.0|        0.0|            0.0|          1.0|          0.0|               0.0|           255|                25|                   0.1|                  0.05|                        0.0|                        0.0|                0.53|                     0.0|                0.02|                    0.16| normal|              20|\n",
      "|       0|          tcp|    http|  SF|      227|     6588|   0|             0|     0|  0|                0|        1|              0|         0|           0|       0|                 0|         0|               0|                0|            0|             0|    5|       22|        0.0|            0.0|        0.0|            0.0|          1.0|          0.0|              0.18|            43|               255|                   1.0|                   0.0|                       0.02|                       0.14|                 0.0|                     0.0|                0.56|                    0.57| normal|              21|\n",
      "|       0|          tcp|    http|  SF|      215|    10499|   0|             0|     0|  0|                0|        1|              0|         0|           0|       0|                 0|         0|               0|                0|            0|             0|   14|       14|        0.0|            0.0|        0.0|            0.0|          1.0|          0.0|               0.0|           255|               255|                   1.0|                   0.0|                        0.0|                        0.0|                 0.0|                     0.0|                 0.0|                     0.0| normal|              21|\n",
      "|       0|          tcp|    http|  SF|      241|     1400|   0|             0|     0|  0|                0|        1|              0|         0|           0|       0|                 0|         0|               0|                0|            0|             0|   33|       33|        0.0|            0.0|       0.03|           0.03|          1.0|          0.0|               0.0|           255|               255|                   1.0|                   0.0|                        0.0|                        0.0|                 0.0|                     0.0|                 0.0|                     0.0| normal|              21|\n",
      "|       0|          tcp|    http|  SF|      303|      555|   0|             0|     0|  0|                0|        1|              0|         0|           0|       0|                 0|         0|               0|                0|            0|             0|    9|        9|        0.0|            0.0|        0.0|            0.0|          1.0|          0.0|               0.0|             9|               255|                   1.0|                   0.0|                       0.11|                       0.01|                 0.0|                     0.0|                 0.0|                     0.0| normal|              21|\n",
      "|       0|          tcp|domain_u|  SF|       45|       45|   0|             0|     0|  0|                0|        0|              0|         0|           0|       0|                 0|         0|               0|                0|            0|             0|  181|      181|        0.0|            0.0|        0.0|            0.0|          1.0|          0.0|               0.0|           255|               250|                  0.98|                  0.01|                        0.0|                        0.0|                 0.0|                     0.0|                 0.0|                     0.0| normal|              18|\n",
      "|       1|          tcp| private|  SF|      105|      147|   0|             0|     0|  0|                0|        0|              0|         0|           0|       0|                 0|         0|               0|                0|            0|             0|    2|        2|        0.0|            0.0|        0.0|            0.0|          1.0|          0.0|               0.0|            41|                 5|                  0.12|                  0.05|                       0.05|                        0.0|                 0.0|                     0.0|                 0.0|                     0.0| normal|              19|\n",
      "|       0|          tcp|domain_u|  SF|       43|       43|   0|             0|     0|  0|                0|        0|              0|         0|           0|       0|                 0|         0|               0|                0|            0|             0|  122|      202|        0.0|            0.0|        0.0|            0.0|          1.0|          0.0|              0.01|           255|               255|                   1.0|                   0.0|                       0.01|                        0.0|                 0.0|                     0.0|                 0.0|                     0.0| normal|              18|\n",
      "|       0|          tcp|    http|  SF|      324|     2302|   0|             0|     0|  0|                0|        1|              0|         0|           0|       0|                 0|         0|               0|                0|            0|             0|   22|       28|        0.0|            0.0|        0.0|            0.0|          1.0|          0.0|              0.14|           255|               255|                   1.0|                   0.0|                        0.0|                        0.0|                 0.0|                     0.0|                 0.0|                     0.0| normal|              21|\n",
      "|       2|          tcp|    smtp|  SF|     1591|      372|   0|             0|     0|  0|                0|        1|              0|         0|           0|       0|                 0|         0|               0|                0|            0|             0|    1|        2|        0.0|            0.0|        0.0|            0.0|          1.0|          0.0|               1.0|           181|               147|                  0.81|                  0.02|                       0.01|                        0.0|                 0.0|                     0.0|                 0.0|                     0.0| normal|              21|\n",
      "+--------+-------------+--------+----+---------+---------+----+--------------+------+---+-----------------+---------+---------------+----------+------------+--------+------------------+----------+----------------+-----------------+-------------+--------------+-----+---------+-----------+---------------+-----------+---------------+-------------+-------------+------------------+--------------+------------------+----------------------+----------------------+---------------------------+---------------------------+--------------------+------------------------+--------------------+------------------------+-------+----------------+\n",
      "only showing top 20 rows\n",
      "\n"
     ]
    }
   ],
   "source": [
    "from pyspark.sql.functions import *\n",
    "\n",
    "# Override the protocol_type to be “tcp” for all\n",
    "protocol_value = \"tcp\"\n",
    "sparkDF_all_normal_traffic = (sparkDF_normal_traffic\\\n",
    "    .withColumn('protocol_type',when(sparkDF_normal_traffic.protocol_type != protocol_value,\\\n",
    "                    regexp_replace(sparkDF_normal_traffic.protocol_type,sparkDF_normal_traffic.protocol_type, protocol_value)) \\\n",
    "                    .otherwise(sparkDF_normal_traffic.protocol_type))\\\n",
    "                )\n",
    "\n",
    "sparkDF_all_normal_traffic.show()"
   ]
  },
  {
   "cell_type": "code",
   "execution_count": 10,
   "metadata": {},
   "outputs": [
    {
     "name": "stdout",
     "output_type": "stream",
     "text": [
      "+-------------+-----+\n",
      "|protocol_type|count|\n",
      "+-------------+-----+\n",
      "|          tcp|67343|\n",
      "+-------------+-----+\n",
      "\n"
     ]
    }
   ],
   "source": [
    "# Check the overided protocol_type\n",
    "sparkDF_all_normal_traffic.groupBy(\"protocol_type\").count().show()"
   ]
  },
  {
   "cell_type": "markdown",
   "metadata": {},
   "source": [
    "## Q3"
   ]
  },
  {
   "cell_type": "markdown",
   "metadata": {},
   "source": [
    "Refer to q3_1.png and q3_2.png"
   ]
  },
  {
   "cell_type": "markdown",
   "metadata": {},
   "source": [
    "## Q4"
   ]
  },
  {
   "cell_type": "code",
   "execution_count": 11,
   "metadata": {},
   "outputs": [
    {
     "name": "stdout",
     "output_type": "stream",
     "text": [
      "-RECORD 0-------------------------------\n",
      " duration                    | 0        \n",
      " protocol_type               | tcp      \n",
      " service                     | ftp_data \n",
      " flag                        | SF       \n",
      " src_bytes                   | 491      \n",
      " dst_bytes                   | 0        \n",
      " land                        | 0        \n",
      " wrong_fragment              | 0        \n",
      " urgent                      | 0        \n",
      " hot                         | 0        \n",
      " num_failed_logins           | 0        \n",
      " logged_in                   | 0        \n",
      " num_compromised             | 0        \n",
      " root_shell                  | 0        \n",
      " su_attempted                | 0        \n",
      " num_root                    | 0        \n",
      " num_file_creations          | 0        \n",
      " num_shells                  | 0        \n",
      " num_access_files            | 0        \n",
      " num_outbound_cmds           | 0        \n",
      " is_host_login               | 0        \n",
      " is_guest_login              | 0        \n",
      " count                       | 2        \n",
      " srv_count                   | 2        \n",
      " serror_rate                 | 0.0      \n",
      " srv_serror_rate             | 0.0      \n",
      " rerror_rate                 | 0.0      \n",
      " srv_rerror_rate             | 0.0      \n",
      " same_srv_rate               | 1.0      \n",
      " diff_srv_rate               | 0.0      \n",
      " srv_diff_host_rate          | 0.0      \n",
      " dst_host_count              | 150      \n",
      " dst_host_srv_count          | 25       \n",
      " dst_host_same_srv_rate      | 0.17     \n",
      " dst_host_diff_srv_rate      | 0.03     \n",
      " dst_host_same_src_port_rate | 0.17     \n",
      " dst_host_srv_diff_host_rate | 0.0      \n",
      " dst_host_serror_rate        | 0.0      \n",
      " dst_host_srv_serror_rate    | 0.0      \n",
      " dst_host_rerror_rate        | 0.05     \n",
      " dst_host_srv_rerror_rate    | 0.0      \n",
      " classes                     | normal   \n",
      " difficulty_level            | 20       \n",
      " data_type                   | train    \n",
      "only showing top 1 row\n",
      "\n"
     ]
    }
   ],
   "source": [
    "# Read the train dataset\n",
    "trainDF = sparkDF\n",
    "trainDF_with_data_type = trainDF.withColumn(\"data_type\",lit('train'))\n",
    "trainDF_with_data_type.show(1, vertical=True)"
   ]
  },
  {
   "cell_type": "code",
   "execution_count": 12,
   "metadata": {},
   "outputs": [
    {
     "name": "stdout",
     "output_type": "stream",
     "text": [
      "-RECORD 0------------------------------\n",
      " duration                    | 0       \n",
      " protocol_type               | tcp     \n",
      " service                     | private \n",
      " flag                        | REJ     \n",
      " src_bytes                   | 0       \n",
      " dst_bytes                   | 0       \n",
      " land                        | 0       \n",
      " wrong_fragment              | 0       \n",
      " urgent                      | 0       \n",
      " hot                         | 0       \n",
      " num_failed_logins           | 0       \n",
      " logged_in                   | 0       \n",
      " num_compromised             | 0       \n",
      " root_shell                  | 0       \n",
      " su_attempted                | 0       \n",
      " num_root                    | 0       \n",
      " num_file_creations          | 0       \n",
      " num_shells                  | 0       \n",
      " num_access_files            | 0       \n",
      " num_outbound_cmds           | 0       \n",
      " is_host_login               | 0       \n",
      " is_guest_login              | 0       \n",
      " count                       | 229     \n",
      " srv_count                   | 10      \n",
      " serror_rate                 | 0.0     \n",
      " srv_serror_rate             | 0.0     \n",
      " rerror_rate                 | 1.0     \n",
      " srv_rerror_rate             | 1.0     \n",
      " same_srv_rate               | 0.04    \n",
      " diff_srv_rate               | 0.06    \n",
      " srv_diff_host_rate          | 0.0     \n",
      " dst_host_count              | 255     \n",
      " dst_host_srv_count          | 10      \n",
      " dst_host_same_srv_rate      | 0.04    \n",
      " dst_host_diff_srv_rate      | 0.06    \n",
      " dst_host_same_src_port_rate | 0.0     \n",
      " dst_host_srv_diff_host_rate | 0.0     \n",
      " dst_host_serror_rate        | 0.0     \n",
      " dst_host_srv_serror_rate    | 0.0     \n",
      " dst_host_rerror_rate        | 1.0     \n",
      " dst_host_srv_rerror_rate    | 1.0     \n",
      " classes                     | neptune \n",
      " difficulty_level            | 21      \n",
      " data_type                   | test    \n",
      "only showing top 1 row\n",
      "\n"
     ]
    },
    {
     "name": "stderr",
     "output_type": "stream",
     "text": [
      "24/09/30 21:30:29 WARN SQLConf: The SQL config 'spark.sql.execution.arrow.enabled' has been deprecated in Spark v3.0 and may be removed in the future. Use 'spark.sql.execution.arrow.pyspark.enabled' instead of it.\n"
     ]
    }
   ],
   "source": [
    "# Read the test dataset\n",
    "testDF = spark.read.csv(\"./NSL-KDD/KDDTest+.txt\",header=False, inferSchema= True).toDF(*col_names)\n",
    "testDF_with_data_type = testDF.withColumn(\"data_type\",lit('test'))\n",
    "testDF_with_data_type.show(1, vertical=True)"
   ]
  },
  {
   "cell_type": "code",
   "execution_count": 13,
   "metadata": {},
   "outputs": [
    {
     "name": "stdout",
     "output_type": "stream",
     "text": [
      "+---------+------+\n",
      "|data_type| count|\n",
      "+---------+------+\n",
      "|    train|125973|\n",
      "|     test| 22544|\n",
      "+---------+------+\n",
      "\n"
     ]
    }
   ],
   "source": [
    "# Combine train and test \n",
    "datasetDF = trainDF_with_data_type.union(testDF_with_data_type)\n",
    "datasetDF.groupBy(\"data_type\").count().show()"
   ]
  },
  {
   "cell_type": "code",
   "execution_count": 14,
   "metadata": {},
   "outputs": [
    {
     "name": "stderr",
     "output_type": "stream",
     "text": [
      "                                                                                \r"
     ]
    }
   ],
   "source": [
    "# Ingest dataset into Postgres table\n",
    "db_properties={}\n",
    "db_properties['username']=\"postgres\"\n",
    "db_properties['password']=\"\"\n",
    "db_properties['url']= \"jdbc:postgresql://localhost:5432/postgres\"\n",
    "db_properties['driver']=\"org.postgresql.Driver\"\n",
    "db_properties['table']= \"NSLKDD\"\n",
    "\n",
    "\n",
    "datasetDF.write.format(\"jdbc\")\\\n",
    ".mode(\"overwrite\")\\\n",
    ".option(\"url\", db_properties['url'])\\\n",
    ".option(\"dbtable\", db_properties['table'])\\\n",
    ".option(\"user\", db_properties['username'])\\\n",
    ".option(\"password\", db_properties['password'])\\\n",
    ".option(\"Driver\", db_properties['driver'])\\\n",
    ".save()\n"
   ]
  },
  {
   "cell_type": "code",
   "execution_count": 15,
   "metadata": {},
   "outputs": [
    {
     "name": "stdout",
     "output_type": "stream",
     "text": [
      "+--------+-------------+----------+----+---------+---------+----+--------------+------+---+-----------------+---------+---------------+----------+------------+--------+------------------+----------+----------------+-----------------+-------------+--------------+-----+---------+-----------+---------------+-----------+---------------+-------------+-------------+------------------+--------------+------------------+----------------------+----------------------+---------------------------+---------------------------+--------------------+------------------------+--------------------+------------------------+-----------+----------------+---------+\n",
      "|duration|protocol_type|   service|flag|src_bytes|dst_bytes|land|wrong_fragment|urgent|hot|num_failed_logins|logged_in|num_compromised|root_shell|su_attempted|num_root|num_file_creations|num_shells|num_access_files|num_outbound_cmds|is_host_login|is_guest_login|count|srv_count|serror_rate|srv_serror_rate|rerror_rate|srv_rerror_rate|same_srv_rate|diff_srv_rate|srv_diff_host_rate|dst_host_count|dst_host_srv_count|dst_host_same_srv_rate|dst_host_diff_srv_rate|dst_host_same_src_port_rate|dst_host_srv_diff_host_rate|dst_host_serror_rate|dst_host_srv_serror_rate|dst_host_rerror_rate|dst_host_srv_rerror_rate|    classes|difficulty_level|data_type|\n",
      "+--------+-------------+----------+----+---------+---------+----+--------------+------+---+-----------------+---------+---------------+----------+------------+--------+------------------+----------+----------------+-----------------+-------------+--------------+-----+---------+-----------+---------------+-----------+---------------+-------------+-------------+------------------+--------------+------------------+----------------------+----------------------+---------------------------+---------------------------+--------------------+------------------------+--------------------+------------------------+-----------+----------------+---------+\n",
      "|       0|          tcp|  ftp_data|  SF|      491|        0|   0|             0|     0|  0|                0|        0|              0|         0|           0|       0|                 0|         0|               0|                0|            0|             0|    2|        2|        0.0|            0.0|        0.0|            0.0|          1.0|          0.0|               0.0|           150|                25|                  0.17|                  0.03|                       0.17|                        0.0|                 0.0|                     0.0|                0.05|                     0.0|     normal|              20|    train|\n",
      "|       0|          udp|     other|  SF|      146|        0|   0|             0|     0|  0|                0|        0|              0|         0|           0|       0|                 0|         0|               0|                0|            0|             0|   13|        1|        0.0|            0.0|        0.0|            0.0|         0.08|         0.15|               0.0|           255|                 1|                   0.0|                   0.6|                       0.88|                        0.0|                 0.0|                     0.0|                 0.0|                     0.0|     normal|              15|    train|\n",
      "|       0|          tcp|   private|  S0|        0|        0|   0|             0|     0|  0|                0|        0|              0|         0|           0|       0|                 0|         0|               0|                0|            0|             0|  123|        6|        1.0|            1.0|        0.0|            0.0|         0.05|         0.07|               0.0|           255|                26|                   0.1|                  0.05|                        0.0|                        0.0|                 1.0|                     1.0|                 0.0|                     0.0|    neptune|              19|    train|\n",
      "|       0|          tcp|      http|  SF|      232|     8153|   0|             0|     0|  0|                0|        1|              0|         0|           0|       0|                 0|         0|               0|                0|            0|             0|    5|        5|        0.2|            0.2|        0.0|            0.0|          1.0|          0.0|               0.0|            30|               255|                   1.0|                   0.0|                       0.03|                       0.04|                0.03|                    0.01|                 0.0|                    0.01|     normal|              21|    train|\n",
      "|       0|          tcp|      http|  SF|      199|      420|   0|             0|     0|  0|                0|        1|              0|         0|           0|       0|                 0|         0|               0|                0|            0|             0|   30|       32|        0.0|            0.0|        0.0|            0.0|          1.0|          0.0|              0.09|           255|               255|                   1.0|                   0.0|                        0.0|                        0.0|                 0.0|                     0.0|                 0.0|                     0.0|     normal|              21|    train|\n",
      "|       0|          tcp|   private| REJ|        0|        0|   0|             0|     0|  0|                0|        0|              0|         0|           0|       0|                 0|         0|               0|                0|            0|             0|  121|       19|        0.0|            0.0|        1.0|            1.0|         0.16|         0.06|               0.0|           255|                19|                  0.07|                  0.07|                        0.0|                        0.0|                 0.0|                     0.0|                 1.0|                     1.0|    neptune|              21|    train|\n",
      "|       0|          tcp|   private|  S0|        0|        0|   0|             0|     0|  0|                0|        0|              0|         0|           0|       0|                 0|         0|               0|                0|            0|             0|  166|        9|        1.0|            1.0|        0.0|            0.0|         0.05|         0.06|               0.0|           255|                 9|                  0.04|                  0.05|                        0.0|                        0.0|                 1.0|                     1.0|                 0.0|                     0.0|    neptune|              21|    train|\n",
      "|       0|          tcp|   private|  S0|        0|        0|   0|             0|     0|  0|                0|        0|              0|         0|           0|       0|                 0|         0|               0|                0|            0|             0|  117|       16|        1.0|            1.0|        0.0|            0.0|         0.14|         0.06|               0.0|           255|                15|                  0.06|                  0.07|                        0.0|                        0.0|                 1.0|                     1.0|                 0.0|                     0.0|    neptune|              21|    train|\n",
      "|       0|          tcp|remote_job|  S0|        0|        0|   0|             0|     0|  0|                0|        0|              0|         0|           0|       0|                 0|         0|               0|                0|            0|             0|  270|       23|        1.0|            1.0|        0.0|            0.0|         0.09|         0.05|               0.0|           255|                23|                  0.09|                  0.05|                        0.0|                        0.0|                 1.0|                     1.0|                 0.0|                     0.0|    neptune|              21|    train|\n",
      "|       0|          tcp|   private|  S0|        0|        0|   0|             0|     0|  0|                0|        0|              0|         0|           0|       0|                 0|         0|               0|                0|            0|             0|  133|        8|        1.0|            1.0|        0.0|            0.0|         0.06|         0.06|               0.0|           255|                13|                  0.05|                  0.06|                        0.0|                        0.0|                 1.0|                     1.0|                 0.0|                     0.0|    neptune|              21|    train|\n",
      "|       0|          tcp|   private| REJ|        0|        0|   0|             0|     0|  0|                0|        0|              0|         0|           0|       0|                 0|         0|               0|                0|            0|             0|  205|       12|        0.0|            0.0|        1.0|            1.0|         0.06|         0.06|               0.0|           255|                12|                  0.05|                  0.07|                        0.0|                        0.0|                 0.0|                     0.0|                 1.0|                     1.0|    neptune|              21|    train|\n",
      "|       0|          tcp|   private|  S0|        0|        0|   0|             0|     0|  0|                0|        0|              0|         0|           0|       0|                 0|         0|               0|                0|            0|             0|  199|        3|        1.0|            1.0|        0.0|            0.0|         0.02|         0.06|               0.0|           255|                13|                  0.05|                  0.07|                        0.0|                        0.0|                 1.0|                     1.0|                 0.0|                     0.0|    neptune|              21|    train|\n",
      "|       0|          tcp|      http|  SF|      287|     2251|   0|             0|     0|  0|                0|        1|              0|         0|           0|       0|                 0|         0|               0|                0|            0|             0|    3|        7|        0.0|            0.0|        0.0|            0.0|          1.0|          0.0|              0.43|             8|               219|                   1.0|                   0.0|                       0.12|                       0.03|                 0.0|                     0.0|                 0.0|                     0.0|     normal|              21|    train|\n",
      "|       0|          tcp|  ftp_data|  SF|      334|        0|   0|             0|     0|  0|                0|        1|              0|         0|           0|       0|                 0|         0|               0|                0|            0|             0|    2|        2|        0.0|            0.0|        0.0|            0.0|          1.0|          0.0|               0.0|             2|                20|                   1.0|                   0.0|                        1.0|                        0.2|                 0.0|                     0.0|                 0.0|                     0.0|warezclient|              15|    train|\n",
      "|       0|          tcp|      name|  S0|        0|        0|   0|             0|     0|  0|                0|        0|              0|         0|           0|       0|                 0|         0|               0|                0|            0|             0|  233|        1|        1.0|            1.0|        0.0|            0.0|          0.0|         0.06|               0.0|           255|                 1|                   0.0|                  0.07|                        0.0|                        0.0|                 1.0|                     1.0|                 0.0|                     0.0|    neptune|              19|    train|\n",
      "|       0|          tcp|netbios_ns|  S0|        0|        0|   0|             0|     0|  0|                0|        0|              0|         0|           0|       0|                 0|         0|               0|                0|            0|             0|   96|       16|        1.0|            1.0|        0.0|            0.0|         0.17|         0.05|               0.0|           255|                 2|                  0.01|                  0.06|                        0.0|                        0.0|                 1.0|                     1.0|                 0.0|                     0.0|    neptune|              18|    train|\n",
      "|       0|          tcp|      http|  SF|      300|    13788|   0|             0|     0|  0|                0|        1|              0|         0|           0|       0|                 0|         0|               0|                0|            0|             0|    8|        9|        0.0|           0.11|        0.0|            0.0|          1.0|          0.0|              0.22|            91|               255|                   1.0|                   0.0|                       0.01|                       0.02|                 0.0|                     0.0|                 0.0|                     0.0|     normal|              21|    train|\n",
      "|       0|         icmp|     eco_i|  SF|       18|        0|   0|             0|     0|  0|                0|        0|              0|         0|           0|       0|                 0|         0|               0|                0|            0|             0|    1|        1|        0.0|            0.0|        0.0|            0.0|          1.0|          0.0|               0.0|             1|                16|                   1.0|                   0.0|                        1.0|                        1.0|                 0.0|                     0.0|                 0.0|                     0.0|    ipsweep|              18|    train|\n",
      "|       0|          tcp|      http|  SF|      233|      616|   0|             0|     0|  0|                0|        1|              0|         0|           0|       0|                 0|         0|               0|                0|            0|             0|    3|        3|        0.0|            0.0|        0.0|            0.0|          1.0|          0.0|               0.0|            66|               255|                   1.0|                   0.0|                       0.02|                       0.03|                 0.0|                     0.0|                0.02|                     0.0|     normal|              21|    train|\n",
      "|       0|          tcp|      http|  SF|      343|     1178|   0|             0|     0|  0|                0|        1|              0|         0|           0|       0|                 0|         0|               0|                0|            0|             0|    9|       10|        0.0|            0.0|        0.0|            0.0|          1.0|          0.0|               0.2|           157|               255|                   1.0|                   0.0|                       0.01|                       0.04|                 0.0|                     0.0|                 0.0|                     0.0|     normal|              21|    train|\n",
      "+--------+-------------+----------+----+---------+---------+----+--------------+------+---+-----------------+---------+---------------+----------+------------+--------+------------------+----------+----------------+-----------------+-------------+--------------+-----+---------+-----------+---------------+-----------+---------------+-------------+-------------+------------------+--------------+------------------+----------------------+----------------------+---------------------------+---------------------------+--------------------+------------------------+--------------------+------------------------+-----------+----------------+---------+\n",
      "only showing top 20 rows\n",
      "\n"
     ]
    }
   ],
   "source": [
    "# Test that the db has dataset\n",
    "jdbcDF = spark.read \\\n",
    "    .format(\"jdbc\") \\\n",
    "    .option(\"url\", db_properties['url']) \\\n",
    "    .option(\"dbtable\", db_properties['table']) \\\n",
    "    .option(\"user\", db_properties['username']) \\\n",
    "    .option(\"password\", db_properties['password']) \\\n",
    "    .option(\"driver\", db_properties['driver']) \\\n",
    "    .load()\n",
    "\n",
    "jdbcDF.show()"
   ]
  },
  {
   "cell_type": "code",
   "execution_count": 16,
   "metadata": {},
   "outputs": [
    {
     "name": "stdout",
     "output_type": "stream",
     "text": [
      "+---------+------+\n",
      "|data_type| count|\n",
      "+---------+------+\n",
      "|    train|125973|\n",
      "|     test| 22544|\n",
      "+---------+------+\n",
      "\n"
     ]
    }
   ],
   "source": [
    "jdbcDF.groupBy(\"data_type\").count().show()"
   ]
  },
  {
   "cell_type": "markdown",
   "metadata": {},
   "source": [
    "## Q5"
   ]
  },
  {
   "cell_type": "markdown",
   "metadata": {},
   "source": [
    "#### Phase-I"
   ]
  },
  {
   "cell_type": "code",
   "execution_count": 3,
   "metadata": {},
   "outputs": [
    {
     "name": "stderr",
     "output_type": "stream",
     "text": [
      "24/10/03 19:06:22 WARN SQLConf: The SQL config 'spark.sql.execution.arrow.enabled' has been deprecated in Spark v3.0 and may be removed in the future. Use 'spark.sql.execution.arrow.pyspark.enabled' instead of it.\n"
     ]
    }
   ],
   "source": [
    "# Ingest data\n",
    "col_names = [\n",
    "    \"game_id\",\n",
    "    \"play_id\",\n",
    "    \"quarter\",\n",
    "    \"game_clock\",\n",
    "    \"down\",\n",
    "    \"yards_to_go\",\n",
    "    \"possession_team\",\n",
    "    \"yardline_side\",\n",
    "    \"yardline_number\",\n",
    "    \"offense_formation\",\n",
    "    \"personnel_offense\",\n",
    "    \"defenders_in_the_box\",\n",
    "    \"number_of_pass_rushers\",\n",
    "    \"personnel_defense\",\n",
    "    \"home_score_before_play\",\n",
    "    \"visitor_score_before_play\",\n",
    "    \"home_score_after_play\",\n",
    "    \"visitor_score_after_play\",\n",
    "    \"is_penalty\",\n",
    "    \"is_ST_play\",\n",
    "    \"special_teams_play_type\",\n",
    "    \"kick_return_yardage\",\n",
    "    \"pass_length\",\n",
    "    \"pass_result\",\n",
    "    \"yards_after_catch\",\n",
    "    \"play_result\",\n",
    "    \"play_description\"]\n",
    "\n",
    "df = spark.read.csv(\"./plays.csv\",header=True, inferSchema=True).toDF(*col_names)"
   ]
  },
  {
   "cell_type": "code",
   "execution_count": 4,
   "metadata": {},
   "outputs": [
    {
     "name": "stdout",
     "output_type": "stream",
     "text": [
      "+----------+-------+-------+-------------------+----+-----------+---------------+-------------+---------------+-----------------+-----------------+--------------------+----------------------+-----------------+----------------------+-------------------------+---------------------+------------------------+----------+----------+-----------------------+-------------------+-----------+-----------+-----------------+-----------+--------------------+\n",
      "|   game_id|play_id|quarter|         game_clock|down|yards_to_go|possession_team|yardline_side|yardline_number|offense_formation|personnel_offense|defenders_in_the_box|number_of_pass_rushers|personnel_defense|home_score_before_play|visitor_score_before_play|home_score_after_play|visitor_score_after_play|is_penalty|is_ST_play|special_teams_play_type|kick_return_yardage|pass_length|pass_result|yards_after_catch|play_result|    play_description|\n",
      "+----------+-------+-------+-------------------+----+-----------+---------------+-------------+---------------+-----------------+-----------------+--------------------+----------------------+-----------------+----------------------+-------------------------+---------------------+------------------------+----------+----------+-----------------------+-------------------+-----------+-----------+-----------------+-----------+--------------------+\n",
      "|2017091004|     37|      1|2024-10-03 15:00:00|   0|          0|            DET|          DET|             35|               NA|               NA|                  NA|                    NA|               NA|                     0|                        0|                    0|                       0|     false|      true|                Kickoff|                 23|         NA|         NA|               NA|         42|K.Redfern kicks 6...|\n",
      "|2017091004|     73|      1|2024-10-03 14:54:00|   1|         10|            ARI|          ARI|             23|          SHOTGUN| 1 RB, 1 TE, 3 WR|                   6|                     4| 4 DL, 2 LB, 5 DB|                     0|                        0|                    0|                       0|     false|     false|                     NA|                 NA|         -2|          C|                6|          4|(14:54) (Shotgun)...|\n",
      "|2017091004|     97|      1|2024-10-03 14:16:00|   2|          6|            ARI|          ARI|             27|       SINGLEBACK| 1 RB, 1 TE, 3 WR|                   6|                    NA| 4 DL, 2 LB, 5 DB|                     0|                        0|                    0|                       0|     false|     false|                     NA|                 NA|         NA|         NA|               NA|          2|(14:16) Da.Johnso...|\n",
      "|2017091004|    118|      1|2024-10-03 13:34:00|   3|          4|            ARI|          ARI|             29|          SHOTGUN| 1 RB, 0 TE, 4 WR|                   5|                     4| 4 DL, 1 LB, 6 DB|                     0|                        0|                    0|                       0|     false|     false|                     NA|                 NA|          7|          C|                7|         15|(13:34) (Shotgun)...|\n",
      "|2017091004|    153|      1|2024-10-03 12:51:00|   1|         10|            ARI|          ARI|             44|          SHOTGUN| 1 RB, 2 TE, 2 WR|                   7|                    NA| 4 DL, 3 LB, 4 DB|                     0|                        0|                    0|                       0|     false|     false|                     NA|                 NA|         NA|         NA|               NA|         -2|(12:51) (Shotgun)...|\n",
      "|2017091004|    174|      1|2024-10-03 12:13:00|   2|         12|            ARI|          ARI|             42|            EMPTY| 1 RB, 2 TE, 2 WR|                   6|                     4| 4 DL, 3 LB, 4 DB|                     0|                        0|                    0|                       0|      true|     false|                     NA|                 NA|          7|          I|               NA|          0|(12:13) C.Palmer ...|\n",
      "|2017091004|    207|      1|2024-10-03 12:08:00|   3|         12|            ARI|          ARI|             42|          SHOTGUN| 1 RB, 1 TE, 3 WR|                   5|                     4| 4 DL, 1 LB, 6 DB|                     0|                        0|                    0|                       0|     false|     false|                     NA|                 NA|          7|         IN|               NA|          0|(12:08) (Shotgun)...|\n",
      "|2017091004|    233|      1|2024-10-03 12:00:00|   1|         10|            DET|          ARI|             26|       SINGLEBACK| 1 RB, 2 TE, 2 WR|                   6|                    NA| 3 DL, 4 LB, 4 DB|                     0|                        0|                    0|                       0|     false|     false|                     NA|                 NA|         NA|         NA|               NA|          5|(12:00) A.Abdulla...|\n",
      "|2017091004|    254|      1|2024-10-03 11:29:00|   2|          5|            DET|          ARI|             21|          SHOTGUN| 1 RB, 1 TE, 3 WR|                   6|                     4| 2 DL, 4 LB, 5 DB|                     0|                        0|                    0|                       6|     false|     false|                     NA|                 NA|          3|         IN|               NA|          0|(11:29) (Shotgun)...|\n",
      "|2017091004|    276|      1|2024-10-03 11:14:00|   0|          0|            ARI|          DET|             15|               NA|               NA|                  NA|                    NA|               NA|                     0|                        6|                    0|                       7|     false|      true|            Extra Point|                 NA|         NA|         NA|               NA|          0|P.Dawson extra po...|\n",
      "|2017091004|    292|      1|2024-10-03 11:14:00|   0|          0|            ARI|          ARI|             35|               NA|               NA|                  NA|                    NA|               NA|                     0|                        7|                    0|                       7|     false|      true|                Kickoff|                 18|         NA|         NA|               NA|         50|P.Dawson kicks 68...|\n",
      "|2017091004|    316|      1|2024-10-03 11:08:00|   1|         10|            DET|          DET|             15|       SINGLEBACK| 1 RB, 1 TE, 3 WR|                   7|                    NA| 2 DL, 4 LB, 5 DB|                     0|                        7|                    0|                       7|     false|     false|                     NA|                 NA|         NA|         NA|               NA|          0|(11:08) A.Abdulla...|\n",
      "|2017091004|    337|      1|2024-10-03 10:29:00|   2|         10|            DET|          DET|             15|            EMPTY| 1 RB, 1 TE, 3 WR|                   5|                     4| 3 DL, 3 LB, 5 DB|                     0|                        7|                    0|                       7|     false|     false|                     NA|                 NA|          2|          C|                0|          2|(10:29) (No Huddl...|\n",
      "|2017091004|    361|      1|2024-10-03 09:51:00|   3|          8|            DET|          DET|             17|          SHOTGUN| 1 RB, 1 TE, 3 WR|                   4|                     4| 1 DL, 3 LB, 7 DB|                     0|                        7|                    0|                       7|     false|     false|                     NA|                 NA|         28|          I|               NA|          0|(9:51) (No Huddle...|\n",
      "|2017091004|    383|      1|2024-10-03 09:42:00|   4|          8|            DET|          DET|             17|               NA|               NA|                  NA|                    NA|               NA|                     0|                        7|                    0|                       7|     false|      true|                   Punt|                  0|         NA|         NA|               NA|         50|(9:42) K.Redfern ...|\n",
      "|2017091004|    408|      1|2024-10-03 09:33:00|   1|         10|            ARI|          ARI|             33|            EMPTY| 1 RB, 3 TE, 1 WR|                   6|                     5| 4 DL, 4 LB, 3 DB|                     0|                        7|                    0|                       7|     false|     false|                     NA|                 NA|         -2|          C|                5|          3|(9:33) (Shotgun) ...|\n",
      "|2017091004|    432|      1|2024-10-03 08:57:00|   2|          7|            ARI|          ARI|             36|       SINGLEBACK| 1 RB, 2 TE, 2 WR|                   7|                    NA| 4 DL, 3 LB, 4 DB|                     0|                        7|                    0|                       7|     false|     false|                     NA|                 NA|         NA|         NA|               NA|          6|(8:57) Da.Johnson...|\n",
      "|2017091004|    453|      1|2024-10-03 08:37:00|   3|          1|            ARI|          ARI|             42|           I_FORM| 2 RB, 2 TE, 1 WR|                   8|                    NA| 4 DL, 3 LB, 4 DB|                     0|                        7|                    0|                       7|     false|     false|                     NA|                 NA|         NA|         NA|               NA|          0|(8:37) Da.Johnson...|\n",
      "|2017091004|    478|      1|2024-10-03 08:08:00|   4|          1|            ARI|          ARI|             42|               NA|               NA|                  NA|                    NA|               NA|                     0|                        7|                    0|                       7|      true|      true|                   Punt|                 11|         NA|         NA|               NA|         44|(8:08) A.Lee punt...|\n",
      "|2017091004|    514|      1|2024-10-03 07:56:00|   1|         10|            DET|          DET|             14|       SINGLEBACK| 1 RB, 1 TE, 3 WR|                   6|                     4| 2 DL, 4 LB, 5 DB|                     0|                        7|                    0|                       7|     false|     false|                     NA|                 NA|         NA|          S|               NA|         -7|(7:56) M.Stafford...|\n",
      "+----------+-------+-------+-------------------+----+-----------+---------------+-------------+---------------+-----------------+-----------------+--------------------+----------------------+-----------------+----------------------+-------------------------+---------------------+------------------------+----------+----------+-----------------------+-------------------+-----------+-----------+-----------------+-----------+--------------------+\n",
      "only showing top 20 rows\n",
      "\n"
     ]
    },
    {
     "name": "stderr",
     "output_type": "stream",
     "text": [
      "24/10/03 19:06:22 WARN SparkStringUtils: Truncated the string representation of a plan since it was too large. This behavior can be adjusted by setting 'spark.sql.debug.maxToStringFields'.\n"
     ]
    }
   ],
   "source": [
    "df.show()"
   ]
  },
  {
   "cell_type": "code",
   "execution_count": 5,
   "metadata": {},
   "outputs": [
    {
     "name": "stdout",
     "output_type": "stream",
     "text": [
      "root\n",
      " |-- game_id: integer (nullable = true)\n",
      " |-- play_id: integer (nullable = true)\n",
      " |-- quarter: integer (nullable = true)\n",
      " |-- game_clock: timestamp (nullable = true)\n",
      " |-- down: integer (nullable = true)\n",
      " |-- yards_to_go: integer (nullable = true)\n",
      " |-- possession_team: string (nullable = true)\n",
      " |-- yardline_side: string (nullable = true)\n",
      " |-- yardline_number: string (nullable = true)\n",
      " |-- offense_formation: string (nullable = true)\n",
      " |-- personnel_offense: string (nullable = true)\n",
      " |-- defenders_in_the_box: string (nullable = true)\n",
      " |-- number_of_pass_rushers: string (nullable = true)\n",
      " |-- personnel_defense: string (nullable = true)\n",
      " |-- home_score_before_play: integer (nullable = true)\n",
      " |-- visitor_score_before_play: integer (nullable = true)\n",
      " |-- home_score_after_play: integer (nullable = true)\n",
      " |-- visitor_score_after_play: integer (nullable = true)\n",
      " |-- is_penalty: boolean (nullable = true)\n",
      " |-- is_ST_play: boolean (nullable = true)\n",
      " |-- special_teams_play_type: string (nullable = true)\n",
      " |-- kick_return_yardage: string (nullable = true)\n",
      " |-- pass_length: string (nullable = true)\n",
      " |-- pass_result: string (nullable = true)\n",
      " |-- yards_after_catch: string (nullable = true)\n",
      " |-- play_result: integer (nullable = true)\n",
      " |-- play_description: string (nullable = true)\n",
      "\n"
     ]
    }
   ],
   "source": [
    "df.printSchema()"
   ]
  },
  {
   "cell_type": "code",
   "execution_count": 6,
   "metadata": {},
   "outputs": [
    {
     "name": "stderr",
     "output_type": "stream",
     "text": [
      "[Stage 3:>                                                          (0 + 1) / 1]\r"
     ]
    },
    {
     "name": "stdout",
     "output_type": "stream",
     "text": [
      "+-------+--------------------+------------------+------------------+------------------+-----------------+---------------+-------------+------------------+-----------------+-----------------+--------------------+----------------------+--------------------+----------------------+-------------------------+---------------------+------------------------+-----------------------+-------------------+------------------+-----------+-----------------+------------------+--------------------+\n",
      "|summary|             game_id|           play_id|           quarter|              down|      yards_to_go|possession_team|yardline_side|   yardline_number|offense_formation|personnel_offense|defenders_in_the_box|number_of_pass_rushers|   personnel_defense|home_score_before_play|visitor_score_before_play|home_score_after_play|visitor_score_after_play|special_teams_play_type|kick_return_yardage|       pass_length|pass_result|yards_after_catch|       play_result|    play_description|\n",
      "+-------+--------------------+------------------+------------------+------------------+-----------------+---------------+-------------+------------------+-----------------+-----------------+--------------------+----------------------+--------------------+----------------------+-------------------------+---------------------+------------------------+-----------------------+-------------------+------------------+-----------+-----------------+------------------+--------------------+\n",
      "|  count|               14193|             14193|             14193|             14193|            14193|          14193|        14193|             14193|            14193|            14193|               14193|                 14193|               14193|                 14193|                    14193|                14193|                   14193|                  14193|              14193|             14193|      14193|            14193|             14193|               14193|\n",
      "|   mean|2.0170960905382936E9| 2085.233847671387|2.5608398506305927|1.8134996124850278|7.861128725428028|           NULL|         NULL|28.633340469563976|             NULL|             NULL|   6.474385600553825|     4.217287630402384|                NULL|    11.466356654688932|        9.921581061086451|   11.613471429577961|      10.059395476643417|                   NULL|           13.21875| 8.263695895224405|       NULL|4.958089916179833| 9.325864862960614|                NULL|\n",
      "| stddev|   4558.256950725915|1231.2358042280075|1.1289378903268517|1.1317311928326066|4.705963054391088|           NULL|         NULL|12.368636330183275|             NULL|             NULL|   1.097001070649415|    0.8889103827918556|                NULL|    10.256910480543226|        9.232038381355254|   10.295772165456794|       9.270863493872168|                   NULL|  40.48304199525018|10.158957378996734|       NULL|6.718158956536162|14.987104272083037|                NULL|\n",
      "|    min|          2017090700|                35|                 1|                 0|                0|            ARI|          ARI|                 1|              ACE| 0 RB, 0 TE, 5 WR|                  10|                     0|0 DL, 2 LB, 5 DB,...|                     0|                        0|                    0|                       0|            Extra Point|                 -1|                -1|          C|               -1|               -86|\"(10:05) (Shotgun...|\n",
      "|    max|          2017101600|              5531|                 5|                 4|               40|            WAS|          WAS|                NA|          WILDCAT|               NA|                  NA|                    NA|                  NA|                    57|                       42|                   57|                      42|                   Punt|                 NA|                NA|          S|               NA|                90|Z.Gonzalez kicks ...|\n",
      "+-------+--------------------+------------------+------------------+------------------+-----------------+---------------+-------------+------------------+-----------------+-----------------+--------------------+----------------------+--------------------+----------------------+-------------------------+---------------------+------------------------+-----------------------+-------------------+------------------+-----------+-----------------+------------------+--------------------+\n",
      "\n"
     ]
    },
    {
     "name": "stderr",
     "output_type": "stream",
     "text": [
      "                                                                                \r"
     ]
    }
   ],
   "source": [
    "df.describe().show()"
   ]
  },
  {
   "cell_type": "markdown",
   "metadata": {},
   "source": [
    "#### Casting column data types"
   ]
  },
  {
   "cell_type": "markdown",
   "metadata": {},
   "source": [
    "**Column that need to cast type**\n",
    "\n",
    "- yards_after_catch -> to_number\n",
    "\n",
    "- pass_length -> to_number\n",
    "\n",
    "- kick_return_yardage -> to_number\n",
    "\n",
    "- number_of_pass_rushers -> to_number\n",
    "\n",
    "- defenders_in_the_box -> to_number\n",
    "\n",
    "- yardline_number -> to_number"
   ]
  },
  {
   "cell_type": "code",
   "execution_count": 7,
   "metadata": {},
   "outputs": [
    {
     "name": "stdout",
     "output_type": "stream",
     "text": [
      "root\n",
      " |-- game_id: integer (nullable = true)\n",
      " |-- play_id: integer (nullable = true)\n",
      " |-- quarter: integer (nullable = true)\n",
      " |-- down: integer (nullable = true)\n",
      " |-- yards_to_go: integer (nullable = true)\n",
      " |-- possession_team: string (nullable = true)\n",
      " |-- yardline_side: string (nullable = true)\n",
      " |-- offense_formation: string (nullable = true)\n",
      " |-- personnel_offense: string (nullable = true)\n",
      " |-- personnel_defense: string (nullable = true)\n",
      " |-- home_score_before_play: integer (nullable = true)\n",
      " |-- visitor_score_before_play: integer (nullable = true)\n",
      " |-- home_score_after_play: integer (nullable = true)\n",
      " |-- visitor_score_after_play: integer (nullable = true)\n",
      " |-- is_penalty: boolean (nullable = true)\n",
      " |-- is_ST_play: boolean (nullable = true)\n",
      " |-- special_teams_play_type: string (nullable = true)\n",
      " |-- pass_result: string (nullable = true)\n",
      " |-- play_result: integer (nullable = true)\n",
      " |-- play_description: string (nullable = true)\n",
      " |-- game_clock_string: string (nullable = true)\n",
      " |-- yards_after_catch: double (nullable = true)\n",
      " |-- pass_length: integer (nullable = true)\n",
      " |-- kick_return_yardage: integer (nullable = true)\n",
      " |-- number_of_pass_rushers: double (nullable = true)\n",
      " |-- defenders_in_the_box: integer (nullable = true)\n",
      " |-- yardline_number: integer (nullable = true)\n",
      "\n"
     ]
    }
   ],
   "source": [
    "from pyspark.sql.functions import *\n",
    "# Casting game_clock column to string\n",
    "casted_types_df = (df.withColumn(\"game_clock_string\", df[\"game_clock\"] \\\n",
    "                    .cast(\"string\")).drop(\"game_clock\") \n",
    "           )\n",
    "# Casting yards_after_catch column to double\n",
    "casted_types_df = (casted_types_df.withColumn(\"yards_after_catch_numerical\", casted_types_df[\"yards_after_catch\"] \\\n",
    "                    .cast(\"double\")).drop(\"yards_after_catch\") \n",
    "           )\n",
    "casted_types_df = casted_types_df.withColumnRenamed(\"yards_after_catch_numerical\",\"yards_after_catch\")\n",
    "\n",
    "# Casting pass_length column to integer\n",
    "casted_types_df = (casted_types_df.withColumn(\"pass_length_numerical\", casted_types_df[\"pass_length\"] \\\n",
    "                    .cast(\"integer\")).drop(\"pass_length\") \n",
    "           )\n",
    "casted_types_df = casted_types_df.withColumnRenamed(\"pass_length_numerical\",\"pass_length\")\n",
    "\n",
    "# Casting kick_return_yardage column to integer\n",
    "casted_types_df = (casted_types_df.withColumn(\"kick_return_yardage_numerical\", casted_types_df[\"kick_return_yardage\"] \\\n",
    "                    .cast(\"integer\")).drop(\"kick_return_yardage\") \n",
    "           )\n",
    "casted_types_df = casted_types_df.withColumnRenamed(\"kick_return_yardage_numerical\",\"kick_return_yardage\")\n",
    "\n",
    "# Casting number_of_pass_rushers column to double\n",
    "casted_types_df = (casted_types_df.withColumn(\"number_of_pass_rushers_numerical\", casted_types_df[\"number_of_pass_rushers\"] \\\n",
    "                    .cast(\"double\")).drop(\"number_of_pass_rushers\") \n",
    "           )\n",
    "casted_types_df = casted_types_df.withColumnRenamed(\"number_of_pass_rushers_numerical\",\"number_of_pass_rushers\")\n",
    "\n",
    "# Casting defenders_in_the_box column to integer\n",
    "casted_types_df = (casted_types_df.withColumn(\"defenders_in_the_box_numerical\", casted_types_df[\"defenders_in_the_box\"] \\\n",
    "                    .cast(\"integer\")).drop(\"defenders_in_the_box\") \n",
    "           )\n",
    "casted_types_df = casted_types_df.withColumnRenamed(\"defenders_in_the_box_numerical\",\"defenders_in_the_box\")\n",
    "\n",
    "# Casting yardline_number column to integer\n",
    "casted_types_df = (casted_types_df.withColumn(\"yardline_number_numerical\", casted_types_df[\"yardline_number\"] \\\n",
    "                    .cast(\"integer\")).drop(\"yardline_number\") \n",
    "           )\n",
    "casted_types_df = casted_types_df.withColumnRenamed(\"yardline_number_numerical\",\"yardline_number\")\n",
    "\n",
    "\n",
    "casted_types_df.printSchema()"
   ]
  },
  {
   "cell_type": "markdown",
   "metadata": {},
   "source": [
    "#### Handling Missing Values"
   ]
  },
  {
   "cell_type": "code",
   "execution_count": 8,
   "metadata": {},
   "outputs": [
    {
     "name": "stdout",
     "output_type": "stream",
     "text": [
      "Total \n",
      "-RECORD 0-----------------------------------------\n",
      " game_id                   | 0.0                  \n",
      " play_id                   | 0.0                  \n",
      " quarter                   | 0.0                  \n",
      " down                      | 0.0                  \n",
      " yards_to_go               | 0.0                  \n",
      " possession_team           | 0.0                  \n",
      " yardline_side             | 0.0                  \n",
      " offense_formation         | 0.0                  \n",
      " personnel_offense         | 0.0                  \n",
      " personnel_defense         | 0.0                  \n",
      " home_score_before_play    | 0.0                  \n",
      " visitor_score_before_play | 0.0                  \n",
      " home_score_after_play     | 0.0                  \n",
      " visitor_score_after_play  | 0.0                  \n",
      " is_penalty                | 0.0                  \n",
      " is_ST_play                | 0.0                  \n",
      " special_teams_play_type   | 0.0                  \n",
      " pass_result               | 0.0                  \n",
      " play_result               | 0.0                  \n",
      " play_description          | 0.0                  \n",
      " game_clock_string         | 0.0                  \n",
      " yards_after_catch         | 0.7226097371943916   \n",
      " pass_length               | 0.5588670471359121   \n",
      " kick_return_yardage       | 0.9503980835623195   \n",
      " number_of_pass_rushers    | 0.5272317339533573   \n",
      " defenders_in_the_box      | 0.18579581483830057  \n",
      " yardline_number           | 0.012682308180088777 \n",
      "\n"
     ]
    }
   ],
   "source": [
    "# Check NULL values\n",
    "total_rows = casted_types_df.count() # Total number of rows in the DataFrame\n",
    "print(\"Total \")\n",
    "null_counts_plays_df = casted_types_df.select([(count(when(col(c).isNull(), c)) / total_rows).alias(c) \\\n",
    "                        for c in casted_types_df.columns])\n",
    "\n",
    "null_counts_plays_df.show(truncate=False, vertical=True)"
   ]
  },
  {
   "cell_type": "code",
   "execution_count": 9,
   "metadata": {},
   "outputs": [
    {
     "name": "stdout",
     "output_type": "stream",
     "text": [
      "root\n",
      " |-- game_id: integer (nullable = true)\n",
      " |-- play_id: integer (nullable = true)\n",
      " |-- quarter: integer (nullable = true)\n",
      " |-- down: integer (nullable = true)\n",
      " |-- yards_to_go: integer (nullable = true)\n",
      " |-- possession_team: string (nullable = true)\n",
      " |-- yardline_side: string (nullable = true)\n",
      " |-- offense_formation: string (nullable = true)\n",
      " |-- personnel_offense: string (nullable = true)\n",
      " |-- personnel_defense: string (nullable = true)\n",
      " |-- home_score_before_play: integer (nullable = true)\n",
      " |-- visitor_score_before_play: integer (nullable = true)\n",
      " |-- home_score_after_play: integer (nullable = true)\n",
      " |-- visitor_score_after_play: integer (nullable = true)\n",
      " |-- is_penalty: boolean (nullable = true)\n",
      " |-- is_ST_play: boolean (nullable = true)\n",
      " |-- special_teams_play_type: string (nullable = true)\n",
      " |-- pass_result: string (nullable = true)\n",
      " |-- play_result: integer (nullable = true)\n",
      " |-- play_description: string (nullable = true)\n",
      " |-- game_clock_string: string (nullable = true)\n",
      " |-- yards_after_catch: double (nullable = true)\n",
      " |-- number_of_pass_rushers: double (nullable = true)\n",
      " |-- defenders_in_the_box: integer (nullable = true)\n",
      " |-- yardline_number: integer (nullable = true)\n",
      "\n"
     ]
    }
   ],
   "source": [
    "# Drop the column that contain NULL more than 50%\n",
    "# yards_after_catch is importance feature -> imputation\n",
    "# pass_length is not importace feature -> drop\n",
    "# kick_return_yardage has significantly miss data -> drop\n",
    "# number_of_pass_rushers is importance feature -> imputation\n",
    "\n",
    "casted_types_df_with_na_dropped_column = casted_types_df.drop(\"pass_length\")\n",
    "casted_types_df_with_na_dropped_column = casted_types_df_with_na_dropped_column.drop(\"kick_return_yardage\")\n",
    "casted_types_df_with_na_dropped_column.printSchema()"
   ]
  },
  {
   "cell_type": "code",
   "execution_count": 10,
   "metadata": {},
   "outputs": [
    {
     "data": {
      "text/plain": [
       "11391"
      ]
     },
     "execution_count": 10,
     "metadata": {},
     "output_type": "execute_result"
    }
   ],
   "source": [
    "# Drop the row that contain NULL \n",
    "# defenders_in_the_box \n",
    "# yardline_number\n",
    "casted_types_df_with_na_dropped_rows = casted_types_df_with_na_dropped_column.na.drop(subset=[\"defenders_in_the_box\",\"yardline_number\"])\n",
    "casted_types_df_with_na_dropped_rows.count()\n"
   ]
  },
  {
   "cell_type": "code",
   "execution_count": 11,
   "metadata": {},
   "outputs": [
    {
     "name": "stderr",
     "output_type": "stream",
     "text": [
      "24/10/03 19:06:26 WARN SQLConf: The SQL config 'spark.sql.execution.arrow.enabled' has been deprecated in Spark v3.0 and may be removed in the future. Use 'spark.sql.execution.arrow.pyspark.enabled' instead of it.\n"
     ]
    }
   ],
   "source": [
    "from pyspark.ml.feature import Imputer\n",
    "\n",
    "columns_to_be_imputed = [\"yards_after_catch\",\"number_of_pass_rushers\"]\n",
    "# Create new columns with imputed values. New columns will be suffixed with \"_imputed\"\n",
    "imputer = Imputer (\n",
    "            inputCols=columns_to_be_imputed,\n",
    "            outputCols=[\"{}_imputed\".format(c) for c in columns_to_be_imputed])\\\n",
    "            .setStrategy(\"median\")\n",
    "\n",
    "df_imputed = imputer.fit(casted_types_df_with_na_dropped_rows).transform(casted_types_df_with_na_dropped_rows)"
   ]
  },
  {
   "cell_type": "code",
   "execution_count": 12,
   "metadata": {},
   "outputs": [
    {
     "name": "stdout",
     "output_type": "stream",
     "text": [
      "-RECORD 0----------------------------------------------\n",
      " game_id                        | 2017091004           \n",
      " play_id                        | 73                   \n",
      " quarter                        | 1                    \n",
      " down                           | 1                    \n",
      " yards_to_go                    | 10                   \n",
      " possession_team                | ARI                  \n",
      " yardline_side                  | ARI                  \n",
      " offense_formation              | SHOTGUN              \n",
      " personnel_offense              | 1 RB, 1 TE, 3 WR     \n",
      " personnel_defense              | 4 DL, 2 LB, 5 DB     \n",
      " home_score_before_play         | 0                    \n",
      " visitor_score_before_play      | 0                    \n",
      " home_score_after_play          | 0                    \n",
      " visitor_score_after_play       | 0                    \n",
      " is_penalty                     | false                \n",
      " is_ST_play                     | false                \n",
      " special_teams_play_type        | NA                   \n",
      " pass_result                    | C                    \n",
      " play_result                    | 4                    \n",
      " play_description               | (14:54) (Shotgun)... \n",
      " game_clock_string              | 2024-10-03 14:54:00  \n",
      " number_of_pass_rushers         | 4.0                  \n",
      " defenders_in_the_box           | 6                    \n",
      " yardline_number                | 23                   \n",
      " yards_after_catch              | 6.0                  \n",
      " number_of_pass_rushers_imputed | 4.0                  \n",
      "only showing top 1 row\n",
      "\n"
     ]
    }
   ],
   "source": [
    "# we will drop the old column without imputation. We have only one column to be imputed\n",
    "df_imputed_enhanced = df_imputed.drop(columns_to_be_imputed[0])\n",
    "df_fully_imputed = df_imputed_enhanced.withColumnRenamed(\"yards_after_catch_imputed\",\"yards_after_catch\")\n",
    "df_fully_imputed.show(1, vertical=True)"
   ]
  },
  {
   "cell_type": "code",
   "execution_count": 13,
   "metadata": {},
   "outputs": [
    {
     "name": "stdout",
     "output_type": "stream",
     "text": [
      "root\n",
      " |-- game_id: integer (nullable = true)\n",
      " |-- play_id: integer (nullable = true)\n",
      " |-- quarter: integer (nullable = true)\n",
      " |-- down: integer (nullable = true)\n",
      " |-- yards_to_go: integer (nullable = true)\n",
      " |-- possession_team: string (nullable = true)\n",
      " |-- yardline_side: string (nullable = true)\n",
      " |-- offense_formation: string (nullable = true)\n",
      " |-- personnel_offense: string (nullable = true)\n",
      " |-- personnel_defense: string (nullable = true)\n",
      " |-- home_score_before_play: integer (nullable = true)\n",
      " |-- visitor_score_before_play: integer (nullable = true)\n",
      " |-- home_score_after_play: integer (nullable = true)\n",
      " |-- visitor_score_after_play: integer (nullable = true)\n",
      " |-- is_penalty: boolean (nullable = true)\n",
      " |-- is_ST_play: boolean (nullable = true)\n",
      " |-- special_teams_play_type: string (nullable = true)\n",
      " |-- pass_result: string (nullable = true)\n",
      " |-- play_result: integer (nullable = true)\n",
      " |-- play_description: string (nullable = true)\n",
      " |-- game_clock_string: string (nullable = true)\n",
      " |-- defenders_in_the_box: integer (nullable = true)\n",
      " |-- yardline_number: integer (nullable = true)\n",
      " |-- yards_after_catch: double (nullable = true)\n",
      " |-- number_of_pass_rushers: double (nullable = true)\n",
      "\n"
     ]
    }
   ],
   "source": [
    "df_imputed_enhanced = df_fully_imputed.drop(columns_to_be_imputed[1])\n",
    "df_fully_imputed = df_imputed_enhanced.withColumnRenamed(\"number_of_pass_rushers_imputed\",\"number_of_pass_rushers\")\n",
    "df_fully_imputed.printSchema()"
   ]
  },
  {
   "cell_type": "code",
   "execution_count": 14,
   "metadata": {},
   "outputs": [
    {
     "name": "stdout",
     "output_type": "stream",
     "text": [
      "-RECORD 0---------------------------------------\n",
      " game_id                   | 0.0                \n",
      " play_id                   | 0.0                \n",
      " quarter                   | 0.0                \n",
      " down                      | 0.0                \n",
      " yards_to_go               | 0.0                \n",
      " possession_team           | 0.0                \n",
      " yardline_side             | 0.0                \n",
      " offense_formation         | 0.9441273867399421 \n",
      " personnel_offense         | 0.0                \n",
      " personnel_defense         | 0.0                \n",
      " home_score_before_play    | 0.0                \n",
      " visitor_score_before_play | 0.0                \n",
      " home_score_after_play     | 0.0                \n",
      " visitor_score_after_play  | 0.0                \n",
      " is_penalty                | 0.0                \n",
      " is_ST_play                | 0.0                \n",
      " special_teams_play_type   | 80.25082787289509  \n",
      " pass_result               | 32.00873670119073  \n",
      " play_result               | 0.0                \n",
      " play_description          | 0.0                \n",
      " game_clock_string         | 0.0                \n",
      " defenders_in_the_box      | 0.0                \n",
      " yardline_number           | 0.0                \n",
      " yards_after_catch         | 0.0                \n",
      " number_of_pass_rushers    | 0.0                \n",
      "\n"
     ]
    }
   ],
   "source": [
    "# Check NA values\n",
    "\n",
    "# Calculate the percent of 'NA' values for dropping column(s)\n",
    "na_counts = df_fully_imputed.select([\n",
    "    (count(when(col(c) == 'NA', c)) / total_rows * 100).alias(c) for c in df_fully_imputed.columns\n",
    "])\n",
    "# Show the counts of 'NA' values for each column\n",
    "na_counts.show(truncate=False, vertical=True)"
   ]
  },
  {
   "cell_type": "code",
   "execution_count": 15,
   "metadata": {},
   "outputs": [
    {
     "name": "stdout",
     "output_type": "stream",
     "text": [
      "root\n",
      " |-- game_id: integer (nullable = true)\n",
      " |-- play_id: integer (nullable = true)\n",
      " |-- quarter: integer (nullable = true)\n",
      " |-- down: integer (nullable = true)\n",
      " |-- yards_to_go: integer (nullable = true)\n",
      " |-- possession_team: string (nullable = true)\n",
      " |-- yardline_side: string (nullable = true)\n",
      " |-- offense_formation: string (nullable = true)\n",
      " |-- personnel_offense: string (nullable = true)\n",
      " |-- personnel_defense: string (nullable = true)\n",
      " |-- home_score_before_play: integer (nullable = true)\n",
      " |-- visitor_score_before_play: integer (nullable = true)\n",
      " |-- home_score_after_play: integer (nullable = true)\n",
      " |-- visitor_score_after_play: integer (nullable = true)\n",
      " |-- is_penalty: boolean (nullable = true)\n",
      " |-- is_ST_play: boolean (nullable = true)\n",
      " |-- pass_result: string (nullable = true)\n",
      " |-- play_result: integer (nullable = true)\n",
      " |-- play_description: string (nullable = true)\n",
      " |-- game_clock_string: string (nullable = true)\n",
      " |-- defenders_in_the_box: integer (nullable = true)\n",
      " |-- yardline_number: integer (nullable = true)\n",
      " |-- yards_after_catch: double (nullable = true)\n",
      " |-- number_of_pass_rushers: double (nullable = true)\n",
      "\n"
     ]
    }
   ],
   "source": [
    "# Drop the column that contain NA more than 50%\n",
    "# special_teams_play_type\n",
    "df_with_na_dropped_column = df_fully_imputed.drop(\"special_teams_play_type\")\n",
    "df_with_na_dropped_column.printSchema()"
   ]
  },
  {
   "cell_type": "code",
   "execution_count": 16,
   "metadata": {},
   "outputs": [
    {
     "name": "stdout",
     "output_type": "stream",
     "text": [
      "pass_result before:\n",
      "+-----------+-----+\n",
      "|pass_result|count|\n",
      "+-----------+-----+\n",
      "|         NA| 4543|\n",
      "|          C| 3869|\n",
      "|         IN|  154|\n",
      "|          S|  444|\n",
      "|          R|  248|\n",
      "|          I| 2133|\n",
      "+-----------+-----+\n",
      "\n",
      "pass_result after:\n",
      "+-----------+-----+\n",
      "|pass_result|count|\n",
      "+-----------+-----+\n",
      "|          C| 3869|\n",
      "|         IN| 4697|\n",
      "|          S|  444|\n",
      "|          R|  248|\n",
      "|          I| 2133|\n",
      "+-----------+-----+\n",
      "\n"
     ]
    }
   ],
   "source": [
    "# Handle \"pass_result\" columns with filling missing data with a value that can't be present in the dataset\n",
    "print(\"pass_result before:\")\n",
    "df_with_na_dropped_column.select(\"pass_result\").groupBy(\"pass_result\").count().show()\n",
    "\n",
    "value_not_in_dataset = 'IN'\n",
    "# Replace None/Missing Value with a value that can't be present in the dataset.\n",
    "df_with_filled_na = (df_with_na_dropped_column.withColumn(\"pass_result\", \\\n",
    "                when(casted_types_df_with_na_dropped_rows.pass_result=='NA',\\\n",
    "                    value_not_in_dataset) \\\n",
    "                .otherwise(casted_types_df_with_na_dropped_rows.pass_result))\\\n",
    "                )\n",
    "# df_with_na_dropped_column.select(\"pass_result\").na.replace(\"NA\", value_not_in_dataset)\n",
    "print(\"pass_result after:\")\n",
    "df_with_filled_na.select(\"pass_result\").groupBy(\"pass_result\").count().show()\n"
   ]
  },
  {
   "cell_type": "markdown",
   "metadata": {},
   "source": [
    "#### Clean up data"
   ]
  },
  {
   "cell_type": "code",
   "execution_count": 17,
   "metadata": {},
   "outputs": [
    {
     "name": "stdout",
     "output_type": "stream",
     "text": [
      "root\n",
      " |-- game_id: integer (nullable = true)\n",
      " |-- play_id: integer (nullable = true)\n",
      " |-- quarter: integer (nullable = true)\n",
      " |-- down: integer (nullable = true)\n",
      " |-- yards_to_go: integer (nullable = true)\n",
      " |-- yardline_side: string (nullable = true)\n",
      " |-- personnel_offense: string (nullable = true)\n",
      " |-- personnel_defense: string (nullable = true)\n",
      " |-- home_score_before_play: integer (nullable = true)\n",
      " |-- visitor_score_before_play: integer (nullable = true)\n",
      " |-- home_score_after_play: integer (nullable = true)\n",
      " |-- visitor_score_after_play: integer (nullable = true)\n",
      " |-- is_penalty: boolean (nullable = true)\n",
      " |-- is_ST_play: boolean (nullable = true)\n",
      " |-- pass_result: string (nullable = true)\n",
      " |-- play_result: integer (nullable = true)\n",
      " |-- defenders_in_the_box: integer (nullable = true)\n",
      " |-- yardline_number: integer (nullable = true)\n",
      " |-- yards_after_catch: double (nullable = true)\n",
      " |-- number_of_pass_rushers: double (nullable = true)\n",
      "\n",
      "Total dataset:  11391\n"
     ]
    }
   ],
   "source": [
    "# Drop the columns that not in the plays.csv description\n",
    "clean_df = df_with_filled_na.drop(\"offense_formation\")\n",
    "clean_df = clean_df.drop(\"possession_team\")\n",
    "\n",
    "# # Drop the columns that is just a detail\n",
    "clean_df =  clean_df.drop(\"play_description\")\n",
    "clean_df = clean_df.drop(\"game_clock_string\")\n",
    "\n",
    "clean_df.printSchema()\n",
    "print(\"Total dataset: \", clean_df.count())"
   ]
  },
  {
   "cell_type": "code",
   "execution_count": 18,
   "metadata": {},
   "outputs": [],
   "source": [
    "# Store dataset into Postgres table\n",
    "db_properties={}\n",
    "db_properties['username']=\"postgres\"\n",
    "db_properties['password']=\"\"\n",
    "db_properties['url']= \"jdbc:postgresql://localhost:5432/postgres\"\n",
    "db_properties['driver']=\"org.postgresql.Driver\"\n",
    "db_properties['table']= \"players\"\n",
    "\n",
    "# Write data into the db\n",
    "clean_df.write.format(\"jdbc\")\\\n",
    ".mode(\"overwrite\")\\\n",
    ".option(\"url\", db_properties['url'])\\\n",
    ".option(\"dbtable\", db_properties['table'])\\\n",
    ".option(\"user\", db_properties['username'])\\\n",
    ".option(\"password\", db_properties['password'])\\\n",
    ".option(\"Driver\", db_properties['driver'])\\\n",
    ".save()"
   ]
  },
  {
   "cell_type": "code",
   "execution_count": 19,
   "metadata": {},
   "outputs": [
    {
     "name": "stdout",
     "output_type": "stream",
     "text": [
      "+----------+-------+-------+----+-----------+-------------+-----------------+-----------------+----------------------+-------------------------+---------------------+------------------------+----------+----------+-----------+-----------+--------------------+---------------+-----------------+----------------------+\n",
      "|   game_id|play_id|quarter|down|yards_to_go|yardline_side|personnel_offense|personnel_defense|home_score_before_play|visitor_score_before_play|home_score_after_play|visitor_score_after_play|is_penalty|is_ST_play|pass_result|play_result|defenders_in_the_box|yardline_number|yards_after_catch|number_of_pass_rushers|\n",
      "+----------+-------+-------+----+-----------+-------------+-----------------+-----------------+----------------------+-------------------------+---------------------+------------------------+----------+----------+-----------+-----------+--------------------+---------------+-----------------+----------------------+\n",
      "|2017091004|     73|      1|   1|         10|          ARI| 1 RB, 1 TE, 3 WR| 4 DL, 2 LB, 5 DB|                     0|                        0|                    0|                       0|     false|     false|          C|          4|                   6|             23|              6.0|                   4.0|\n",
      "|2017091004|     97|      1|   2|          6|          ARI| 1 RB, 1 TE, 3 WR| 4 DL, 2 LB, 5 DB|                     0|                        0|                    0|                       0|     false|     false|         IN|          2|                   6|             27|              3.0|                   4.0|\n",
      "|2017091004|    118|      1|   3|          4|          ARI| 1 RB, 0 TE, 4 WR| 4 DL, 1 LB, 6 DB|                     0|                        0|                    0|                       0|     false|     false|          C|         15|                   5|             29|              7.0|                   4.0|\n",
      "|2017091004|    153|      1|   1|         10|          ARI| 1 RB, 2 TE, 2 WR| 4 DL, 3 LB, 4 DB|                     0|                        0|                    0|                       0|     false|     false|         IN|         -2|                   7|             44|              3.0|                   4.0|\n",
      "|2017091004|    174|      1|   2|         12|          ARI| 1 RB, 2 TE, 2 WR| 4 DL, 3 LB, 4 DB|                     0|                        0|                    0|                       0|      true|     false|          I|          0|                   6|             42|              3.0|                   4.0|\n",
      "|2017091004|    207|      1|   3|         12|          ARI| 1 RB, 1 TE, 3 WR| 4 DL, 1 LB, 6 DB|                     0|                        0|                    0|                       0|     false|     false|         IN|          0|                   5|             42|              3.0|                   4.0|\n",
      "|2017091004|    233|      1|   1|         10|          ARI| 1 RB, 2 TE, 2 WR| 3 DL, 4 LB, 4 DB|                     0|                        0|                    0|                       0|     false|     false|         IN|          5|                   6|             26|              3.0|                   4.0|\n",
      "|2017091004|    254|      1|   2|          5|          ARI| 1 RB, 1 TE, 3 WR| 2 DL, 4 LB, 5 DB|                     0|                        0|                    0|                       6|     false|     false|         IN|          0|                   6|             21|              3.0|                   4.0|\n",
      "|2017091004|    316|      1|   1|         10|          DET| 1 RB, 1 TE, 3 WR| 2 DL, 4 LB, 5 DB|                     0|                        7|                    0|                       7|     false|     false|         IN|          0|                   7|             15|              3.0|                   4.0|\n",
      "|2017091004|    337|      1|   2|         10|          DET| 1 RB, 1 TE, 3 WR| 3 DL, 3 LB, 5 DB|                     0|                        7|                    0|                       7|     false|     false|          C|          2|                   5|             15|              0.0|                   4.0|\n",
      "|2017091004|    361|      1|   3|          8|          DET| 1 RB, 1 TE, 3 WR| 1 DL, 3 LB, 7 DB|                     0|                        7|                    0|                       7|     false|     false|          I|          0|                   4|             17|              3.0|                   4.0|\n",
      "|2017091004|    408|      1|   1|         10|          ARI| 1 RB, 3 TE, 1 WR| 4 DL, 4 LB, 3 DB|                     0|                        7|                    0|                       7|     false|     false|          C|          3|                   6|             33|              5.0|                   5.0|\n",
      "|2017091004|    432|      1|   2|          7|          ARI| 1 RB, 2 TE, 2 WR| 4 DL, 3 LB, 4 DB|                     0|                        7|                    0|                       7|     false|     false|         IN|          6|                   7|             36|              3.0|                   4.0|\n",
      "|2017091004|    453|      1|   3|          1|          ARI| 2 RB, 2 TE, 1 WR| 4 DL, 3 LB, 4 DB|                     0|                        7|                    0|                       7|     false|     false|         IN|          0|                   8|             42|              3.0|                   4.0|\n",
      "|2017091004|    514|      1|   1|         10|          DET| 1 RB, 1 TE, 3 WR| 2 DL, 4 LB, 5 DB|                     0|                        7|                    0|                       7|     false|     false|          S|         -7|                   6|             14|              3.0|                   4.0|\n",
      "|2017091004|    533|      1|   2|         17|          DET| 1 RB, 1 TE, 3 WR| 2 DL, 4 LB, 5 DB|                     0|                        7|                    0|                       7|     false|     false|          C|          5|                   6|              7|              2.0|                   4.0|\n",
      "|2017091004|    557|      1|   3|         12|          DET| 1 RB, 1 TE, 3 WR| 2 DL, 4 LB, 5 DB|                     0|                        7|                    0|                       7|      true|     false|          I|         -9|                   5|             12|              3.0|                   4.0|\n",
      "|2017091004|    624|      1|   1|         10|          DET| 1 RB, 2 TE, 2 WR| 4 DL, 3 LB, 4 DB|                     0|                        7|                    0|                       7|     false|     false|         IN|          1|                   7|             13|              3.0|                   4.0|\n",
      "|2017091004|    661|      1|   2|          9|          DET| 1 RB, 0 TE, 4 WR| 4 DL, 1 LB, 6 DB|                     0|                        7|                    0|                       7|     false|     false|         IN|          1|                   5|             12|              3.0|                   4.0|\n",
      "|2017091004|    694|      1|   3|          8|          DET| 1 RB, 1 TE, 3 WR| 4 DL, 1 LB, 6 DB|                     0|                        7|                    0|                       7|     false|     false|          I|          0|                   5|             11|              3.0|                   4.0|\n",
      "+----------+-------+-------+----+-----------+-------------+-----------------+-----------------+----------------------+-------------------------+---------------------+------------------------+----------+----------+-----------+-----------+--------------------+---------------+-----------------+----------------------+\n",
      "only showing top 20 rows\n",
      "\n"
     ]
    }
   ],
   "source": [
    "# Test that the db has dataset\n",
    "postgresDF = spark.read \\\n",
    "    .format(\"jdbc\") \\\n",
    "    .option(\"url\", db_properties['url']) \\\n",
    "    .option(\"dbtable\", db_properties['table']) \\\n",
    "    .option(\"user\", db_properties['username']) \\\n",
    "    .option(\"password\", db_properties['password']) \\\n",
    "    .option(\"driver\", db_properties['driver']) \\\n",
    "    .load()\n",
    "\n",
    "postgresDF.show()"
   ]
  },
  {
   "cell_type": "markdown",
   "metadata": {},
   "source": [
    "### Phase-II"
   ]
  },
  {
   "cell_type": "code",
   "execution_count": 20,
   "metadata": {},
   "outputs": [
    {
     "name": "stdout",
     "output_type": "stream",
     "text": [
      "-RECORD 0-------------------------------------------\n",
      " summary                   | count                  \n",
      " game_id                   | 11391                  \n",
      " play_id                   | 11391                  \n",
      " quarter                   | 11391                  \n",
      " down                      | 11391                  \n",
      " yards_to_go               | 11391                  \n",
      " yardline_side             | 11391                  \n",
      " personnel_offense         | 11391                  \n",
      " personnel_defense         | 11391                  \n",
      " home_score_before_play    | 11391                  \n",
      " visitor_score_before_play | 11391                  \n",
      " home_score_after_play     | 11391                  \n",
      " visitor_score_after_play  | 11391                  \n",
      " pass_result               | 11391                  \n",
      " play_result               | 11391                  \n",
      " defenders_in_the_box      | 11391                  \n",
      " yardline_number           | 11391                  \n",
      " yards_after_catch         | 11391                  \n",
      " number_of_pass_rushers    | 11391                  \n",
      "-RECORD 1-------------------------------------------\n",
      " summary                   | mean                   \n",
      " game_id                   | 2.0170960964674742E9   \n",
      " play_id                   | 2094.9519796330437     \n",
      " quarter                   | 2.5693968922833816     \n",
      " down                      | 1.7870248441752261     \n",
      " yards_to_go               | 8.705732595909051      \n",
      " yardline_side             | NULL                   \n",
      " personnel_offense         | NULL                   \n",
      " personnel_defense         | NULL                   \n",
      " home_score_before_play    | 11.347291721534544     \n",
      " visitor_score_before_play | 9.822667017821086      \n",
      " home_score_after_play     | 11.470898077429549     \n",
      " visitor_score_after_play  | 9.931173733649372      \n",
      " pass_result               | NULL                   \n",
      " play_result               | 5.206391010446844      \n",
      " defenders_in_the_box      | 6.478008954437714      \n",
      " yardline_number           | 28.69458344306909      \n",
      " yards_after_catch         | 3.66166271617944       \n",
      " number_of_pass_rushers    | 4.127205688701607      \n",
      "-RECORD 2-------------------------------------------\n",
      " summary                   | stddev                 \n",
      " game_id                   | 4559.181393341257      \n",
      " play_id                   | 1234.0539078477698     \n",
      " quarter                   | 1.1322121957684037     \n",
      " down                      | 0.8178926577773524     \n",
      " yards_to_go               | 3.987553238601781      \n",
      " yardline_side             | NULL                   \n",
      " personnel_offense         | NULL                   \n",
      " personnel_defense         | NULL                   \n",
      " home_score_before_play    | 10.195973115614247     \n",
      " visitor_score_before_play | 9.224817594224161      \n",
      " home_score_after_play     | 10.231560010854727     \n",
      " visitor_score_after_play  | 9.252131378710468      \n",
      " pass_result               | NULL                   \n",
      " play_result               | 9.074193137710788      \n",
      " defenders_in_the_box      | 1.096416112502347      \n",
      " yardline_number           | 12.6739363110012       \n",
      " yards_after_catch         | 4.023155629737034      \n",
      " number_of_pass_rushers    | 0.6801254181886741     \n",
      "-RECORD 3-------------------------------------------\n",
      " summary                   | min                    \n",
      " game_id                   | 2017090700             \n",
      " play_id                   | 48                     \n",
      " quarter                   | 1                      \n",
      " down                      | 0                      \n",
      " yards_to_go               | 0                      \n",
      " yardline_side             | ARI                    \n",
      " personnel_offense         | 0 RB, 0 TE, 5 WR       \n",
      " personnel_defense         | 0 DL, 4 LB, 7 DB       \n",
      " home_score_before_play    | 0                      \n",
      " visitor_score_before_play | 0                      \n",
      " home_score_after_play     | 0                      \n",
      " visitor_score_after_play  | 0                      \n",
      " pass_result               | C                      \n",
      " play_result               | -86                    \n",
      " defenders_in_the_box      | 2                      \n",
      " yardline_number           | 1                      \n",
      " yards_after_catch         | -8.0                   \n",
      " number_of_pass_rushers    | 0.0                    \n",
      "-RECORD 4-------------------------------------------\n",
      " summary                   | 25%                    \n",
      " game_id                   | 2017091707             \n",
      " play_id                   | 1022                   \n",
      " quarter                   | 2                      \n",
      " down                      | 1                      \n",
      " yards_to_go               | 6                      \n",
      " yardline_side             | NULL                   \n",
      " personnel_offense         | NULL                   \n",
      " personnel_defense         | NULL                   \n",
      " home_score_before_play    | 3                      \n",
      " visitor_score_before_play | 0                      \n",
      " home_score_after_play     | 3                      \n",
      " visitor_score_after_play  | 0                      \n",
      " pass_result               | NULL                   \n",
      " play_result               | 0                      \n",
      " defenders_in_the_box      | 6                      \n",
      " yardline_number           | 20                     \n",
      " yards_after_catch         | 3.0                    \n",
      " number_of_pass_rushers    | 4.0                    \n",
      "-RECORD 5-------------------------------------------\n",
      " summary                   | 50%                    \n",
      " game_id                   | 2017092500             \n",
      " play_id                   | 2097                   \n",
      " quarter                   | 3                      \n",
      " down                      | 2                      \n",
      " yards_to_go               | 10                     \n",
      " yardline_side             | NULL                   \n",
      " personnel_offense         | NULL                   \n",
      " personnel_defense         | NULL                   \n",
      " home_score_before_play    | 10                     \n",
      " visitor_score_before_play | 7                      \n",
      " home_score_after_play     | 10                     \n",
      " visitor_score_after_play  | 7                      \n",
      " pass_result               | NULL                   \n",
      " play_result               | 3                      \n",
      " defenders_in_the_box      | 6                      \n",
      " yardline_number           | 29                     \n",
      " yards_after_catch         | 3.0                    \n",
      " number_of_pass_rushers    | 4.0                    \n",
      "-RECORD 6-------------------------------------------\n",
      " summary                   | 75%                    \n",
      " game_id                   | 2017100804             \n",
      " play_id                   | 3135                   \n",
      " quarter                   | 4                      \n",
      " down                      | 2                      \n",
      " yards_to_go               | 10                     \n",
      " yardline_side             | NULL                   \n",
      " personnel_offense         | NULL                   \n",
      " personnel_defense         | NULL                   \n",
      " home_score_before_play    | 17                     \n",
      " visitor_score_before_play | 17                     \n",
      " home_score_after_play     | 17                     \n",
      " visitor_score_after_play  | 17                     \n",
      " pass_result               | NULL                   \n",
      " play_result               | 8                      \n",
      " defenders_in_the_box      | 7                      \n",
      " yardline_number           | 40                     \n",
      " yards_after_catch         | 3.0                    \n",
      " number_of_pass_rushers    | 4.0                    \n",
      "-RECORD 7-------------------------------------------\n",
      " summary                   | max                    \n",
      " game_id                   | 2017101600             \n",
      " play_id                   | 5531                   \n",
      " quarter                   | 5                      \n",
      " down                      | 4                      \n",
      " yards_to_go               | 40                     \n",
      " yardline_side             | WAS                    \n",
      " personnel_offense         | 7 OL, 2 RB, 0 TE, 1 WR \n",
      " personnel_defense         | 6 DL, 4 LB, 1 DB       \n",
      " home_score_before_play    | 57                     \n",
      " visitor_score_before_play | 42                     \n",
      " home_score_after_play     | 57                     \n",
      " visitor_score_after_play  | 42                     \n",
      " pass_result               | S                      \n",
      " play_result               | 90                     \n",
      " defenders_in_the_box      | 11                     \n",
      " yardline_number           | 49                     \n",
      " yards_after_catch         | 77.0                   \n",
      " number_of_pass_rushers    | 8.0                    \n",
      "\n"
     ]
    }
   ],
   "source": [
    "# Summary table\n",
    "postgresDF.summary().show(truncate=False, vertical=True)"
   ]
  },
  {
   "cell_type": "code",
   "execution_count": 21,
   "metadata": {},
   "outputs": [
    {
     "data": {
      "text/plain": [
       "[('game_id', 'int'),\n",
       " ('play_id', 'int'),\n",
       " ('quarter', 'int'),\n",
       " ('down', 'int'),\n",
       " ('yards_to_go', 'int'),\n",
       " ('yardline_side', 'string'),\n",
       " ('personnel_offense', 'string'),\n",
       " ('personnel_defense', 'string'),\n",
       " ('home_score_before_play', 'int'),\n",
       " ('visitor_score_before_play', 'int'),\n",
       " ('home_score_after_play', 'int'),\n",
       " ('visitor_score_after_play', 'int'),\n",
       " ('is_penalty', 'boolean'),\n",
       " ('is_ST_play', 'boolean'),\n",
       " ('pass_result', 'string'),\n",
       " ('play_result', 'int'),\n",
       " ('defenders_in_the_box', 'int'),\n",
       " ('yardline_number', 'int'),\n",
       " ('yards_after_catch', 'double'),\n",
       " ('number_of_pass_rushers', 'double')]"
      ]
     },
     "execution_count": 21,
     "metadata": {},
     "output_type": "execute_result"
    }
   ],
   "source": [
    "# We will draw boxplots for the numerical features\n",
    "# Now let's check the datatypes of the dataframe\n",
    "postgresDF.dtypes"
   ]
  },
  {
   "cell_type": "markdown",
   "metadata": {},
   "source": [
    "#### Blockplots"
   ]
  },
  {
   "cell_type": "code",
   "execution_count": 23,
   "metadata": {},
   "outputs": [
    {
     "data": {
      "text/plain": [
       "['game_id',\n",
       " 'play_id',\n",
       " 'quarter',\n",
       " 'down',\n",
       " 'yards_to_go',\n",
       " 'home_score_before_play',\n",
       " 'visitor_score_before_play',\n",
       " 'home_score_after_play',\n",
       " 'visitor_score_after_play',\n",
       " 'play_result',\n",
       " 'defenders_in_the_box',\n",
       " 'yardline_number',\n",
       " 'yards_after_catch',\n",
       " 'number_of_pass_rushers']"
      ]
     },
     "execution_count": 23,
     "metadata": {},
     "output_type": "execute_result"
    }
   ],
   "source": [
    "numeric_features = [feature[0] for feature in postgresDF.dtypes if feature[1] in ('int','double')]\n",
    "numeric_features"
   ]
  },
  {
   "cell_type": "code",
   "execution_count": 24,
   "metadata": {},
   "outputs": [
    {
     "data": {
      "image/png": "[encoded data removed]",
      "text/plain": [
       "<Figure size 640x480 with 1 Axes>"
      ]
     },
     "metadata": {},
     "output_type": "display_data"
    }
   ],
   "source": [
    "import matplotlib.pyplot as plt\n",
    "\n",
    "#Extract data and convert them into Pandas for visualization\n",
    "converted_data = postgresDF[numeric_features].toPandas()\n",
    "\n",
    "figure = plt.boxplot(converted_data)"
   ]
  },
  {
   "cell_type": "code",
   "execution_count": 25,
   "metadata": {},
   "outputs": [
    {
     "data": {
      "image/png": "[encoded data removed]",
      "text/plain": [
       "<Figure size 640x480 with 1 Axes>"
      ]
     },
     "metadata": {},
     "output_type": "display_data"
    }
   ],
   "source": [
    "spotted_data = postgresDF[numeric_features[10:14]].toPandas()\n",
    "figure_subset = plt.boxplot(spotted_data)"
   ]
  },
  {
   "cell_type": "markdown",
   "metadata": {},
   "source": [
    "**Outliers**"
   ]
  },
  {
   "cell_type": "code",
   "execution_count": 28,
   "metadata": {},
   "outputs": [],
   "source": [
    "from functools import reduce\n",
    "\n",
    "def column_add(a,b):\n",
    "     return  a.__add__(b)\n",
    "    \n",
    "def find_outliers(df):\n",
    "    # Identifying the numerical columns in a spark dataframe\n",
    "    numeric_columns = [column[0] for column in df.dtypes if column[1]=='int']\n",
    "\n",
    "    # Using the `for` loop to create new columns by identifying the outliers for each feature\n",
    "    for column in numeric_columns:\n",
    "\n",
    "        less_Q1 = 'less_Q1_{}'.format(column)\n",
    "        more_Q3 = 'more_Q3_{}'.format(column)\n",
    "        Q1 = 'Q1_{}'.format(column)\n",
    "        Q3 = 'Q3_{}'.format(column)\n",
    "\n",
    "        # Q1 : First Quartile ., Q3 : Third Quartile\n",
    "        Q1 = df.approxQuantile(column,[0.25],relativeError=0)\n",
    "        Q3 = df.approxQuantile(column,[0.75],relativeError=0)\n",
    "        \n",
    "        # IQR : Inter Quantile Range\n",
    "        # We need to define the index [0], as Q1 & Q3 are a set of lists., to perform a mathematical operation\n",
    "        # Q1 & Q3 are defined seperately so as to have a clear indication on First Quantile & 3rd Quantile\n",
    "        IQR = Q3[0] - Q1[0]\n",
    "        \n",
    "        #selecting the data, with -1.5*IQR to + 1.5*IQR., where param = 1.5 default value\n",
    "        less_Q1 =  Q1[0] - 1.5*IQR\n",
    "        more_Q3 =  Q3[0] + 1.5*IQR\n",
    "        \n",
    "        isOutlierCol = 'is_outlier_{}'.format(column)\n",
    "        \n",
    "        df = df.withColumn(isOutlierCol,when((df[column] > more_Q3) | (df[column] < less_Q1), 1).otherwise(0))\n",
    "    \n",
    "\n",
    "    # Selecting the specific columns which we have added above, to check if there are any outliers\n",
    "    selected_columns = [column for column in df.columns if column.startswith(\"is_outlier\")]\n",
    "    # Adding all the outlier columns into a new colum \"total_outliers\", to see the total number of outliers\n",
    "    df = df.withColumn('total_outliers',reduce(column_add, ( df[col] for col in  selected_columns)))\n",
    "\n",
    "    # Dropping the extra columns created above, just to create nice dataframe., without extra columns\n",
    "    df = df.drop(*[column for column in df.columns if column.startswith(\"is_outlier\")])\n",
    "\n",
    "    return df"
   ]
  },
  {
   "cell_type": "code",
   "execution_count": 29,
   "metadata": {},
   "outputs": [
    {
     "data": {
      "text/plain": [
       "DataFrame[game_id: bigint, play_id: bigint, quarter: bigint, down: bigint, yards_to_go: bigint, home_score_before_play: bigint, visitor_score_before_play: bigint, home_score_after_play: bigint, visitor_score_after_play: bigint, play_result: bigint, defenders_in_the_box: bigint, yardline_number: bigint, yards_after_catch: bigint, number_of_pass_rushers: bigint]"
      ]
     },
     "execution_count": 29,
     "metadata": {},
     "output_type": "execute_result"
    }
   ],
   "source": [
    "# As a reminder, we don't have any null values for the outliers to be handled\n",
    "postgresDF.select([count(when(isnan(c) | col(c).isNull(), c)).alias(c) for c in numeric_features])"
   ]
  },
  {
   "cell_type": "code",
   "execution_count": 30,
   "metadata": {},
   "outputs": [
    {
     "name": "stdout",
     "output_type": "stream",
     "text": [
      "-RECORD 0-------------------------------------\n",
      " game_id                   | 2017091004       \n",
      " play_id                   | 73               \n",
      " quarter                   | 1                \n",
      " down                      | 1                \n",
      " yards_to_go               | 10               \n",
      " yardline_side             | ARI              \n",
      " personnel_offense         | 1 RB, 1 TE, 3 WR \n",
      " personnel_defense         | 4 DL, 2 LB, 5 DB \n",
      " home_score_before_play    | 0                \n",
      " visitor_score_before_play | 0                \n",
      " home_score_after_play     | 0                \n",
      " visitor_score_after_play  | 0                \n",
      " is_penalty                | false            \n",
      " is_ST_play                | false            \n",
      " pass_result               | C                \n",
      " play_result               | 4                \n",
      " defenders_in_the_box      | 6                \n",
      " yardline_number           | 23               \n",
      " yards_after_catch         | 6.0              \n",
      " number_of_pass_rushers    | 4.0              \n",
      "only showing top 1 row\n",
      "\n"
     ]
    }
   ],
   "source": [
    "postgresDF.show(1, vertical=True)"
   ]
  },
  {
   "cell_type": "code",
   "execution_count": 31,
   "metadata": {},
   "outputs": [
    {
     "name": "stderr",
     "output_type": "stream",
     "text": [
      "24/10/02 15:52:41 WARN SQLConf: The SQL config 'spark.sql.execution.arrow.enabled' has been deprecated in Spark v3.0 and may be removed in the future. Use 'spark.sql.execution.arrow.pyspark.enabled' instead of it.\n",
      "24/10/02 15:52:41 WARN SQLConf: The SQL config 'spark.sql.execution.arrow.enabled' has been deprecated in Spark v3.0 and may be removed in the future. Use 'spark.sql.execution.arrow.pyspark.enabled' instead of it.\n",
      "24/10/02 15:52:41 WARN SQLConf: The SQL config 'spark.sql.execution.arrow.enabled' has been deprecated in Spark v3.0 and may be removed in the future. Use 'spark.sql.execution.arrow.pyspark.enabled' instead of it.\n",
      "24/10/02 15:52:41 WARN SQLConf: The SQL config 'spark.sql.execution.arrow.enabled' has been deprecated in Spark v3.0 and may be removed in the future. Use 'spark.sql.execution.arrow.pyspark.enabled' instead of it.\n",
      "24/10/02 15:52:41 WARN SQLConf: The SQL config 'spark.sql.execution.arrow.enabled' has been deprecated in Spark v3.0 and may be removed in the future. Use 'spark.sql.execution.arrow.pyspark.enabled' instead of it.\n",
      "24/10/02 15:52:41 WARN SQLConf: The SQL config 'spark.sql.execution.arrow.enabled' has been deprecated in Spark v3.0 and may be removed in the future. Use 'spark.sql.execution.arrow.pyspark.enabled' instead of it.\n",
      "24/10/02 15:52:41 WARN SQLConf: The SQL config 'spark.sql.execution.arrow.enabled' has been deprecated in Spark v3.0 and may be removed in the future. Use 'spark.sql.execution.arrow.pyspark.enabled' instead of it.\n",
      "24/10/02 15:52:41 WARN SQLConf: The SQL config 'spark.sql.execution.arrow.enabled' has been deprecated in Spark v3.0 and may be removed in the future. Use 'spark.sql.execution.arrow.pyspark.enabled' instead of it.\n",
      "24/10/02 15:52:41 WARN SQLConf: The SQL config 'spark.sql.execution.arrow.enabled' has been deprecated in Spark v3.0 and may be removed in the future. Use 'spark.sql.execution.arrow.pyspark.enabled' instead of it.\n",
      "24/10/02 15:52:42 WARN SQLConf: The SQL config 'spark.sql.execution.arrow.enabled' has been deprecated in Spark v3.0 and may be removed in the future. Use 'spark.sql.execution.arrow.pyspark.enabled' instead of it.\n",
      "24/10/02 15:52:42 WARN SQLConf: The SQL config 'spark.sql.execution.arrow.enabled' has been deprecated in Spark v3.0 and may be removed in the future. Use 'spark.sql.execution.arrow.pyspark.enabled' instead of it.\n",
      "24/10/02 15:52:42 WARN SQLConf: The SQL config 'spark.sql.execution.arrow.enabled' has been deprecated in Spark v3.0 and may be removed in the future. Use 'spark.sql.execution.arrow.pyspark.enabled' instead of it.\n",
      "24/10/02 15:52:42 WARN SQLConf: The SQL config 'spark.sql.execution.arrow.enabled' has been deprecated in Spark v3.0 and may be removed in the future. Use 'spark.sql.execution.arrow.pyspark.enabled' instead of it.\n",
      "24/10/02 15:52:42 WARN SQLConf: The SQL config 'spark.sql.execution.arrow.enabled' has been deprecated in Spark v3.0 and may be removed in the future. Use 'spark.sql.execution.arrow.pyspark.enabled' instead of it.\n",
      "24/10/02 15:52:42 WARN SQLConf: The SQL config 'spark.sql.execution.arrow.enabled' has been deprecated in Spark v3.0 and may be removed in the future. Use 'spark.sql.execution.arrow.pyspark.enabled' instead of it.\n",
      "24/10/02 15:52:42 WARN SQLConf: The SQL config 'spark.sql.execution.arrow.enabled' has been deprecated in Spark v3.0 and may be removed in the future. Use 'spark.sql.execution.arrow.pyspark.enabled' instead of it.\n",
      "24/10/02 15:52:42 WARN SQLConf: The SQL config 'spark.sql.execution.arrow.enabled' has been deprecated in Spark v3.0 and may be removed in the future. Use 'spark.sql.execution.arrow.pyspark.enabled' instead of it.\n",
      "24/10/02 15:52:42 WARN SQLConf: The SQL config 'spark.sql.execution.arrow.enabled' has been deprecated in Spark v3.0 and may be removed in the future. Use 'spark.sql.execution.arrow.pyspark.enabled' instead of it.\n",
      "24/10/02 15:52:42 WARN SQLConf: The SQL config 'spark.sql.execution.arrow.enabled' has been deprecated in Spark v3.0 and may be removed in the future. Use 'spark.sql.execution.arrow.pyspark.enabled' instead of it.\n",
      "24/10/02 15:52:42 WARN SQLConf: The SQL config 'spark.sql.execution.arrow.enabled' has been deprecated in Spark v3.0 and may be removed in the future. Use 'spark.sql.execution.arrow.pyspark.enabled' instead of it.\n",
      "24/10/02 15:52:43 WARN SQLConf: The SQL config 'spark.sql.execution.arrow.enabled' has been deprecated in Spark v3.0 and may be removed in the future. Use 'spark.sql.execution.arrow.pyspark.enabled' instead of it.\n",
      "24/10/02 15:52:43 WARN SQLConf: The SQL config 'spark.sql.execution.arrow.enabled' has been deprecated in Spark v3.0 and may be removed in the future. Use 'spark.sql.execution.arrow.pyspark.enabled' instead of it.\n",
      "24/10/02 15:52:43 WARN SQLConf: The SQL config 'spark.sql.execution.arrow.enabled' has been deprecated in Spark v3.0 and may be removed in the future. Use 'spark.sql.execution.arrow.pyspark.enabled' instead of it.\n"
     ]
    },
    {
     "name": "stdout",
     "output_type": "stream",
     "text": [
      "-RECORD 0-------------------------------------\n",
      " game_id                   | 2017091004       \n",
      " play_id                   | 73               \n",
      " quarter                   | 1                \n",
      " down                      | 1                \n",
      " yards_to_go               | 10               \n",
      " yardline_side             | ARI              \n",
      " personnel_offense         | 1 RB, 1 TE, 3 WR \n",
      " personnel_defense         | 4 DL, 2 LB, 5 DB \n",
      " home_score_before_play    | 0                \n",
      " visitor_score_before_play | 0                \n",
      " home_score_after_play     | 0                \n",
      " visitor_score_after_play  | 0                \n",
      " is_penalty                | false            \n",
      " is_ST_play                | false            \n",
      " pass_result               | C                \n",
      " play_result               | 4                \n",
      " defenders_in_the_box      | 6                \n",
      " yardline_number           | 23               \n",
      " yards_after_catch         | 6.0              \n",
      " number_of_pass_rushers    | 4.0              \n",
      " total_outliers            | 0                \n",
      "only showing top 1 row\n",
      "\n"
     ]
    },
    {
     "name": "stderr",
     "output_type": "stream",
     "text": [
      "24/10/02 15:52:43 WARN SQLConf: The SQL config 'spark.sql.execution.arrow.enabled' has been deprecated in Spark v3.0 and may be removed in the future. Use 'spark.sql.execution.arrow.pyspark.enabled' instead of it.\n"
     ]
    }
   ],
   "source": [
    "df_with_outlier_handling = find_outliers(postgresDF)\n",
    "df_with_outlier_handling.show(1, vertical=True)"
   ]
  },
  {
   "cell_type": "code",
   "execution_count": 32,
   "metadata": {},
   "outputs": [
    {
     "name": "stdout",
     "output_type": "stream",
     "text": [
      "+--------------+-----+\n",
      "|total_outliers|count|\n",
      "+--------------+-----+\n",
      "|             1| 1522|\n",
      "|             3|   29|\n",
      "|             5|    1|\n",
      "|             4|    2|\n",
      "|             2|  315|\n",
      "|             0| 9522|\n",
      "+--------------+-----+\n",
      "\n"
     ]
    }
   ],
   "source": [
    "df_with_outlier_handling.groupby(\"total_outliers\").count().show()"
   ]
  },
  {
   "cell_type": "code",
   "execution_count": 33,
   "metadata": {},
   "outputs": [
    {
     "name": "stdout",
     "output_type": "stream",
     "text": [
      "11390\n"
     ]
    }
   ],
   "source": [
    "df_with_substituted_na_and_outliers = df_with_outlier_handling.\\\n",
    "        filter(df_with_outlier_handling['total_Outliers']<=4)\n",
    "print(df_with_substituted_na_and_outliers.count())"
   ]
  },
  {
   "cell_type": "markdown",
   "metadata": {},
   "source": [
    "**Correlation**"
   ]
  },
  {
   "cell_type": "code",
   "execution_count": 34,
   "metadata": {},
   "outputs": [
    {
     "name": "stdout",
     "output_type": "stream",
     "text": [
      "root\n",
      " |-- game_id: integer (nullable = true)\n",
      " |-- play_id: integer (nullable = true)\n",
      " |-- quarter: integer (nullable = true)\n",
      " |-- down: integer (nullable = true)\n",
      " |-- yards_to_go: integer (nullable = true)\n",
      " |-- home_score_before_play: integer (nullable = true)\n",
      " |-- visitor_score_before_play: integer (nullable = true)\n",
      " |-- home_score_after_play: integer (nullable = true)\n",
      " |-- visitor_score_after_play: integer (nullable = true)\n",
      " |-- play_result: integer (nullable = true)\n",
      " |-- defenders_in_the_box: integer (nullable = true)\n",
      " |-- yardline_number: integer (nullable = true)\n",
      " |-- yards_after_catch: double (nullable = true)\n",
      " |-- number_of_pass_rushers: double (nullable = true)\n",
      "\n"
     ]
    }
   ],
   "source": [
    "only_numeric = df_with_substituted_na_and_outliers.select(numeric_features)\n",
    "only_numeric.printSchema()"
   ]
  },
  {
   "cell_type": "code",
   "execution_count": 35,
   "metadata": {},
   "outputs": [
    {
     "name": "stdout",
     "output_type": "stream",
     "text": [
      "                            game_id   play_id   quarter      down  \\\n",
      "game_id                    1.000000  0.018958  0.013728  0.000840   \n",
      "play_id                    0.018958  1.000000  0.956860  0.020415   \n",
      "quarter                    0.013728  0.956860  1.000000  0.017280   \n",
      "down                       0.000840  0.020415  0.017280  1.000000   \n",
      "yards_to_go               -0.001569  0.003418  0.000884 -0.282119   \n",
      "home_score_before_play    -0.008628  0.672659  0.630557  0.001204   \n",
      "visitor_score_before_play  0.054715  0.720312  0.688659 -0.003298   \n",
      "home_score_after_play     -0.008820  0.670330  0.628333  0.002965   \n",
      "visitor_score_after_play   0.054822  0.719972  0.688234 -0.001297   \n",
      "play_result               -0.003885 -0.001136  0.001780 -0.000462   \n",
      "defenders_in_the_box       0.017182 -0.054631 -0.038402 -0.222646   \n",
      "yardline_number            0.014962 -0.007817 -0.005686  0.024495   \n",
      "yards_after_catch         -0.002374 -0.011379 -0.005910  0.014057   \n",
      "number_of_pass_rushers     0.004735 -0.014272 -0.005915  0.105288   \n",
      "\n",
      "                           yards_to_go  home_score_before_play  \\\n",
      "game_id                      -0.001569               -0.008628   \n",
      "play_id                       0.003418                0.672659   \n",
      "quarter                       0.000884                0.630557   \n",
      "down                         -0.282119                0.001204   \n",
      "yards_to_go                   1.000000               -0.011483   \n",
      "home_score_before_play       -0.011483                1.000000   \n",
      "visitor_score_before_play    -0.001014                0.423945   \n",
      "home_score_after_play        -0.020096                0.996559   \n",
      "visitor_score_after_play     -0.007540                0.424992   \n",
      "play_result                   0.047078                0.002759   \n",
      "defenders_in_the_box         -0.224916               -0.033431   \n",
      "yardline_number               0.090014                0.001501   \n",
      "yards_after_catch             0.047122               -0.012217   \n",
      "number_of_pass_rushers       -0.058135                0.003892   \n",
      "\n",
      "                           visitor_score_before_play  home_score_after_play  \\\n",
      "game_id                                     0.054715              -0.008820   \n",
      "play_id                                     0.720312               0.670330   \n",
      "quarter                                     0.688659               0.628333   \n",
      "down                                       -0.003298               0.002965   \n",
      "yards_to_go                                -0.001014              -0.020096   \n",
      "home_score_before_play                      0.423945               0.996559   \n",
      "visitor_score_before_play                   1.000000               0.423140   \n",
      "home_score_after_play                       0.423140               1.000000   \n",
      "visitor_score_after_play                    0.996280               0.424039   \n",
      "play_result                                 0.010608               0.014604   \n",
      "defenders_in_the_box                       -0.030961              -0.027139   \n",
      "yardline_number                             0.004840              -0.012520   \n",
      "yards_after_catch                           0.003106              -0.008812   \n",
      "number_of_pass_rushers                     -0.015038               0.006010   \n",
      "\n",
      "                           visitor_score_after_play  play_result  \\\n",
      "game_id                                    0.054822    -0.003885   \n",
      "play_id                                    0.719972    -0.001136   \n",
      "quarter                                    0.688234     0.001780   \n",
      "down                                      -0.001297    -0.000462   \n",
      "yards_to_go                               -0.007540     0.047078   \n",
      "home_score_before_play                     0.424992     0.002759   \n",
      "visitor_score_before_play                  0.996280     0.010608   \n",
      "home_score_after_play                      0.424039     0.014604   \n",
      "visitor_score_after_play                   1.000000     0.020849   \n",
      "play_result                                0.020849     1.000000   \n",
      "defenders_in_the_box                      -0.024799    -0.067710   \n",
      "yardline_number                           -0.008140     0.083893   \n",
      "yards_after_catch                          0.008473     0.450506   \n",
      "number_of_pass_rushers                    -0.013168     0.009792   \n",
      "\n",
      "                           defenders_in_the_box  yardline_number  \\\n",
      "game_id                                0.017182         0.014962   \n",
      "play_id                               -0.054631        -0.007817   \n",
      "quarter                               -0.038402        -0.005686   \n",
      "down                                  -0.222646         0.024495   \n",
      "yards_to_go                           -0.224916         0.090014   \n",
      "home_score_before_play                -0.033431         0.001501   \n",
      "visitor_score_before_play             -0.030961         0.004840   \n",
      "home_score_after_play                 -0.027139        -0.012520   \n",
      "visitor_score_after_play              -0.024799        -0.008140   \n",
      "play_result                           -0.067710         0.083893   \n",
      "defenders_in_the_box                   1.000000        -0.139547   \n",
      "yardline_number                       -0.139547         1.000000   \n",
      "yards_after_catch                     -0.050893         0.049528   \n",
      "number_of_pass_rushers                 0.090919         0.036353   \n",
      "\n",
      "                           yards_after_catch  number_of_pass_rushers  \n",
      "game_id                            -0.002374                0.004735  \n",
      "play_id                            -0.011379               -0.014272  \n",
      "quarter                            -0.005910               -0.005915  \n",
      "down                                0.014057                0.105288  \n",
      "yards_to_go                         0.047122               -0.058135  \n",
      "home_score_before_play             -0.012217                0.003892  \n",
      "visitor_score_before_play           0.003106               -0.015038  \n",
      "home_score_after_play              -0.008812                0.006010  \n",
      "visitor_score_after_play            0.008473               -0.013168  \n",
      "play_result                         0.450506                0.009792  \n",
      "defenders_in_the_box               -0.050893                0.090919  \n",
      "yardline_number                     0.049528                0.036353  \n",
      "yards_after_catch                   1.000000                0.038958  \n",
      "number_of_pass_rushers              0.038958                1.000000  \n"
     ]
    }
   ],
   "source": [
    "correlation_matrix = only_numeric.toPandas().corr()\n",
    "print(correlation_matrix)"
   ]
  },
  {
   "cell_type": "markdown",
   "metadata": {},
   "source": [
    "#### Handle Binary"
   ]
  },
  {
   "cell_type": "code",
   "execution_count": 36,
   "metadata": {},
   "outputs": [],
   "source": [
    "#  is_penalty, is_ST_play \n",
    "df_with_handled_binary = (df_with_substituted_na_and_outliers\n",
    "              .withColumn(\"is_penalty_encode\", \\\n",
    "                          df_with_substituted_na_and_outliers[\"is_penalty\"].cast(\"integer\")))\n",
    "\n",
    "df_with_handled_binary = (df_with_handled_binary\n",
    "              .withColumn(\"is_ST_play_encode\", \\\n",
    "                          df_with_handled_binary[\"is_ST_play\"].cast(\"integer\")))"
   ]
  },
  {
   "cell_type": "code",
   "execution_count": 37,
   "metadata": {},
   "outputs": [
    {
     "name": "stdout",
     "output_type": "stream",
     "text": [
      "+-----------------+-----------------+\n",
      "|is_penalty_encode|is_ST_play_encode|\n",
      "+-----------------+-----------------+\n",
      "|                1|                0|\n",
      "|                0|                0|\n",
      "+-----------------+-----------------+\n",
      "\n"
     ]
    }
   ],
   "source": [
    "df_with_handled_binary.select(\"is_penalty_encode\",\"is_ST_play_encode\").distinct().show()"
   ]
  },
  {
   "cell_type": "markdown",
   "metadata": {},
   "source": [
    "#### Transformer (One-hot-encoder)"
   ]
  },
  {
   "cell_type": "code",
   "execution_count": 38,
   "metadata": {},
   "outputs": [],
   "source": [
    "from pyspark.ml.feature import StringIndexer, OneHotEncoder\n",
    "from pyspark.ml import Pipeline\n",
    "\n",
    "# yardline_side, pass_result , personnel_offense, personnel_defense\n",
    "# first part : transform the columns to numeric\n",
    "stage_1 = StringIndexer(inputCol= 'yardline_side', outputCol= 'yardline_side_index')\n",
    "stage_2 = StringIndexer(inputCol= 'pass_result', outputCol= 'pass_result_index')\n",
    "stage_3 = StringIndexer(inputCol= 'personnel_offense', outputCol= 'personnel_offense_index')\n",
    "stage_4 = StringIndexer(inputCol= 'personnel_defense', outputCol= 'personnel_defense_index')\n",
    "\n",
    "# second part : one-hot encode the numeric columns\n",
    "stage_5= OneHotEncoder(inputCols=[\"yardline_side_index\",\"pass_result_index\",\n",
    "                                  \"personnel_offense_index\",\"personnel_defense_index\"], \n",
    "                        outputCols=['yardline_side_encoded','pass_result_encoded',\n",
    "                                   'personnel_offense_encoded','personnel_defense_encoded'])\n",
    "\n",
    "# setup the pipeline\n",
    "pipeline = Pipeline(stages=[stage_1, stage_2, stage_3, stage_4, stage_5])\n",
    "\n",
    "# # fit the pipeline model and transform the data as defined\n",
    "pipeline_model = pipeline.fit(df_with_handled_binary)\n",
    "df_encoded = pipeline_model.transform(df_with_handled_binary)"
   ]
  },
  {
   "cell_type": "code",
   "execution_count": 39,
   "metadata": {},
   "outputs": [
    {
     "name": "stdout",
     "output_type": "stream",
     "text": [
      "5\n"
     ]
    },
    {
     "data": {
      "text/html": [
       "<div>\n",
       "<style scoped>\n",
       "    .dataframe tbody tr th:only-of-type {\n",
       "        vertical-align: middle;\n",
       "    }\n",
       "\n",
       "    .dataframe tbody tr th {\n",
       "        vertical-align: top;\n",
       "    }\n",
       "\n",
       "    .dataframe thead th {\n",
       "        text-align: right;\n",
       "    }\n",
       "</style>\n",
       "<table border=\"1\" class=\"dataframe\">\n",
       "  <thead>\n",
       "    <tr style=\"text-align: right;\">\n",
       "      <th></th>\n",
       "      <th>pass_result</th>\n",
       "      <th>pass_result_index</th>\n",
       "      <th>pass_result_encoded</th>\n",
       "    </tr>\n",
       "  </thead>\n",
       "  <tbody>\n",
       "    <tr>\n",
       "      <th>0</th>\n",
       "      <td>S</td>\n",
       "      <td>3.0</td>\n",
       "      <td>(0.0, 0.0, 0.0, 1.0)</td>\n",
       "    </tr>\n",
       "    <tr>\n",
       "      <th>1</th>\n",
       "      <td>C</td>\n",
       "      <td>1.0</td>\n",
       "      <td>(0.0, 1.0, 0.0, 0.0)</td>\n",
       "    </tr>\n",
       "    <tr>\n",
       "      <th>2</th>\n",
       "      <td>R</td>\n",
       "      <td>4.0</td>\n",
       "      <td>(0.0, 0.0, 0.0, 0.0)</td>\n",
       "    </tr>\n",
       "    <tr>\n",
       "      <th>3</th>\n",
       "      <td>IN</td>\n",
       "      <td>0.0</td>\n",
       "      <td>(1.0, 0.0, 0.0, 0.0)</td>\n",
       "    </tr>\n",
       "    <tr>\n",
       "      <th>4</th>\n",
       "      <td>I</td>\n",
       "      <td>2.0</td>\n",
       "      <td>(0.0, 0.0, 1.0, 0.0)</td>\n",
       "    </tr>\n",
       "  </tbody>\n",
       "</table>\n",
       "</div>"
      ],
      "text/plain": [
       "  pass_result  pass_result_index   pass_result_encoded\n",
       "0           S                3.0  (0.0, 0.0, 0.0, 1.0)\n",
       "1           C                1.0  (0.0, 1.0, 0.0, 0.0)\n",
       "2           R                4.0  (0.0, 0.0, 0.0, 0.0)\n",
       "3          IN                0.0  (1.0, 0.0, 0.0, 0.0)\n",
       "4           I                2.0  (0.0, 0.0, 1.0, 0.0)"
      ]
     },
     "execution_count": 39,
     "metadata": {},
     "output_type": "execute_result"
    }
   ],
   "source": [
    "print(df_encoded.select(\"pass_result\").distinct().count())\n",
    "df_encoded.select(\"pass_result\",\"pass_result_index\",\"pass_result_encoded\")\\\n",
    "                .distinct().toPandas()"
   ]
  },
  {
   "cell_type": "markdown",
   "metadata": {},
   "source": [
    "#### Combining Feature into Single Vector"
   ]
  },
  {
   "cell_type": "code",
   "execution_count": 40,
   "metadata": {},
   "outputs": [
    {
     "name": "stdout",
     "output_type": "stream",
     "text": [
      "root\n",
      " |-- game_id: integer (nullable = true)\n",
      " |-- play_id: integer (nullable = true)\n",
      " |-- quarter: integer (nullable = true)\n",
      " |-- down: integer (nullable = true)\n",
      " |-- yards_to_go: integer (nullable = true)\n",
      " |-- yardline_side: string (nullable = true)\n",
      " |-- personnel_offense: string (nullable = true)\n",
      " |-- personnel_defense: string (nullable = true)\n",
      " |-- home_score_before_play: integer (nullable = true)\n",
      " |-- visitor_score_before_play: integer (nullable = true)\n",
      " |-- home_score_after_play: integer (nullable = true)\n",
      " |-- visitor_score_after_play: integer (nullable = true)\n",
      " |-- is_penalty: boolean (nullable = true)\n",
      " |-- is_ST_play: boolean (nullable = true)\n",
      " |-- pass_result: string (nullable = true)\n",
      " |-- play_result: integer (nullable = true)\n",
      " |-- defenders_in_the_box: integer (nullable = true)\n",
      " |-- yardline_number: integer (nullable = true)\n",
      " |-- yards_after_catch: double (nullable = true)\n",
      " |-- number_of_pass_rushers: double (nullable = true)\n",
      " |-- total_outliers: integer (nullable = false)\n",
      " |-- is_penalty_encode: integer (nullable = true)\n",
      " |-- is_ST_play_encode: integer (nullable = true)\n",
      " |-- yardline_side_index: double (nullable = false)\n",
      " |-- pass_result_index: double (nullable = false)\n",
      " |-- personnel_offense_index: double (nullable = false)\n",
      " |-- personnel_defense_index: double (nullable = false)\n",
      " |-- yardline_side_encoded: vector (nullable = true)\n",
      " |-- pass_result_encoded: vector (nullable = true)\n",
      " |-- personnel_offense_encoded: vector (nullable = true)\n",
      " |-- personnel_defense_encoded: vector (nullable = true)\n",
      "\n"
     ]
    }
   ],
   "source": [
    "df_encoded.printSchema()"
   ]
  },
  {
   "cell_type": "code",
   "execution_count": 41,
   "metadata": {},
   "outputs": [
    {
     "name": "stdout",
     "output_type": "stream",
     "text": [
      "['quarter', 'down', 'yards_to_go', 'home_score_before_play', 'visitor_score_before_play', 'home_score_after_play', 'visitor_score_after_play', 'is_penalty', 'is_ST_play', 'defenders_in_the_box', 'yardline_number', 'yards_after_catch', 'number_of_pass_rushers', 'is_penalty_encode', 'is_ST_play_encode', 'yardline_side_encoded', 'pass_result_encoded']\n"
     ]
    }
   ],
   "source": [
    "# Do not include game_id, play_id, personnel_offense, personnel_defense, total_outliers\n",
    "# Do not include play_result bc. it the label for the model\n",
    "feature_list = df_encoded.drop(\"game_id\", \"play_id\",\n",
    "                                \"yardline_side\", \"pass_result\" , \n",
    "                                \"personnel_offense\", \"personnel_offense_encoded\",\n",
    "                                \"personnel_defense\", \"personnel_defense_encoded\",\n",
    "                                \"yardline_side_index\",\"pass_result_index\",\n",
    "                                \"personnel_offense_index\",\"personnel_defense_index\",\n",
    "                                \"total_outliers\",\"play_result\").columns\n",
    "print(feature_list)"
   ]
  },
  {
   "cell_type": "code",
   "execution_count": 42,
   "metadata": {},
   "outputs": [],
   "source": [
    "from pyspark.ml.feature import VectorAssembler\n",
    "\n",
    "vector_assembler = VectorAssembler(\n",
    "    inputCols=feature_list, \n",
    "    outputCol=\"vectorized_features\")\n",
    "\n",
    "df_with_assembled_features = vector_assembler.transform(df_encoded)"
   ]
  },
  {
   "cell_type": "code",
   "execution_count": 43,
   "metadata": {},
   "outputs": [
    {
     "data": {
      "text/html": [
       "<div>\n",
       "<style scoped>\n",
       "    .dataframe tbody tr th:only-of-type {\n",
       "        vertical-align: middle;\n",
       "    }\n",
       "\n",
       "    .dataframe tbody tr th {\n",
       "        vertical-align: top;\n",
       "    }\n",
       "\n",
       "    .dataframe thead th {\n",
       "        text-align: right;\n",
       "    }\n",
       "</style>\n",
       "<table border=\"1\" class=\"dataframe\">\n",
       "  <thead>\n",
       "    <tr style=\"text-align: right;\">\n",
       "      <th></th>\n",
       "      <th>vectorized_features</th>\n",
       "    </tr>\n",
       "  </thead>\n",
       "  <tbody>\n",
       "    <tr>\n",
       "      <th>0</th>\n",
       "      <td>(4.0, 3.0, 2.0, 10.0, 21.0, 10.0, 21.0, 0.0, 0...</td>\n",
       "    </tr>\n",
       "    <tr>\n",
       "      <th>1</th>\n",
       "      <td>(4.0, 2.0, 11.0, 0.0, 20.0, 0.0, 20.0, 1.0, 0....</td>\n",
       "    </tr>\n",
       "    <tr>\n",
       "      <th>2</th>\n",
       "      <td>(4.0, 1.0, 10.0, 0.0, 20.0, 0.0, 20.0, 1.0, 0....</td>\n",
       "    </tr>\n",
       "    <tr>\n",
       "      <th>3</th>\n",
       "      <td>(1.0, 1.0, 10.0, 0.0, 0.0, 0.0, 0.0, 0.0, 0.0,...</td>\n",
       "    </tr>\n",
       "    <tr>\n",
       "      <th>4</th>\n",
       "      <td>(3.0, 2.0, 8.0, 10.0, 13.0, 10.0, 13.0, 0.0, 0...</td>\n",
       "    </tr>\n",
       "    <tr>\n",
       "      <th>...</th>\n",
       "      <td>...</td>\n",
       "    </tr>\n",
       "    <tr>\n",
       "      <th>11361</th>\n",
       "      <td>(3.0, 2.0, 6.0, 31.0, 6.0, 31.0, 6.0, 0.0, 0.0...</td>\n",
       "    </tr>\n",
       "    <tr>\n",
       "      <th>11362</th>\n",
       "      <td>(4.0, 2.0, 12.0, 31.0, 20.0, 31.0, 20.0, 0.0, ...</td>\n",
       "    </tr>\n",
       "    <tr>\n",
       "      <th>11363</th>\n",
       "      <td>(2.0, 1.0, 10.0, 7.0, 0.0, 7.0, 0.0, 0.0, 0.0,...</td>\n",
       "    </tr>\n",
       "    <tr>\n",
       "      <th>11364</th>\n",
       "      <td>(4.0, 3.0, 3.0, 16.0, 14.0, 16.0, 14.0, 0.0, 0...</td>\n",
       "    </tr>\n",
       "    <tr>\n",
       "      <th>11365</th>\n",
       "      <td>(3.0, 2.0, 10.0, 13.0, 18.0, 13.0, 18.0, 0.0, ...</td>\n",
       "    </tr>\n",
       "  </tbody>\n",
       "</table>\n",
       "<p>11366 rows × 1 columns</p>\n",
       "</div>"
      ],
      "text/plain": [
       "                                     vectorized_features\n",
       "0      (4.0, 3.0, 2.0, 10.0, 21.0, 10.0, 21.0, 0.0, 0...\n",
       "1      (4.0, 2.0, 11.0, 0.0, 20.0, 0.0, 20.0, 1.0, 0....\n",
       "2      (4.0, 1.0, 10.0, 0.0, 20.0, 0.0, 20.0, 1.0, 0....\n",
       "3      (1.0, 1.0, 10.0, 0.0, 0.0, 0.0, 0.0, 0.0, 0.0,...\n",
       "4      (3.0, 2.0, 8.0, 10.0, 13.0, 10.0, 13.0, 0.0, 0...\n",
       "...                                                  ...\n",
       "11361  (3.0, 2.0, 6.0, 31.0, 6.0, 31.0, 6.0, 0.0, 0.0...\n",
       "11362  (4.0, 2.0, 12.0, 31.0, 20.0, 31.0, 20.0, 0.0, ...\n",
       "11363  (2.0, 1.0, 10.0, 7.0, 0.0, 7.0, 0.0, 0.0, 0.0,...\n",
       "11364  (4.0, 3.0, 3.0, 16.0, 14.0, 16.0, 14.0, 0.0, 0...\n",
       "11365  (3.0, 2.0, 10.0, 13.0, 18.0, 13.0, 18.0, 0.0, ...\n",
       "\n",
       "[11366 rows x 1 columns]"
      ]
     },
     "execution_count": 43,
     "metadata": {},
     "output_type": "execute_result"
    }
   ],
   "source": [
    "df_with_assembled_features.select(\"vectorized_features\")\\\n",
    "    .distinct().toPandas()"
   ]
  },
  {
   "cell_type": "markdown",
   "metadata": {},
   "source": [
    "#### Data Scaling"
   ]
  },
  {
   "cell_type": "code",
   "execution_count": 44,
   "metadata": {},
   "outputs": [
    {
     "data": {
      "text/html": [
       "<div>\n",
       "<style scoped>\n",
       "    .dataframe tbody tr th:only-of-type {\n",
       "        vertical-align: middle;\n",
       "    }\n",
       "\n",
       "    .dataframe tbody tr th {\n",
       "        vertical-align: top;\n",
       "    }\n",
       "\n",
       "    .dataframe thead th {\n",
       "        text-align: right;\n",
       "    }\n",
       "</style>\n",
       "<table border=\"1\" class=\"dataframe\">\n",
       "  <thead>\n",
       "    <tr style=\"text-align: right;\">\n",
       "      <th></th>\n",
       "      <th>features</th>\n",
       "      <th>play_result</th>\n",
       "    </tr>\n",
       "  </thead>\n",
       "  <tbody>\n",
       "    <tr>\n",
       "      <th>0</th>\n",
       "      <td>(3.5329992052335606, 3.668981368899762, 0.2508...</td>\n",
       "      <td>5</td>\n",
       "    </tr>\n",
       "    <tr>\n",
       "      <th>1</th>\n",
       "      <td>(0.8832498013083901, 2.445987579266508, 2.5085...</td>\n",
       "      <td>-1</td>\n",
       "    </tr>\n",
       "    <tr>\n",
       "      <th>2</th>\n",
       "      <td>(1.7664996026167803, 2.445987579266508, 1.0034...</td>\n",
       "      <td>0</td>\n",
       "    </tr>\n",
       "    <tr>\n",
       "      <th>3</th>\n",
       "      <td>(3.5329992052335606, 3.668981368899762, 2.2577...</td>\n",
       "      <td>8</td>\n",
       "    </tr>\n",
       "    <tr>\n",
       "      <th>4</th>\n",
       "      <td>(1.7664996026167803, 1.222993789633254, 2.5085...</td>\n",
       "      <td>-1</td>\n",
       "    </tr>\n",
       "    <tr>\n",
       "      <th>...</th>\n",
       "      <td>...</td>\n",
       "      <td>...</td>\n",
       "    </tr>\n",
       "    <tr>\n",
       "      <th>11382</th>\n",
       "      <td>(3.5329992052335606, 1.222993789633254, 2.5085...</td>\n",
       "      <td>0</td>\n",
       "    </tr>\n",
       "    <tr>\n",
       "      <th>11383</th>\n",
       "      <td>(3.5329992052335606, 2.445987579266508, 2.0068...</td>\n",
       "      <td>23</td>\n",
       "    </tr>\n",
       "    <tr>\n",
       "      <th>11384</th>\n",
       "      <td>(0.8832498013083901, 1.222993789633254, 2.5085...</td>\n",
       "      <td>14</td>\n",
       "    </tr>\n",
       "    <tr>\n",
       "      <th>11385</th>\n",
       "      <td>(3.5329992052335606, 2.445987579266508, 1.2542...</td>\n",
       "      <td>4</td>\n",
       "    </tr>\n",
       "    <tr>\n",
       "      <th>11386</th>\n",
       "      <td>(2.6497494039251706, 1.222993789633254, 5.0171...</td>\n",
       "      <td>7</td>\n",
       "    </tr>\n",
       "  </tbody>\n",
       "</table>\n",
       "<p>11387 rows × 2 columns</p>\n",
       "</div>"
      ],
      "text/plain": [
       "                                                features  play_result\n",
       "0      (3.5329992052335606, 3.668981368899762, 0.2508...            5\n",
       "1      (0.8832498013083901, 2.445987579266508, 2.5085...           -1\n",
       "2      (1.7664996026167803, 2.445987579266508, 1.0034...            0\n",
       "3      (3.5329992052335606, 3.668981368899762, 2.2577...            8\n",
       "4      (1.7664996026167803, 1.222993789633254, 2.5085...           -1\n",
       "...                                                  ...          ...\n",
       "11382  (3.5329992052335606, 1.222993789633254, 2.5085...            0\n",
       "11383  (3.5329992052335606, 2.445987579266508, 2.0068...           23\n",
       "11384  (0.8832498013083901, 1.222993789633254, 2.5085...           14\n",
       "11385  (3.5329992052335606, 2.445987579266508, 1.2542...            4\n",
       "11386  (2.6497494039251706, 1.222993789633254, 5.0171...            7\n",
       "\n",
       "[11387 rows x 2 columns]"
      ]
     },
     "execution_count": 44,
     "metadata": {},
     "output_type": "execute_result"
    }
   ],
   "source": [
    "from pyspark.ml.feature import StandardScaler\n",
    "standard_scaler = StandardScaler(inputCol= 'vectorized_features', outputCol= 'features')\n",
    "scaled_model = standard_scaler.fit(df_with_assembled_features)\n",
    "df_with_scaled_features = scaled_model.transform(df_with_assembled_features)\n",
    "\n",
    "df_with_scaled_features.select(\"features\",\"play_result\").distinct().toPandas()"
   ]
  },
  {
   "cell_type": "markdown",
   "metadata": {},
   "source": [
    "*References:*\n",
    "\n",
    "- Farag, M. (2024). Lecture 3: SQL and Spark. Systems and Toolchains for AI Engineers.\n",
    "- Farag, M. (2024). Lecture 4: NoSQL Databases. Systems and Toolchains for AI Engineers.\n",
    "- Farag, M. (2024). Lecture 6-7: Data Engineering. Systems and Toolchains for AI Engineers.\n",
    "- https://stackoverflow.com/questions/33550983 how-to-add-a-spark-dataframe-to-the-bottom-of-another-dataframe\n",
    "- https://spark.apache.org/docs/3.4.2/api/python/reference/pyspark.sql/api/pyspark.sql.DataFrame.dropna.html\n",
    "- https://spark.apache.org/docs/3.4.2/api/python/reference/pyspark.sql/api/pyspark.sql.DataFrame.replace.html?highlight=replace#pyspark.sql.DataFrame.replace"
   ]
  },
  {
   "cell_type": "markdown",
   "metadata": {},
   "source": []
  }
 ],
 "metadata": {
  "kernelspec": {
   "display_name": "Python 3",
   "language": "python",
   "name": "python3"
  },
  "language_info": {
   "codemirror_mode": {
    "name": "ipython",
    "version": 3
   },
   "file_extension": ".py",
   "mimetype": "text/x-python",
   "name": "python",
   "nbconvert_exporter": "python",
   "pygments_lexer": "ipython3",
   "version": "3.8.18"
  }
 },
 "nbformat": 4,
 "nbformat_minor": 2
}
