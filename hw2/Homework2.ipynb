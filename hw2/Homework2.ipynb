{
 "cells": [
  {
   "cell_type": "markdown",
   "id": "f3fbb02e-a14b-4324-94ff-cc3193dae670",
   "metadata": {},
   "source": [
    "## Q1"
   ]
  },
  {
   "cell_type": "markdown",
   "id": "0173a5cd-dacf-430f-ae5b-03f3c374adfa",
   "metadata": {},
   "source": [
    "Refer to q1.sql and q1.png"
   ]
  },
  {
   "cell_type": "markdown",
   "id": "29e31ee3-04ed-4483-9dba-c468417199e6",
   "metadata": {},
   "source": [
    "## Q2"
   ]
  },
  {
   "cell_type": "code",
   "execution_count": 7,
   "id": "e338a050-fbb1-4c8a-a949-aa1db58db1e0",
   "metadata": {},
   "outputs": [],
   "source": [
    "import pyspark\n",
    "from pyspark.sql import SparkSession\n",
    "from pyspark import SparkContext, SQLContext\n",
    "\n",
    "import pandas as pd\n",
    "\n",
    "appName = \"Big Data Analytics\"\n",
    "master = \"local\"\n",
    "\n",
    "# Create Configuration object for Spark.\n",
    "conf = pyspark.SparkConf()\\\n",
    ".set('spark.driver.host','127.0.0.1')\\\n",
    ".setAppName(appName)\\\n",
    ".setMaster(master)\n",
    "\n",
    "# Create Spark Context \n",
    "sc = SparkContext.getOrCreate(conf=conf)\n",
    "\n",
    "# Create SQL Context to conduct some database operations\n",
    "sqlContext = SQLContext(sc)\n",
    "\n",
    "# If you have SQL context, you create the session from the Spark Context\n",
    "spark = sqlContext.sparkSession.builder\\\n",
    ".config(\"spark.jars.packages\", \"org.postgresql:postgresql:42.2.29\") \\\n",
    ".config(\"spark.sql.execution.arrow.enabled\",\"true\")\\\n",
    ".getOrCreate() \n",
    "\n",
    "# spark.conf.set(\"spark.sql.execution.arrow.enabled\",\"true\")\n",
    "# spark.conf.set(\"spark.jars.packages\", \"org.postgresql:postgresql:42.2.29\")"
   ]
  },
  {
   "cell_type": "code",
   "execution_count": 8,
   "id": "37267c1a-b2bf-490f-b083-483423e62ecc",
   "metadata": {},
   "outputs": [
    {
     "name": "stderr",
     "output_type": "stream",
     "text": [
      "/var/folders/5t/qhv6pkk115b3_mpr1bbc5c9c0000gn/T/ipykernel_95553/1797659306.py:8: XMLParsedAsHTMLWarning: It looks like you're parsing an XML document using an HTML parser. If this really is an HTML document (maybe it's XHTML?), you can ignore or filter this warning. If it's XML, you should know that using an XML parser will be more reliable. To parse this document as XML, make sure you have the lxml package installed, and pass the keyword argument `features=\"xml\"` into the BeautifulSoup constructor.\n",
      "  soup = BeautifulSoup(page.content, 'lxml')\n"
     ]
    }
   ],
   "source": [
    "import requests\n",
    "from bs4 import BeautifulSoup\n",
    "\n",
    "# Extract the html data -> pandasDF -> sparkDF\n",
    "url = \"http://news.google.com/rss/search?q=technology&hl=en-US&gl=US&ceid=US:en\"\n",
    "page = requests.get(url)\n",
    "\n",
    "soup = BeautifulSoup(page.content, 'lxml')\n",
    "tbl = soup.find_all('item')"
   ]
  },
  {
   "cell_type": "code",
   "execution_count": 9,
   "id": "920e6dab-a2ea-4904-9b4f-f7d8bd1087c9",
   "metadata": {},
   "outputs": [
    {
     "data": {
      "text/plain": [
       "<item><title>China Asks Its Carmakers to Keep Key EV Technology at Home - Bloomberg</title><link/>https://news.google.com/rss/articles/CBMirgFBVV95cUxNemdjcmNYY1ktLUhjTXBId1RzSG93ekhpOTFGblVnNUp1ZHE4LTV0SWhKQ1E5UmlDQmZUVlhpWWJoUjhJdnlXRmlJbVk2WFhPN1FxYjQ0U1RfV3ZJUm14U2FoSmNFbzByQW1sR2xPY25rZE1HejAycWF5WW1rNnpoVk0zNUk5NFd0d0g3MVJmeS1hb0tpMTQyaFcwdU0yYVJOUHB4TUt2dHQ1bmduZ0E?oc=5<guid ispermalink=\"false\">CBMirgFBVV95cUxNemdjcmNYY1ktLUhjTXBId1RzSG93ekhpOTFGblVnNUp1ZHE4LTV0SWhKQ1E5UmlDQmZUVlhpWWJoUjhJdnlXRmlJbVk2WFhPN1FxYjQ0U1RfV3ZJUm14U2FoSmNFbzByQW1sR2xPY25rZE1HejAycWF5WW1rNnpoVk0zNUk5NFd0d0g3MVJmeS1hb0tpMTQyaFcwdU0yYVJOUHB4TUt2dHQ1bmduZ0E</guid><pubdate>Thu, 12 Sep 2024 03:50:00 GMT</pubdate><description>&lt;a href=\"https://news.google.com/rss/articles/CBMirgFBVV95cUxNemdjcmNYY1ktLUhjTXBId1RzSG93ekhpOTFGblVnNUp1ZHE4LTV0SWhKQ1E5UmlDQmZUVlhpWWJoUjhJdnlXRmlJbVk2WFhPN1FxYjQ0U1RfV3ZJUm14U2FoSmNFbzByQW1sR2xPY25rZE1HejAycWF5WW1rNnpoVk0zNUk5NFd0d0g3MVJmeS1hb0tpMTQyaFcwdU0yYVJOUHB4TUt2dHQ1bmduZ0E?oc=5\" target=\"_blank\"&gt;China Asks Its Carmakers to Keep Key EV Technology at Home&lt;/a&gt;&amp;nbsp;&amp;nbsp;&lt;font color=\"#6f6f6f\"&gt;Bloomberg&lt;/font&gt;</description><source url=\"https://www.bloomberg.com\">Bloomberg</source></item>"
      ]
     },
     "execution_count": 9,
     "metadata": {},
     "output_type": "execute_result"
    }
   ],
   "source": [
    "tbl[0]"
   ]
  },
  {
   "cell_type": "code",
   "execution_count": 10,
   "id": "772bb563-f8d2-4aa5-a961-54711b8a8008",
   "metadata": {},
   "outputs": [],
   "source": [
    "def extract_link(test_str,sub1,sub2):\n",
    "    # getting index of substrings\n",
    "    idx1 = test_str.index(sub1)\n",
    "    idx2 = test_str.index(sub2)\n",
    "\n",
    "    res = ''\n",
    "    # getting elements in between\n",
    "    for idx in range(idx1 + len(sub1) + 1, idx2):\n",
    "        res = res + test_str[idx]\n",
    "    return res"
   ]
  },
  {
   "cell_type": "code",
   "execution_count": 11,
   "id": "b2b39b0f-53f6-4ccc-992d-76ad26c3215a",
   "metadata": {},
   "outputs": [],
   "source": [
    "data = []\n",
    "col_name = ['title','link','pub_date','description','source']\n",
    "for table in tbl:\n",
    "    title = table.find('title', recursive=False).string\n",
    "    link = extract_link(table.prettify(formatter=\"html\"),'<link/>\\n','\\n <guid')\n",
    "    pub_date = table.find('pubdate', recursive=False).string\n",
    "    desc = extract_link(table.find(\"description\").string,'target=\"_blank\"','</a>')\n",
    "    src = table.find('source', recursive=False).string\n",
    "    data.append([title, link, pub_date, desc, src])\n",
    "\n",
    "pandasDF = pd.DataFrame(data, columns=col_name)"
   ]
  },
  {
   "cell_type": "code",
   "execution_count": 12,
   "id": "f43d278f-fe6a-404e-b7ae-6488f5acf423",
   "metadata": {},
   "outputs": [
    {
     "name": "stderr",
     "output_type": "stream",
     "text": [
      "24/09/12 10:47:19 WARN SQLConf: The SQL config 'spark.sql.execution.arrow.enabled' has been deprecated in Spark v3.0 and may be removed in the future. Use 'spark.sql.execution.arrow.pyspark.enabled' instead of it.\n"
     ]
    },
    {
     "name": "stdout",
     "output_type": "stream",
     "text": [
      "root\n",
      " |-- title: string (nullable = true)\n",
      " |-- link: string (nullable = true)\n",
      " |-- pub_date: string (nullable = true)\n",
      " |-- description: string (nullable = true)\n",
      " |-- source: string (nullable = true)\n",
      "\n",
      "+--------------------+--------------------+--------------------+--------------------+--------------------+\n",
      "|               title|                link|            pub_date|         description|              source|\n",
      "+--------------------+--------------------+--------------------+--------------------+--------------------+\n",
      "|China Asks Its Ca...|https://news.goog...|Thu, 12 Sep 2024 ...|China Asks Its Ca...|           Bloomberg|\n",
      "|A new solution to...|https://news.goog...|Wed, 11 Sep 2024 ...|A new solution to...|   WCPO 9 Cincinnati|\n",
      "|China Harnesses a...|https://news.goog...|Mon, 09 Sep 2024 ...|China Harnesses a...|The Wall Street J...|\n",
      "|Students are buil...|https://news.goog...|Thu, 12 Sep 2024 ...|Students are buil...|                 CNN|\n",
      "|Adobe, Soundcloud...|https://news.goog...|Tue, 10 Sep 2024 ...|Adobe, Soundcloud...|             Digiday|\n",
      "|A new dawn for th...|https://news.goog...|Wed, 11 Sep 2024 ...|A new dawn for th...|            McKinsey|\n",
      "|Deadline for anti...|https://news.goog...|Thu, 12 Sep 2024 ...|Deadline for anti...|  Detroit Free Press|\n",
      "|Unique Technology...|https://news.goog...|Tue, 10 Sep 2024 ...|Unique Technology...|University of Cal...|\n",
      "|General Motors an...|https://news.goog...|Thu, 12 Sep 2024 ...|General Motors an...|            ABC News|\n",
      "|UK pioneers synth...|https://news.goog...|Wed, 11 Sep 2024 ...|UK pioneers synth...|     Financial Times|\n",
      "|2024 35 Innovator...|https://news.goog...|Mon, 09 Sep 2024 ...|2024 35 Innovator...|MIT Technology Re...|\n",
      "|Rackspace Technol...|https://news.goog...|Thu, 12 Sep 2024 ...|Rackspace Technol...|       GlobeNewswire|\n",
      "|State police show...|https://news.goog...|Wed, 11 Sep 2024 ...|State police show...|Boston News, Weat...|\n",
      "|Top tech, US offi...|https://news.goog...|Thu, 12 Sep 2024 ...|Top tech, US offi...|             Reuters|\n",
      "|Cloud Technology ...|https://news.goog...|Thu, 12 Sep 2024 ...|Cloud Technology ...|Engineering News-...|\n",
      "|Technology in the...|https://news.goog...|Thu, 12 Sep 2024 ...|Technology in the...|       TheJambar.com|\n",
      "|Gartner: The Top ...|https://news.goog...|Tue, 10 Sep 2024 ...|Gartner: The Top ...|        TechRepublic|\n",
      "|US-sanctioned Chi...|https://news.goog...|Thu, 12 Sep 2024 ...|US-sanctioned Chi...|South China Morni...|\n",
      "|NeoLAB Convergenc...|https://news.goog...|Thu, 12 Sep 2024 ...|NeoLAB Convergenc...|       Business Wire|\n",
      "|General Motors an...|https://news.goog...|Thu, 12 Sep 2024 ...|General Motors an...|       Yahoo Finance|\n",
      "+--------------------+--------------------+--------------------+--------------------+--------------------+\n",
      "only showing top 20 rows\n",
      "\n"
     ]
    }
   ],
   "source": [
    "#Create PySpark DataFrame from Pandas\n",
    "spark.conf.set(\"spark.sql.execution.arrow.enabled\",\"true\")\n",
    "sparkDF = spark.createDataFrame(pandasDF) \n",
    "sparkDF.printSchema()\n",
    "sparkDF.show()"
   ]
  },
  {
   "cell_type": "markdown",
   "id": "7d7ffc1b-1061-418a-a2a8-b60e6776dbe4",
   "metadata": {},
   "source": [
    "### Database Configuration"
   ]
  },
  {
   "cell_type": "code",
   "execution_count": 13,
   "id": "f3938c94-876a-4812-911a-4505ebe5d94a",
   "metadata": {},
   "outputs": [],
   "source": [
    "# Config the db properties\n",
    "db_properties = {}\n",
    "db_properties['username'] = \"postgres\"\n",
    "db_properties['password'] = \"\"\n",
    "db_properties['url'] = \"jdbc:postgresql://localhost:5432/postgres\"\n",
    "db_properties['table'] = \"news\"\n",
    "db_properties['driver'] = \"org.postgresql.Driver\""
   ]
  },
  {
   "cell_type": "code",
   "execution_count": 14,
   "id": "3e32743c-9eb2-426f-8be1-e60c71680bad",
   "metadata": {},
   "outputs": [],
   "source": [
    "# Insert the data from sparkDF into the db\n",
    "sparkDF.write.format(\"jdbc\").mode(\"overwrite\")\\\n",
    ".option(\"url\", db_properties['url'])\\\n",
    ".option(\"dbtable\", db_properties['table'])\\\n",
    ".option(\"user\", db_properties['username'])\\\n",
    ".option(\"password\", db_properties['password'])\\\n",
    ".option(\"Driver\", db_properties['driver'])\\\n",
    ".save()"
   ]
  },
  {
   "cell_type": "code",
   "execution_count": 15,
   "id": "2e889e26-7f93-4390-8ca2-f61c54a794c2",
   "metadata": {},
   "outputs": [
    {
     "name": "stdout",
     "output_type": "stream",
     "text": [
      "+--------------------+--------------------+--------------------+--------------------+--------------------+\n",
      "|               title|                link|            pub_date|         description|              source|\n",
      "+--------------------+--------------------+--------------------+--------------------+--------------------+\n",
      "|China Asks Its Ca...|https://news.goog...|Thu, 12 Sep 2024 ...|China Asks Its Ca...|           Bloomberg|\n",
      "|A new solution to...|https://news.goog...|Wed, 11 Sep 2024 ...|A new solution to...|   WCPO 9 Cincinnati|\n",
      "|China Harnesses a...|https://news.goog...|Mon, 09 Sep 2024 ...|China Harnesses a...|The Wall Street J...|\n",
      "|Students are buil...|https://news.goog...|Thu, 12 Sep 2024 ...|Students are buil...|                 CNN|\n",
      "|Adobe, Soundcloud...|https://news.goog...|Tue, 10 Sep 2024 ...|Adobe, Soundcloud...|             Digiday|\n",
      "|A new dawn for th...|https://news.goog...|Wed, 11 Sep 2024 ...|A new dawn for th...|            McKinsey|\n",
      "|Deadline for anti...|https://news.goog...|Thu, 12 Sep 2024 ...|Deadline for anti...|  Detroit Free Press|\n",
      "|Unique Technology...|https://news.goog...|Tue, 10 Sep 2024 ...|Unique Technology...|University of Cal...|\n",
      "|General Motors an...|https://news.goog...|Thu, 12 Sep 2024 ...|General Motors an...|            ABC News|\n",
      "|UK pioneers synth...|https://news.goog...|Wed, 11 Sep 2024 ...|UK pioneers synth...|     Financial Times|\n",
      "|2024 35 Innovator...|https://news.goog...|Mon, 09 Sep 2024 ...|2024 35 Innovator...|MIT Technology Re...|\n",
      "|Rackspace Technol...|https://news.goog...|Thu, 12 Sep 2024 ...|Rackspace Technol...|       GlobeNewswire|\n",
      "|State police show...|https://news.goog...|Wed, 11 Sep 2024 ...|State police show...|Boston News, Weat...|\n",
      "|Top tech, US offi...|https://news.goog...|Thu, 12 Sep 2024 ...|Top tech, US offi...|             Reuters|\n",
      "|Cloud Technology ...|https://news.goog...|Thu, 12 Sep 2024 ...|Cloud Technology ...|Engineering News-...|\n",
      "|Technology in the...|https://news.goog...|Thu, 12 Sep 2024 ...|Technology in the...|       TheJambar.com|\n",
      "|Gartner: The Top ...|https://news.goog...|Tue, 10 Sep 2024 ...|Gartner: The Top ...|        TechRepublic|\n",
      "|US-sanctioned Chi...|https://news.goog...|Thu, 12 Sep 2024 ...|US-sanctioned Chi...|South China Morni...|\n",
      "|NeoLAB Convergenc...|https://news.goog...|Thu, 12 Sep 2024 ...|NeoLAB Convergenc...|       Business Wire|\n",
      "|General Motors an...|https://news.goog...|Thu, 12 Sep 2024 ...|General Motors an...|       Yahoo Finance|\n",
      "+--------------------+--------------------+--------------------+--------------------+--------------------+\n",
      "only showing top 20 rows\n",
      "\n"
     ]
    }
   ],
   "source": [
    "# Test that the db has data\n",
    "jdbcDF = spark.read \\\n",
    "    .format(\"jdbc\") \\\n",
    "    .option(\"url\", db_properties['url']) \\\n",
    "    .option(\"dbtable\", db_properties['table']) \\\n",
    "    .option(\"user\", db_properties['username']) \\\n",
    "    .option(\"password\", db_properties['password']) \\\n",
    "    .option(\"driver\", db_properties['driver']) \\\n",
    "    .load()\n",
    "\n",
    "jdbcDF.show()"
   ]
  },
  {
   "cell_type": "markdown",
   "id": "55bc549d-f31b-4ab7-9aba-d617e8a748a7",
   "metadata": {},
   "source": [
    "Refer to q2.png"
   ]
  },
  {
   "cell_type": "markdown",
   "id": "33714efa-2869-4db9-83c6-9be1b6f3202c",
   "metadata": {},
   "source": [
    "## Q3"
   ]
  },
  {
   "cell_type": "code",
   "execution_count": 16,
   "id": "cd1a5303-0da3-468f-9057-0722a7e12c3c",
   "metadata": {},
   "outputs": [],
   "source": [
    "from datetime import datetime, timedelta\n",
    "from pyspark.sql import functions as F\n",
    "\n",
    "# Create a function to get the news that published in the last 24 hours\n",
    "def get_last_24_hours_news(df):\n",
    "    # Find the time boundary\n",
    "    last_hours = datetime.now() - timedelta(hours = 24)\n",
    "    print(\"The last 24 hours: \",last_hours)\n",
    "    \n",
    "    return df.filter(F.to_timestamp(F.regexp_replace(\"pub_date\", r'\\w{3},\\s|\\sGMT', \"\"), \"dd MMM yyyy HH:mm:ss\") > last_hours).orderBy(\"pub_date\")"
   ]
  },
  {
   "cell_type": "code",
   "execution_count": 17,
   "id": "fc6f18ca-66c5-4dc2-92e9-14255b6b492b",
   "metadata": {},
   "outputs": [
    {
     "name": "stdout",
     "output_type": "stream",
     "text": [
      "The last 24 hours:  2024-09-11 10:47:25.254918\n",
      "+--------------------+--------------------+--------------------+--------------------+--------------------+\n",
      "|               title|                link|            pub_date|         description|              source|\n",
      "+--------------------+--------------------+--------------------+--------------------+--------------------+\n",
      "|China Asks Its Ca...|https://news.goog...|Thu, 12 Sep 2024 ...|China Asks Its Ca...|           Bloomberg|\n",
      "|List of Medical D...|https://news.goog...|Thu, 12 Sep 2024 ...|List of Medical D...|       In Compliance|\n",
      "|The World's First...|https://news.goog...|Thu, 12 Sep 2024 ...|The World's First...|         PR Newswire|\n",
      "|Application detec...|https://news.goog...|Thu, 12 Sep 2024 ...|Application detec...|          CSO Online|\n",
      "|China Wants Autom...|https://news.goog...|Thu, 12 Sep 2024 ...|China Wants Autom...|            Benzinga|\n",
      "|Pennsylvania Coll...|https://news.goog...|Thu, 12 Sep 2024 ...|Pennsylvania Coll...|Williamsport Sun-...|\n",
      "|Alliants Launch 1...|https://news.goog...|Thu, 12 Sep 2024 ...|Alliants Launch 1...|     Hospitality Net|\n",
      "|Userguest Secures...|https://news.goog...|Thu, 12 Sep 2024 ...|Userguest Secures...|     Hospitality Net|\n",
      "|Prospects for met...|https://news.goog...|Thu, 12 Sep 2024 ...|Prospects for met...|             PV Tech|\n",
      "|PHINIA launches f...|https://news.goog...|Thu, 12 Sep 2024 ...|PHINIA launches f...|       Yahoo Finance|\n",
      "|The Role of Invis...|https://news.goog...|Thu, 12 Sep 2024 ...|The Role of Invis...|      Insurance Edge|\n",
      "|US-sanctioned Chi...|https://news.goog...|Thu, 12 Sep 2024 ...|US-sanctioned Chi...|South China Morni...|\n",
      "|Ambient AI Revolu...|https://news.goog...|Thu, 12 Sep 2024 ...|Ambient AI Revolu...|The Healthcare Te...|\n",
      "|Technology in the...|https://news.goog...|Thu, 12 Sep 2024 ...|Technology in the...|       TheJambar.com|\n",
      "|Dart Container ad...|https://news.goog...|Thu, 12 Sep 2024 ...|Dart Container ad...|   Packaging Gateway|\n",
      "|Meet the radio-ob...|https://news.goog...|Thu, 12 Sep 2024 ...|Meet the radio-ob...|MIT Technology Re...|\n",
      "|Meet 2024’s clima...|https://news.goog...|Thu, 12 Sep 2024 ...|Meet 2024’s clima...|MIT Technology Re...|\n",
      "|Terahertz Technol...|https://news.goog...|Thu, 12 Sep 2024 ...|Terahertz Technol...|       GlobeNewswire|\n",
      "|Apple Watch is th...|https://news.goog...|Thu, 12 Sep 2024 ...|Apple Watch is th...|        Fast Company|\n",
      "|Infineon develops...|https://news.goog...|Thu, 12 Sep 2024 ...|Infineon develops...|           DIGITIMES|\n",
      "+--------------------+--------------------+--------------------+--------------------+--------------------+\n",
      "only showing top 20 rows\n",
      "\n"
     ]
    }
   ],
   "source": [
    "last_24_hours_news = get_last_24_hours_news(jdbcDF)\n",
    "last_24_hours_news.show()"
   ]
  },
  {
   "cell_type": "markdown",
   "id": "2a3b432c-fa59-41b8-9e68-ea7767bfc0a6",
   "metadata": {},
   "source": [
    "Refer to q3.png"
   ]
  },
  {
   "cell_type": "markdown",
   "id": "90982281-4f3c-4280-9595-b3c9218c8552",
   "metadata": {},
   "source": [
    "## Q4"
   ]
  },
  {
   "cell_type": "markdown",
   "id": "3bb67801-e235-4ade-907c-e998d5006ad8",
   "metadata": {},
   "source": [
    "Refer to q4.sql"
   ]
  },
  {
   "cell_type": "code",
   "execution_count": 18,
   "id": "aeea9a95-df2b-4096-8bca-5d8ace0928bc",
   "metadata": {},
   "outputs": [],
   "source": [
    "import requests\n",
    "from bs4 import BeautifulSoup\n",
    "\n",
    "# Link extraction function\n",
    "def extract_link(test_str,sub1,sub2):\n",
    "    # Getting index of substrings\n",
    "    idx1 = test_str.index(sub1)\n",
    "    idx2 = test_str.index(sub2)\n",
    "\n",
    "    res = ''\n",
    "    # Getting elements in between\n",
    "    for idx in range(idx1 + len(sub1) + 1, idx2):\n",
    "        res = res + test_str[idx]\n",
    "    return res\n",
    "\n",
    "# Populate data from the URL function\n",
    "def populate_data(url):\n",
    "    # Request to get the html data\n",
    "    page = requests.get(url)\n",
    "\n",
    "    # Extract the html to pandasDF\n",
    "    soup = BeautifulSoup(page.content, 'lxml')\n",
    "    tbl = soup.find_all('item')\n",
    "    # tbl[0]\n",
    "\n",
    "    # Create a new pandasDF\n",
    "    data = []\n",
    "    col_name = ['title','link','pub_date','description','source']\n",
    "    for table in tbl:\n",
    "        title = table.find('title', recursive=False).string\n",
    "        link = extract_link(table.prettify(formatter=\"html\"),'<link/>\\n','\\n <guid')\n",
    "        pub_date = table.find('pubdate', recursive=False).string\n",
    "        desc = extract_link(table.find(\"description\").string,'target=\"_blank\"','</a>')\n",
    "        src = table.find('source', recursive=False).string\n",
    "        data.append([title, link, pub_date, desc, src])\n",
    "    \n",
    "    pandasDF = pd.DataFrame(data, columns=col_name)\n",
    "    return pandasDF\n",
    "\n",
    "# Convert pandasDF to sparkDF function\n",
    "def pandasDF_to_sparkDF(pandasDF):\n",
    "    sparkDF = spark.createDataFrame(pandasDF) \n",
    "    sparkDF.printSchema()\n",
    "    sparkDF.show()\n",
    "    return sparkDF\n",
    "    "
   ]
  },
  {
   "cell_type": "code",
   "execution_count": 19,
   "id": "d43f3cbe-939c-4b2c-b161-7c3eb7557299",
   "metadata": {},
   "outputs": [],
   "source": [
    "# Populate Business and Sports news\n",
    "busi_url = \"https://news.google.com/rss/search?q=business&hl=en-US&gl=US&ceid=US:en\"\n",
    "sports_url = \"https://news.google.com/rss/search?q=sports&hl=en-US&gl=US&ceid=US:en\""
   ]
  },
  {
   "cell_type": "code",
   "execution_count": 20,
   "id": "14ae8330-4ba1-46c4-950a-e5524589acd4",
   "metadata": {},
   "outputs": [
    {
     "name": "stdout",
     "output_type": "stream",
     "text": [
      "root\n",
      " |-- title: string (nullable = true)\n",
      " |-- link: string (nullable = true)\n",
      " |-- pub_date: string (nullable = true)\n",
      " |-- description: string (nullable = true)\n",
      " |-- source: string (nullable = true)\n",
      " |-- category: string (nullable = true)\n",
      "\n",
      "+--------------------+--------------------+--------------------+--------------------+--------------------+--------+\n",
      "|               title|                link|            pub_date|         description|              source|category|\n",
      "+--------------------+--------------------+--------------------+--------------------+--------------------+--------+\n",
      "|US businesses' op...|https://news.goog...|Thu, 12 Sep 2024 ...|US businesses' op...|             Reuters|business|\n",
      "|7 ChatGPT Prompts...|https://news.goog...|Wed, 11 Sep 2024 ...|7 ChatGPT Prompts...|              Forbes|business|\n",
      "|Why MrBeast could...|https://news.goog...|Thu, 12 Sep 2024 ...|Why MrBeast could...|    Business Insider|business|\n",
      "|AI’s Language Lea...|https://news.goog...|Thu, 12 Sep 2024 ...|AI’s Language Lea...|          PYMNTS.com|business|\n",
      "|CEO of Ford’s hig...|https://news.goog...|Thu, 12 Sep 2024 ...|CEO of Ford’s hig...|                CNBC|business|\n",
      "|How this Virginia...|https://news.goog...|Wed, 11 Sep 2024 ...|How this Virginia...|                WTOP|business|\n",
      "|She Started a Bus...|https://news.goog...|Wed, 11 Sep 2024 ...|She Started a Bus...|        Entrepreneur|business|\n",
      "|European business...|https://news.goog...|Wed, 11 Sep 2024 ...|European business...|The Associated Press|business|\n",
      "|Lessons from the ...|https://news.goog...|Wed, 11 Sep 2024 ...|Lessons from the ...|            Phys.org|business|\n",
      "|Rare dime expecte...|https://news.goog...|Wed, 11 Sep 2024 ...|Rare dime expecte...|        Fox Business|business|\n",
      "|I took the same g...|https://news.goog...|Thu, 12 Sep 2024 ...|I took the same g...|    Business Insider|business|\n",
      "|General Mills to ...|https://news.goog...|Thu, 12 Sep 2024 ...|General Mills to ...|The Wall Street J...|business|\n",
      "|What the Bad News...|https://news.goog...|Thu, 12 Sep 2024 ...|What the Bad News...|                Inc.|business|\n",
      "|NEW NFIB SURVEY: ...|https://news.goog...|Tue, 10 Sep 2024 ...|NEW NFIB SURVEY: ...|                NFIB|business|\n",
      "|Bitcoin Miners Pl...|https://news.goog...|Thu, 12 Sep 2024 ...|Bitcoin Miners Pl...|Investor's Busine...|business|\n",
      "|Why Man United's ...|https://news.goog...|Thu, 12 Sep 2024 ...|Why Man United's ...|                ESPN|business|\n",
      "|Why family empire...|https://news.goog...|Thu, 12 Sep 2024 ...|Why family empire...|       The Economist|business|\n",
      "|General Mills to ...|https://news.goog...|Thu, 12 Sep 2024 ...|General Mills to ...|         MarketWatch|business|\n",
      "|Ohno Cafe closing...|https://news.goog...|Thu, 12 Sep 2024 ...|Ohno Cafe closing...|       WMTW Portland|business|\n",
      "|How the Election ...|https://news.goog...|Thu, 12 Sep 2024 ...|How the Election ...|  The New York Times|business|\n",
      "+--------------------+--------------------+--------------------+--------------------+--------------------+--------+\n",
      "only showing top 20 rows\n",
      "\n"
     ]
    },
    {
     "name": "stderr",
     "output_type": "stream",
     "text": [
      "/var/folders/5t/qhv6pkk115b3_mpr1bbc5c9c0000gn/T/ipykernel_95553/4156682966.py:22: XMLParsedAsHTMLWarning: It looks like you're parsing an XML document using an HTML parser. If this really is an HTML document (maybe it's XHTML?), you can ignore or filter this warning. If it's XML, you should know that using an XML parser will be more reliable. To parse this document as XML, make sure you have the lxml package installed, and pass the keyword argument `features=\"xml\"` into the BeautifulSoup constructor.\n",
      "  soup = BeautifulSoup(page.content, 'lxml')\n"
     ]
    }
   ],
   "source": [
    "# Insert the business data into the db\n",
    "\n",
    "# Extract the data from the html\n",
    "busiDF = populate_data(busi_url)\n",
    "busiDF.loc[:, \"category\"] = \"business\"\n",
    "# Convert the business pandasDF to sparkDF\n",
    "busi_sparkDF = pandasDF_to_sparkDF(busiDF)\n",
    "# Insert into the db\n",
    "busi_sparkDF.write.format(\"jdbc\").mode(\"append\")\\\n",
    ".option(\"url\", db_properties['url'])\\\n",
    ".option(\"dbtable\", db_properties['table'])\\\n",
    ".option(\"user\", db_properties['username'])\\\n",
    ".option(\"password\", db_properties['password'])\\\n",
    ".option(\"Driver\", db_properties['driver'])\\\n",
    ".save()"
   ]
  },
  {
   "cell_type": "code",
   "execution_count": 21,
   "id": "dbb77890-4e27-4ed2-a790-a07f5b38f548",
   "metadata": {},
   "outputs": [
    {
     "name": "stdout",
     "output_type": "stream",
     "text": [
      "root\n",
      " |-- title: string (nullable = true)\n",
      " |-- link: string (nullable = true)\n",
      " |-- pub_date: string (nullable = true)\n",
      " |-- description: string (nullable = true)\n",
      " |-- source: string (nullable = true)\n",
      " |-- category: string (nullable = true)\n",
      "\n",
      "+--------------------+--------------------+--------------------+--------------------+--------------------+--------+\n",
      "|               title|                link|            pub_date|         description|              source|category|\n",
      "+--------------------+--------------------+--------------------+--------------------+--------------------+--------+\n",
      "|Sources: Pac-12 r...|https://news.goog...|Thu, 12 Sep 2024 ...|Sources: Pac-12 r...|        Yahoo Sports|  sports|\n",
      "|Is MLB's RSN mess...|https://news.goog...|Wed, 11 Sep 2024 ...|Is MLB's RSN mess...|                ESPN|  sports|\n",
      "|Report: Optimism ...|https://news.goog...|Thu, 12 Sep 2024 ...|Report: Optimism ...|          NBC Sports|  sports|\n",
      "|Lawsuit Against N...|https://news.goog...|Thu, 12 Sep 2024 ...|Lawsuit Against N...|              Forbes|  sports|\n",
      "|Baker Mayfield se...|https://news.goog...|Thu, 12 Sep 2024 ...|Baker Mayfield se...|          NBC Sports|  sports|\n",
      "|NFL expert predic...|https://news.goog...|Wed, 11 Sep 2024 ...|NFL expert predic...|          CBS Sports|  sports|\n",
      "|Sports betting is...|https://news.goog...|Thu, 12 Sep 2024 ...|Sports betting is...| The Washington Post|  sports|\n",
      "|WJBF welcomes new...|https://news.goog...|Thu, 12 Sep 2024 ...|WJBF welcomes new...|             WJBF-TV|  sports|\n",
      "|No signs of slowi...|https://news.goog...|Wed, 11 Sep 2024 ...|No signs of slowi...|                CNBC|  sports|\n",
      "|HS sports partici...|https://news.goog...|Thu, 12 Sep 2024 ...|HS sports partici...|     NorthJersey.com|  sports|\n",
      "|Pro Football Talk...|https://news.goog...|Thu, 12 Sep 2024 ...|   Pro Football Talk|          NBC Sports|  sports|\n",
      "|Colorado State an...|https://news.goog...|Thu, 12 Sep 2024 ...|Colorado State an...|           Learfield|  sports|\n",
      "|Duke Athletics Es...|https://news.goog...|Thu, 12 Sep 2024 ...|Duke Athletics Es...|          GoDuke.com|  sports|\n",
      "|Sports on TV: Thu...|https://news.goog...|Thu, 12 Sep 2024 ...|Sports on TV: Thu...|        Miami Herald|  sports|\n",
      "|Vermont H.S. spor...|https://news.goog...|Thu, 12 Sep 2024 ...|Vermont H.S. spor...|Burlington Free P...|  sports|\n",
      "|Experience UFC 30...|https://news.goog...|Thu, 12 Sep 2024 ...|Experience UFC 30...|    espnfrontrow.com|  sports|\n",
      "|CSU will move spo...|https://news.goog...|Thu, 12 Sep 2024 ...|CSU will move spo...|Colorado Public R...|  sports|\n",
      "|Scottie Scheffler...|https://news.goog...|Thu, 12 Sep 2024 ...|Scottie Scheffler...|            Sportico|  sports|\n",
      "|Building MAM Brid...|https://news.goog...|Thu, 12 Sep 2024 ...|Building MAM Brid...|  Sports Video Group|  sports|\n",
      "|NFL Week 2 Power ...|https://news.goog...|Wed, 11 Sep 2024 ...|NFL Week 2 Power ...|          CBS Sports|  sports|\n",
      "+--------------------+--------------------+--------------------+--------------------+--------------------+--------+\n",
      "only showing top 20 rows\n",
      "\n"
     ]
    },
    {
     "name": "stderr",
     "output_type": "stream",
     "text": [
      "/var/folders/5t/qhv6pkk115b3_mpr1bbc5c9c0000gn/T/ipykernel_95553/4156682966.py:22: XMLParsedAsHTMLWarning: It looks like you're parsing an XML document using an HTML parser. If this really is an HTML document (maybe it's XHTML?), you can ignore or filter this warning. If it's XML, you should know that using an XML parser will be more reliable. To parse this document as XML, make sure you have the lxml package installed, and pass the keyword argument `features=\"xml\"` into the BeautifulSoup constructor.\n",
      "  soup = BeautifulSoup(page.content, 'lxml')\n"
     ]
    }
   ],
   "source": [
    "# Insert the soprts data into the db\n",
    "\n",
    "# Extract the data from the html\n",
    "sportsDF = populate_data(sports_url)\n",
    "sportsDF.loc[:, \"category\"] = \"sports\"\n",
    "# Convert the soprts pandasDF to sparkDF\n",
    "sports_sparkDF = pandasDF_to_sparkDF(sportsDF)\n",
    "# Insert into the db\n",
    "sports_sparkDF.write.format(\"jdbc\").mode(\"append\")\\\n",
    ".option(\"url\", db_properties['url'])\\\n",
    ".option(\"dbtable\", db_properties['table'])\\\n",
    ".option(\"user\", db_properties['username'])\\\n",
    ".option(\"password\", db_properties['password'])\\\n",
    ".option(\"Driver\", db_properties['driver'])\\\n",
    ".save()"
   ]
  },
  {
   "cell_type": "code",
   "execution_count": 22,
   "id": "32bbc96d-aaf8-4273-892a-e9e68dcbdf4c",
   "metadata": {},
   "outputs": [
    {
     "name": "stdout",
     "output_type": "stream",
     "text": [
      "+----------+-----+\n",
      "|  category|count|\n",
      "+----------+-----+\n",
      "|technology|  100|\n",
      "|    sports|  100|\n",
      "|  business|  100|\n",
      "+----------+-----+\n",
      "\n"
     ]
    }
   ],
   "source": [
    "# Get the data from the db\n",
    "jdbcDF = spark.read \\\n",
    "    .format(\"jdbc\") \\\n",
    "    .option(\"url\", db_properties['url']) \\\n",
    "    .option(\"dbtable\", db_properties['table']) \\\n",
    "    .option(\"user\", db_properties['username']) \\\n",
    "    .option(\"password\", db_properties['password']) \\\n",
    "    .option(\"driver\", db_properties['driver']) \\\n",
    "    .load()\n",
    "\n",
    "jdbcDF.groupby(\"category\").count().show()"
   ]
  },
  {
   "cell_type": "markdown",
   "id": "6d2938b5-3f12-431f-9576-0a81d4ad128f",
   "metadata": {},
   "source": [
    "Refer to q4.png"
   ]
  },
  {
   "cell_type": "markdown",
   "id": "a682fdd9-7c27-41de-89b5-245f4e7adebf",
   "metadata": {},
   "source": [
    "## Q5"
   ]
  },
  {
   "cell_type": "code",
   "execution_count": 28,
   "id": "29259bf4-9ae5-4de1-89ce-b31703817b7f",
   "metadata": {},
   "outputs": [
    {
     "name": "stdout",
     "output_type": "stream",
     "text": [
      "+--------------------+--------------------+--------------------+--------------------+--------------------+----------+\n",
      "|               title|                link|            pub_date|         description|              source|  category|\n",
      "+--------------------+--------------------+--------------------+--------------------+--------------------+----------+\n",
      "|China Asks Its Ca...|https://news.goog...|Thu, 12 Sep 2024 ...|China Asks Its Ca...|           Bloomberg|technology|\n",
      "|A new solution to...|https://news.goog...|Wed, 11 Sep 2024 ...|A new solution to...|   WCPO 9 Cincinnati|technology|\n",
      "|China Harnesses a...|https://news.goog...|Mon, 09 Sep 2024 ...|China Harnesses a...|The Wall Street J...|technology|\n",
      "|Students are buil...|https://news.goog...|Thu, 12 Sep 2024 ...|Students are buil...|                 CNN|technology|\n",
      "|Adobe, Soundcloud...|https://news.goog...|Tue, 10 Sep 2024 ...|Adobe, Soundcloud...|             Digiday|technology|\n",
      "|A new dawn for th...|https://news.goog...|Wed, 11 Sep 2024 ...|A new dawn for th...|            McKinsey|technology|\n",
      "|Deadline for anti...|https://news.goog...|Thu, 12 Sep 2024 ...|Deadline for anti...|  Detroit Free Press|technology|\n",
      "|Unique Technology...|https://news.goog...|Tue, 10 Sep 2024 ...|Unique Technology...|University of Cal...|technology|\n",
      "|General Motors an...|https://news.goog...|Thu, 12 Sep 2024 ...|General Motors an...|            ABC News|technology|\n",
      "|UK pioneers synth...|https://news.goog...|Wed, 11 Sep 2024 ...|UK pioneers synth...|     Financial Times|technology|\n",
      "|2024 35 Innovator...|https://news.goog...|Mon, 09 Sep 2024 ...|2024 35 Innovator...|MIT Technology Re...|technology|\n",
      "|Rackspace Technol...|https://news.goog...|Thu, 12 Sep 2024 ...|Rackspace Technol...|       GlobeNewswire|technology|\n",
      "|State police show...|https://news.goog...|Wed, 11 Sep 2024 ...|State police show...|Boston News, Weat...|technology|\n",
      "|Top tech, US offi...|https://news.goog...|Thu, 12 Sep 2024 ...|Top tech, US offi...|             Reuters|technology|\n",
      "|Cloud Technology ...|https://news.goog...|Thu, 12 Sep 2024 ...|Cloud Technology ...|Engineering News-...|technology|\n",
      "|Technology in the...|https://news.goog...|Thu, 12 Sep 2024 ...|Technology in the...|       TheJambar.com|technology|\n",
      "|Gartner: The Top ...|https://news.goog...|Tue, 10 Sep 2024 ...|Gartner: The Top ...|        TechRepublic|technology|\n",
      "|US-sanctioned Chi...|https://news.goog...|Thu, 12 Sep 2024 ...|US-sanctioned Chi...|South China Morni...|technology|\n",
      "|NeoLAB Convergenc...|https://news.goog...|Thu, 12 Sep 2024 ...|NeoLAB Convergenc...|       Business Wire|technology|\n",
      "|General Motors an...|https://news.goog...|Thu, 12 Sep 2024 ...|General Motors an...|       Yahoo Finance|technology|\n",
      "+--------------------+--------------------+--------------------+--------------------+--------------------+----------+\n",
      "only showing top 20 rows\n",
      "\n"
     ]
    }
   ],
   "source": [
    "# Get the data from the db\n",
    "jdbcDF = spark.read \\\n",
    "    .format(\"jdbc\") \\\n",
    "    .option(\"url\", db_properties['url']) \\\n",
    "    .option(\"dbtable\", db_properties['table']) \\\n",
    "    .option(\"user\", db_properties['username']) \\\n",
    "    .option(\"password\", db_properties['password']) \\\n",
    "    .option(\"driver\", db_properties['driver']) \\\n",
    "    .load()\n",
    "\n",
    "jdbcDF.show()"
   ]
  },
  {
   "cell_type": "code",
   "execution_count": 29,
   "id": "9da5a59c-48c0-4915-8885-2573d2d02afd",
   "metadata": {},
   "outputs": [],
   "source": [
    "no_NLF_jdbcDF = jdbcDF.filter(~jdbcDF.title.like(\"%NFL%\"))"
   ]
  },
  {
   "cell_type": "code",
   "execution_count": 24,
   "id": "8ca02a34-5308-4029-83f5-e6834785caec",
   "metadata": {},
   "outputs": [
    {
     "name": "stdout",
     "output_type": "stream",
     "text": [
      "+--------------------+--------------------+--------------------+--------------------+--------------------+----------+\n",
      "|               title|                link|            pub_date|         description|              source|  category|\n",
      "+--------------------+--------------------+--------------------+--------------------+--------------------+----------+\n",
      "|China Asks Its Ca...|https://news.goog...|Thu, 12 Sep 2024 ...|China Asks Its Ca...|           Bloomberg|technology|\n",
      "|A new solution to...|https://news.goog...|Wed, 11 Sep 2024 ...|A new solution to...|   WCPO 9 Cincinnati|technology|\n",
      "|China Harnesses a...|https://news.goog...|Mon, 09 Sep 2024 ...|China Harnesses a...|The Wall Street J...|technology|\n",
      "|Students are buil...|https://news.goog...|Thu, 12 Sep 2024 ...|Students are buil...|                 CNN|technology|\n",
      "|Adobe, Soundcloud...|https://news.goog...|Tue, 10 Sep 2024 ...|Adobe, Soundcloud...|             Digiday|technology|\n",
      "|A new dawn for th...|https://news.goog...|Wed, 11 Sep 2024 ...|A new dawn for th...|            McKinsey|technology|\n",
      "|Deadline for anti...|https://news.goog...|Thu, 12 Sep 2024 ...|Deadline for anti...|  Detroit Free Press|technology|\n",
      "|Unique Technology...|https://news.goog...|Tue, 10 Sep 2024 ...|Unique Technology...|University of Cal...|technology|\n",
      "|General Motors an...|https://news.goog...|Thu, 12 Sep 2024 ...|General Motors an...|            ABC News|technology|\n",
      "|UK pioneers synth...|https://news.goog...|Wed, 11 Sep 2024 ...|UK pioneers synth...|     Financial Times|technology|\n",
      "|2024 35 Innovator...|https://news.goog...|Mon, 09 Sep 2024 ...|2024 35 Innovator...|MIT Technology Re...|technology|\n",
      "|Rackspace Technol...|https://news.goog...|Thu, 12 Sep 2024 ...|Rackspace Technol...|       GlobeNewswire|technology|\n",
      "|State police show...|https://news.goog...|Wed, 11 Sep 2024 ...|State police show...|Boston News, Weat...|technology|\n",
      "|Top tech, US offi...|https://news.goog...|Thu, 12 Sep 2024 ...|Top tech, US offi...|             Reuters|technology|\n",
      "|Cloud Technology ...|https://news.goog...|Thu, 12 Sep 2024 ...|Cloud Technology ...|Engineering News-...|technology|\n",
      "|Technology in the...|https://news.goog...|Thu, 12 Sep 2024 ...|Technology in the...|       TheJambar.com|technology|\n",
      "|Gartner: The Top ...|https://news.goog...|Tue, 10 Sep 2024 ...|Gartner: The Top ...|        TechRepublic|technology|\n",
      "|US-sanctioned Chi...|https://news.goog...|Thu, 12 Sep 2024 ...|US-sanctioned Chi...|South China Morni...|technology|\n",
      "|NeoLAB Convergenc...|https://news.goog...|Thu, 12 Sep 2024 ...|NeoLAB Convergenc...|       Business Wire|technology|\n",
      "|General Motors an...|https://news.goog...|Thu, 12 Sep 2024 ...|General Motors an...|       Yahoo Finance|technology|\n",
      "+--------------------+--------------------+--------------------+--------------------+--------------------+----------+\n",
      "only showing top 20 rows\n",
      "\n"
     ]
    }
   ],
   "source": [
    "no_NLF_jdbcDF.show()"
   ]
  },
  {
   "cell_type": "code",
   "execution_count": 33,
   "id": "2e852ee1-c47c-49fc-9384-8457e19c5b43",
   "metadata": {},
   "outputs": [
    {
     "name": "stderr",
     "output_type": "stream",
     "text": [
      "24/09/12 10:53:30 WARN CacheManager: Asked to cache already cached data.\n"
     ]
    },
    {
     "data": {
      "text/plain": [
       "DataFrame[title: string, link: string, pub_date: string, description: string, source: string, category: string]"
      ]
     },
     "execution_count": 33,
     "metadata": {},
     "output_type": "execute_result"
    }
   ],
   "source": [
    "# Need to do cache to solve empty inserted data to the db\n",
    "no_NLF_jdbcDF.cache()"
   ]
  },
  {
   "cell_type": "code",
   "execution_count": 31,
   "id": "00b314ae-bd56-4a63-805f-322d0deb947b",
   "metadata": {},
   "outputs": [
    {
     "name": "stdout",
     "output_type": "stream",
     "text": [
      "+--------------------+--------------------+--------------------+--------------------+--------------------+----------+\n",
      "|               title|                link|            pub_date|         description|              source|  category|\n",
      "+--------------------+--------------------+--------------------+--------------------+--------------------+----------+\n",
      "|China Asks Its Ca...|https://news.goog...|Thu, 12 Sep 2024 ...|China Asks Its Ca...|           Bloomberg|technology|\n",
      "|A new solution to...|https://news.goog...|Wed, 11 Sep 2024 ...|A new solution to...|   WCPO 9 Cincinnati|technology|\n",
      "|China Harnesses a...|https://news.goog...|Mon, 09 Sep 2024 ...|China Harnesses a...|The Wall Street J...|technology|\n",
      "|Students are buil...|https://news.goog...|Thu, 12 Sep 2024 ...|Students are buil...|                 CNN|technology|\n",
      "|Adobe, Soundcloud...|https://news.goog...|Tue, 10 Sep 2024 ...|Adobe, Soundcloud...|             Digiday|technology|\n",
      "|A new dawn for th...|https://news.goog...|Wed, 11 Sep 2024 ...|A new dawn for th...|            McKinsey|technology|\n",
      "|Deadline for anti...|https://news.goog...|Thu, 12 Sep 2024 ...|Deadline for anti...|  Detroit Free Press|technology|\n",
      "|Unique Technology...|https://news.goog...|Tue, 10 Sep 2024 ...|Unique Technology...|University of Cal...|technology|\n",
      "|General Motors an...|https://news.goog...|Thu, 12 Sep 2024 ...|General Motors an...|            ABC News|technology|\n",
      "|UK pioneers synth...|https://news.goog...|Wed, 11 Sep 2024 ...|UK pioneers synth...|     Financial Times|technology|\n",
      "|2024 35 Innovator...|https://news.goog...|Mon, 09 Sep 2024 ...|2024 35 Innovator...|MIT Technology Re...|technology|\n",
      "|Rackspace Technol...|https://news.goog...|Thu, 12 Sep 2024 ...|Rackspace Technol...|       GlobeNewswire|technology|\n",
      "|State police show...|https://news.goog...|Wed, 11 Sep 2024 ...|State police show...|Boston News, Weat...|technology|\n",
      "|Top tech, US offi...|https://news.goog...|Thu, 12 Sep 2024 ...|Top tech, US offi...|             Reuters|technology|\n",
      "|Cloud Technology ...|https://news.goog...|Thu, 12 Sep 2024 ...|Cloud Technology ...|Engineering News-...|technology|\n",
      "|Technology in the...|https://news.goog...|Thu, 12 Sep 2024 ...|Technology in the...|       TheJambar.com|technology|\n",
      "|Gartner: The Top ...|https://news.goog...|Tue, 10 Sep 2024 ...|Gartner: The Top ...|        TechRepublic|technology|\n",
      "|US-sanctioned Chi...|https://news.goog...|Thu, 12 Sep 2024 ...|US-sanctioned Chi...|South China Morni...|technology|\n",
      "|NeoLAB Convergenc...|https://news.goog...|Thu, 12 Sep 2024 ...|NeoLAB Convergenc...|       Business Wire|technology|\n",
      "|General Motors an...|https://news.goog...|Thu, 12 Sep 2024 ...|General Motors an...|       Yahoo Finance|technology|\n",
      "+--------------------+--------------------+--------------------+--------------------+--------------------+----------+\n",
      "only showing top 20 rows\n",
      "\n"
     ]
    }
   ],
   "source": [
    "# Activate the cache() function with any functions\n",
    "no_NLF_jdbcDF.show() "
   ]
  },
  {
   "cell_type": "code",
   "execution_count": 32,
   "id": "fe34ae6c-d4ad-4711-8e2d-921272820f90",
   "metadata": {},
   "outputs": [],
   "source": [
    "# Update into the db\n",
    "no_NLF_jdbcDF.write.format(\"jdbc\").mode(\"overwrite\")\\\n",
    ".option(\"url\", db_properties['url'])\\\n",
    ".option(\"dbtable\", db_properties['table'])\\\n",
    ".option(\"user\", db_properties['username'])\\\n",
    ".option(\"password\", db_properties['password'])\\\n",
    ".option(\"Driver\", db_properties['driver'])\\\n",
    ".save()"
   ]
  },
  {
   "cell_type": "markdown",
   "id": "3f097262-7f51-464c-9a9b-1c777ec1066d",
   "metadata": {},
   "source": [
    "Refer to q5.png"
   ]
  },
  {
   "cell_type": "markdown",
   "id": "5e941222-a86a-41f2-9fc4-08ecefeaaa3c",
   "metadata": {},
   "source": [
    "## Q6"
   ]
  },
  {
   "cell_type": "markdown",
   "id": "6e36a1c4-fc8f-4f17-8e97-0f0a81039c93",
   "metadata": {},
   "source": [
    "Refer to q6.png"
   ]
  },
  {
   "cell_type": "code",
   "execution_count": null,
   "id": "4bffcd0e-626e-4c9f-8fe3-c424fca69542",
   "metadata": {},
   "outputs": [],
   "source": []
  }
 ],
 "metadata": {
  "kernelspec": {
   "display_name": "Python 3 (ipykernel)",
   "language": "python",
   "name": "python3"
  },
  "language_info": {
   "codemirror_mode": {
    "name": "ipython",
    "version": 3
   },
   "file_extension": ".py",
   "mimetype": "text/x-python",
   "name": "python",
   "nbconvert_exporter": "python",
   "pygments_lexer": "ipython3",
   "version": "3.8.18"
  }
 },
 "nbformat": 4,
 "nbformat_minor": 5
}
